{
 "cells": [
  {
   "cell_type": "markdown",
   "id": "8fc5f99a",
   "metadata": {},
   "source": [
    "## Streamlit for NLP"
   ]
  },
  {
   "cell_type": "markdown",
   "id": "a5cf75ae",
   "metadata": {},
   "source": [
    "- To perform basic and useful NLP task with Streamlit and Gensim"
   ]
  },
  {
   "cell_type": "code",
   "execution_count": 2,
   "id": "096a2893",
   "metadata": {},
   "outputs": [],
   "source": [
    "import pickle\n",
    "import matplotlib.pyplot as plt\n",
    "import numpy as np\n",
    "import pandas as pd\n",
    "import seaborn as sns\n",
    "import streamlit as st\n",
    "from sklearn.feature_extraction.text import TfidfVectorizer\n",
    "from sklearn.metrics import (accuracy_score, classification_report,\n",
    "                             confusion_matrix, roc_auc_score)\n",
    "from sklearn.model_selection import GridSearchCV, train_test_split\n",
    "from sklearn.pipeline import make_pipeline\n",
    "from sklearn.svm import SVC\n",
    "\n",
    "sns.set_style('whitegrid')"
   ]
  },
  {
   "cell_type": "code",
   "execution_count": 3,
   "id": "71fe86e3",
   "metadata": {},
   "outputs": [],
   "source": [
    "import re\n",
    "import unicodedata\n",
    "\n",
    "import contractions\n",
    "import gensim\n",
    "import gensim.downloader as api\n",
    "import nltk\n",
    "import pyLDAvis\n",
    "import pyLDAvis.gensim_models\n",
    "import pyLDAvis.gensim_models as gensimvi\n",
    "import base64"
   ]
  },
  {
   "cell_type": "code",
   "execution_count": 4,
   "id": "548c0ad8",
   "metadata": {},
   "outputs": [
    {
     "name": "stderr",
     "output_type": "stream",
     "text": [
      "[nltk_data] Downloading package punkt to\n",
      "[nltk_data]     C:\\Users\\peini\\AppData\\Roaming\\nltk_data...\n",
      "[nltk_data]   Package punkt is already up-to-date!\n",
      "[nltk_data] Downloading package wordnet to\n",
      "[nltk_data]     C:\\Users\\peini\\AppData\\Roaming\\nltk_data...\n",
      "[nltk_data]   Package wordnet is already up-to-date!\n",
      "[nltk_data] Downloading package stopwords to\n",
      "[nltk_data]     C:\\Users\\peini\\AppData\\Roaming\\nltk_data...\n",
      "[nltk_data]   Package stopwords is already up-to-date!\n",
      "[nltk_data] Downloading package averaged_perceptron_tagger to\n",
      "[nltk_data]     C:\\Users\\peini\\AppData\\Roaming\\nltk_data...\n",
      "[nltk_data]   Package averaged_perceptron_tagger is already up-to-\n",
      "[nltk_data]       date!\n"
     ]
    }
   ],
   "source": [
    "from cleantext import clean\n",
    "from gensim import corpora\n",
    "from gensim.corpora.dictionary import Dictionary\n",
    "from gensim.models.coherencemodel import CoherenceModel\n",
    "from gensim.models.keyedvectors import KeyedVectors\n",
    "# from gensim.summarization import keywords\n",
    "from gensim.test.utils import common_texts\n",
    "nltk.download('punkt')\n",
    "nltk.download('wordnet')\n",
    "nltk.download('stopwords')\n",
    "nltk.download('averaged_perceptron_tagger')\n",
    "from nltk.corpus import stopwords, wordnet\n",
    "from nltk.stem import PorterStemmer, WordNetLemmatizer\n",
    "from nltk.tokenize import word_tokenize\n",
    "from sklearn.feature_extraction.text import (CountVectorizer, TfidfTransformer,\n",
    "                                             TfidfVectorizer)\n",
    "from textblob import TextBlob\n",
    "from wordcloud import WordCloud"
   ]
  },
  {
   "cell_type": "code",
   "execution_count": 5,
   "id": "1ab8ee47",
   "metadata": {},
   "outputs": [],
   "source": [
    "import streamlit as st  \n",
    "from textblob import TextBlob\n",
    "import pandas as pd\n",
    "import altair as alt\n",
    "# from vaderSentiment.vaderSentiment import SentimentIntensityAnalyzer"
   ]
  },
  {
   "cell_type": "code",
   "execution_count": 6,
   "id": "9bac0508",
   "metadata": {},
   "outputs": [
    {
     "name": "stderr",
     "output_type": "stream",
     "text": [
      "[nltk_data] Downloading package vader_lexicon to\n",
      "[nltk_data]     C:\\Users\\peini\\AppData\\Roaming\\nltk_data...\n",
      "[nltk_data]   Package vader_lexicon is already up-to-date!\n"
     ]
    },
    {
     "data": {
      "text/plain": [
       "True"
      ]
     },
     "execution_count": 6,
     "metadata": {},
     "output_type": "execute_result"
    }
   ],
   "source": [
    "from nltk.sentiment import SentimentIntensityAnalyzer\n",
    "\n",
    "nltk.download('vader_lexicon')"
   ]
  },
  {
   "cell_type": "code",
   "execution_count": 7,
   "id": "cc0926d7",
   "metadata": {},
   "outputs": [],
   "source": [
    "def convert_to_df(sentiment):\n",
    "    sentiment_dict = {'polarity':sentiment.polarity,'subjectivity':sentiment.subjectivity}\n",
    "    sentiment_df = pd.DataFrame(sentiment_dict.items(),columns=['metric','value'])\n",
    "    return sentiment_df"
   ]
  },
  {
   "cell_type": "code",
   "execution_count": 8,
   "id": "d92c7a70",
   "metadata": {},
   "outputs": [],
   "source": [
    "def analyze_token_sentiment(docx):\n",
    "    analyzer = SentimentIntensityAnalyzer()\n",
    "    pos_list = []\n",
    "    neg_list = []\n",
    "    neu_list = []\n",
    "    for i in docx.split():\n",
    "        res = analyzer.polarity_scores(i)['compound']\n",
    "        if res > 0.1:\n",
    "            pos_list.append(i)\n",
    "            pos_list.append(res)\n",
    "\n",
    "        elif res <= -0.1:\n",
    "            neg_list.append(i)\n",
    "            neg_list.append(res)\n",
    "        else:\n",
    "            neu_list.append(i)\n",
    "\n",
    "    result = {'positives':pos_list,'negatives':neg_list,'neutral':neu_list}\n",
    "    return result "
   ]
  },
  {
   "cell_type": "code",
   "execution_count": 10,
   "id": "a8cf67ac",
   "metadata": {},
   "outputs": [],
   "source": [
    "def main():\n",
    "    st.title(\"Amazon The North Face Sentiment Analysis & Topic Modelling NLP App\")\n",
    "    st.subheader(\"Streamlit Projects\")\n",
    "\n",
    "    menu = [\"Home\",\"About\"]\n",
    "    choice = st.sidebar.selectbox(\"Menu\",menu)\n",
    "\n",
    "    if choice == \"Home\":\n",
    "        st.subheader(\"Home\")\n",
    "        with st.form(key='nlpForm'):\n",
    "            raw_text = st.text_area(\"Enter Text Here\")\n",
    "            submit_button = st.form_submit_button(label='Analyze')\n",
    "\n",
    "        # layout\n",
    "        col1,col2 = st.columns(2)\n",
    "        \n",
    "        \n",
    "#         if submit_button:\n",
    "\n",
    "#              with col1:\n",
    "#                 st.info(\"Results\")\n",
    "#                 sentiment = TextBlob(raw_text).sentiment\n",
    "#                 st.write(sentiment)\n",
    "\n",
    "#                 # Emoji\n",
    "#                 if sentiment.polarity > 0:\n",
    "#                     st.markdown(\"Sentiment:: Positive :smiley: \")\n",
    "#                 elif sentiment.polarity < 0:\n",
    "#                     st.markdown(\"Sentiment:: Negative :angry: \")\n",
    "#                 else:\n",
    "#                     st.markdown(\"Sentiment:: Neutral 😐 \")\n",
    "\n",
    "#                 # Dataframe\n",
    "#                 result_df = convert_to_df(sentiment)\n",
    "#                 st.dataframe(result_df)\n",
    "\n",
    "#                 # Visualization\n",
    "#                 c = alt.Chart(result_df).mark_bar().encode(\n",
    "#                     x='metric',\n",
    "#                     y='value',\n",
    "#                     color='metric')\n",
    "#                 st.altair_chart(c,use_container_width=True)\n",
    "\n",
    "        if submit_button:\n",
    "        \n",
    "            with col1:\n",
    "                st.info(\"Results\")\n",
    "                sentiment = TextBlob(raw_text).sentiment\n",
    "                st.write(sentiment)\n",
    "\n",
    "                # Emoji\n",
    "                if sentiment.polarity > 0:\n",
    "                    st.markdown(\"Sentiment: Positive 😃\")\n",
    "                elif sentiment.polarity < 0:\n",
    "                    st.markdown(\"Sentiment: Negative 😠\")\n",
    "                else:\n",
    "                    st.markdown(\"Sentiment: Neutral 😐\")\n",
    "\n",
    "                # Dataframe\n",
    "                result_df = convert_to_df(sentiment)\n",
    "                st.dataframe(result_df)\n",
    "\n",
    "                # Visualization\n",
    "                c = alt.Chart(result_df).mark_bar().encode(\n",
    "                    x='metric',\n",
    "                    y='value',\n",
    "                    color='metric')\n",
    "                st.altair_chart(c, use_container_width=True)\n",
    "\n",
    "\n",
    "\n",
    "            with col2:\n",
    "                st.info(\"Token Sentiment\")\n",
    "\n",
    "                token_sentiments = analyze_token_sentiment(raw_text)\n",
    "                st.write(token_sentiments)\n",
    "\n",
    "    else:\n",
    "        st.subheader(\"About\")\n",
    "\n",
    "\n",
    "if __name__ == '__main__':\n",
    "    main()"
   ]
  }
 ],
 "metadata": {
  "kernelspec": {
   "display_name": "Python 3 (ipykernel)",
   "language": "python",
   "name": "python3"
  },
  "language_info": {
   "codemirror_mode": {
    "name": "ipython",
    "version": 3
   },
   "file_extension": ".py",
   "mimetype": "text/x-python",
   "name": "python",
   "nbconvert_exporter": "python",
   "pygments_lexer": "ipython3",
   "version": "3.9.12"
  }
 },
 "nbformat": 4,
 "nbformat_minor": 5
}
