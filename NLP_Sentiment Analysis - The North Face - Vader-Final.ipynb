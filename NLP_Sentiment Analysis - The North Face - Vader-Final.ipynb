{
 "cells": [
  {
   "cell_type": "markdown",
   "id": "3468433b",
   "metadata": {},
   "source": [
    "# Natutal Language Processing (NLP) - Sentiment Analysis"
   ]
  },
  {
   "cell_type": "markdown",
   "id": "e32e08c7",
   "metadata": {},
   "source": [
    "## The North Face"
   ]
  },
  {
   "cell_type": "markdown",
   "id": "730c3602",
   "metadata": {},
   "source": [
    "VADER (Valence Aware Dictionary and Sentiment Reasoner) - Bag of words approach"
   ]
  },
  {
   "cell_type": "markdown",
   "id": "0338b940",
   "metadata": {},
   "source": [
    "Roberta Pretrained Model from 🤗"
   ]
  },
  {
   "cell_type": "markdown",
   "id": "a466e9d2",
   "metadata": {},
   "source": [
    "Huggingface Pipeline"
   ]
  },
  {
   "cell_type": "markdown",
   "id": "80aeb215",
   "metadata": {},
   "source": [
    "### 1) Read in Data and NLTK Basics"
   ]
  },
  {
   "cell_type": "code",
   "execution_count": 12,
   "id": "eed1c076",
   "metadata": {},
   "outputs": [
    {
     "name": "stdout",
     "output_type": "stream",
     "text": [
      "Collecting textblob\n",
      "  Downloading textblob-0.17.1-py2.py3-none-any.whl (636 kB)\n",
      "Requirement already satisfied: nltk>=3.1 in c:\\users\\peini\\anaconda3\\lib\\site-packages (from textblob) (3.7)\n",
      "Requirement already satisfied: regex>=2021.8.3 in c:\\users\\peini\\anaconda3\\lib\\site-packages (from nltk>=3.1->textblob) (2022.3.15)\n",
      "Requirement already satisfied: tqdm in c:\\users\\peini\\anaconda3\\lib\\site-packages (from nltk>=3.1->textblob) (4.64.0)\n",
      "Requirement already satisfied: joblib in c:\\users\\peini\\anaconda3\\lib\\site-packages (from nltk>=3.1->textblob) (1.1.0)\n",
      "Requirement already satisfied: click in c:\\users\\peini\\anaconda3\\lib\\site-packages (from nltk>=3.1->textblob) (8.0.4)\n",
      "Requirement already satisfied: colorama in c:\\users\\peini\\anaconda3\\lib\\site-packages (from click->nltk>=3.1->textblob) (0.4.4)\n",
      "Installing collected packages: textblob\n",
      "Successfully installed textblob-0.17.1\n",
      "Note: you may need to restart the kernel to use updated packages.\n"
     ]
    }
   ],
   "source": [
    "pip install textblob"
   ]
  },
  {
   "cell_type": "code",
   "execution_count": 14,
   "id": "deb63bb1",
   "metadata": {},
   "outputs": [
    {
     "name": "stdout",
     "output_type": "stream",
     "text": [
      "Collecting wordcloud\n",
      "  Downloading wordcloud-1.9.2-cp39-cp39-win_amd64.whl (153 kB)\n",
      "Requirement already satisfied: pillow in c:\\users\\peini\\anaconda3\\lib\\site-packages (from wordcloud) (9.0.1)\n",
      "Requirement already satisfied: numpy>=1.6.1 in c:\\users\\peini\\anaconda3\\lib\\site-packages (from wordcloud) (1.21.5)\n",
      "Requirement already satisfied: matplotlib in c:\\users\\peini\\anaconda3\\lib\\site-packages (from wordcloud) (3.5.1)\n",
      "Requirement already satisfied: packaging>=20.0 in c:\\users\\peini\\anaconda3\\lib\\site-packages (from matplotlib->wordcloud) (21.3)\n",
      "Requirement already satisfied: pyparsing>=2.2.1 in c:\\users\\peini\\anaconda3\\lib\\site-packages (from matplotlib->wordcloud) (3.0.4)\n",
      "Requirement already satisfied: cycler>=0.10 in c:\\users\\peini\\anaconda3\\lib\\site-packages (from matplotlib->wordcloud) (0.11.0)\n",
      "Requirement already satisfied: fonttools>=4.22.0 in c:\\users\\peini\\anaconda3\\lib\\site-packages (from matplotlib->wordcloud) (4.25.0)\n",
      "Requirement already satisfied: python-dateutil>=2.7 in c:\\users\\peini\\anaconda3\\lib\\site-packages (from matplotlib->wordcloud) (2.8.2)\n",
      "Requirement already satisfied: kiwisolver>=1.0.1 in c:\\users\\peini\\anaconda3\\lib\\site-packages (from matplotlib->wordcloud) (1.3.2)\n",
      "Requirement already satisfied: six>=1.5 in c:\\users\\peini\\anaconda3\\lib\\site-packages (from python-dateutil>=2.7->matplotlib->wordcloud) (1.16.0)\n",
      "Installing collected packages: wordcloud\n",
      "Successfully installed wordcloud-1.9.2\n",
      "Note: you may need to restart the kernel to use updated packages.\n"
     ]
    }
   ],
   "source": [
    "pip install wordcloud"
   ]
  },
  {
   "cell_type": "code",
   "execution_count": 16,
   "id": "35681010",
   "metadata": {},
   "outputs": [
    {
     "name": "stdout",
     "output_type": "stream",
     "text": [
      "Collecting cufflinks\n",
      "  Downloading cufflinks-0.17.3.tar.gz (81 kB)\n",
      "Requirement already satisfied: numpy>=1.9.2 in c:\\users\\peini\\anaconda3\\lib\\site-packages (from cufflinks) (1.21.5)\n",
      "Requirement already satisfied: pandas>=0.19.2 in c:\\users\\peini\\anaconda3\\lib\\site-packages (from cufflinks) (1.4.2)\n",
      "Requirement already satisfied: plotly>=4.1.1 in c:\\users\\peini\\anaconda3\\lib\\site-packages (from cufflinks) (5.6.0)\n",
      "Requirement already satisfied: six>=1.9.0 in c:\\users\\peini\\anaconda3\\lib\\site-packages (from cufflinks) (1.16.0)\n",
      "Collecting colorlover>=0.2.1\n",
      "  Downloading colorlover-0.3.0-py3-none-any.whl (8.9 kB)\n",
      "Requirement already satisfied: setuptools>=34.4.1 in c:\\users\\peini\\anaconda3\\lib\\site-packages (from cufflinks) (61.2.0)\n",
      "Requirement already satisfied: ipython>=5.3.0 in c:\\users\\peini\\anaconda3\\lib\\site-packages (from cufflinks) (8.2.0)\n",
      "Requirement already satisfied: ipywidgets>=7.0.0 in c:\\users\\peini\\anaconda3\\lib\\site-packages (from cufflinks) (7.6.5)\n",
      "Requirement already satisfied: stack-data in c:\\users\\peini\\anaconda3\\lib\\site-packages (from ipython>=5.3.0->cufflinks) (0.2.0)\n",
      "Requirement already satisfied: matplotlib-inline in c:\\users\\peini\\anaconda3\\lib\\site-packages (from ipython>=5.3.0->cufflinks) (0.1.2)\n",
      "Requirement already satisfied: pickleshare in c:\\users\\peini\\anaconda3\\lib\\site-packages (from ipython>=5.3.0->cufflinks) (0.7.5)\n",
      "Requirement already satisfied: prompt-toolkit!=3.0.0,!=3.0.1,<3.1.0,>=2.0.0 in c:\\users\\peini\\anaconda3\\lib\\site-packages (from ipython>=5.3.0->cufflinks) (3.0.20)\n",
      "Requirement already satisfied: pygments>=2.4.0 in c:\\users\\peini\\anaconda3\\lib\\site-packages (from ipython>=5.3.0->cufflinks) (2.11.2)\n",
      "Requirement already satisfied: colorama in c:\\users\\peini\\anaconda3\\lib\\site-packages (from ipython>=5.3.0->cufflinks) (0.4.4)\n",
      "Requirement already satisfied: decorator in c:\\users\\peini\\anaconda3\\lib\\site-packages (from ipython>=5.3.0->cufflinks) (5.1.1)\n",
      "Requirement already satisfied: traitlets>=5 in c:\\users\\peini\\anaconda3\\lib\\site-packages (from ipython>=5.3.0->cufflinks) (5.1.1)\n",
      "Requirement already satisfied: jedi>=0.16 in c:\\users\\peini\\anaconda3\\lib\\site-packages (from ipython>=5.3.0->cufflinks) (0.18.1)\n",
      "Requirement already satisfied: backcall in c:\\users\\peini\\anaconda3\\lib\\site-packages (from ipython>=5.3.0->cufflinks) (0.2.0)\n",
      "Requirement already satisfied: ipython-genutils~=0.2.0 in c:\\users\\peini\\anaconda3\\lib\\site-packages (from ipywidgets>=7.0.0->cufflinks) (0.2.0)\n",
      "Requirement already satisfied: nbformat>=4.2.0 in c:\\users\\peini\\anaconda3\\lib\\site-packages (from ipywidgets>=7.0.0->cufflinks) (5.3.0)\n",
      "Requirement already satisfied: ipykernel>=4.5.1 in c:\\users\\peini\\anaconda3\\lib\\site-packages (from ipywidgets>=7.0.0->cufflinks) (6.9.1)\n",
      "Requirement already satisfied: widgetsnbextension~=3.5.0 in c:\\users\\peini\\anaconda3\\lib\\site-packages (from ipywidgets>=7.0.0->cufflinks) (3.5.2)\n",
      "Requirement already satisfied: jupyterlab-widgets>=1.0.0 in c:\\users\\peini\\anaconda3\\lib\\site-packages (from ipywidgets>=7.0.0->cufflinks) (1.0.0)\n",
      "Requirement already satisfied: jupyter-client<8.0 in c:\\users\\peini\\anaconda3\\lib\\site-packages (from ipykernel>=4.5.1->ipywidgets>=7.0.0->cufflinks) (6.1.12)\n",
      "Requirement already satisfied: nest-asyncio in c:\\users\\peini\\anaconda3\\lib\\site-packages (from ipykernel>=4.5.1->ipywidgets>=7.0.0->cufflinks) (1.5.5)\n",
      "Requirement already satisfied: debugpy<2.0,>=1.0.0 in c:\\users\\peini\\anaconda3\\lib\\site-packages (from ipykernel>=4.5.1->ipywidgets>=7.0.0->cufflinks) (1.5.1)\n",
      "Requirement already satisfied: tornado<7.0,>=4.2 in c:\\users\\peini\\anaconda3\\lib\\site-packages (from ipykernel>=4.5.1->ipywidgets>=7.0.0->cufflinks) (6.1)\n",
      "Requirement already satisfied: parso<0.9.0,>=0.8.0 in c:\\users\\peini\\anaconda3\\lib\\site-packages (from jedi>=0.16->ipython>=5.3.0->cufflinks) (0.8.3)\n",
      "Requirement already satisfied: jupyter-core>=4.6.0 in c:\\users\\peini\\anaconda3\\lib\\site-packages (from jupyter-client<8.0->ipykernel>=4.5.1->ipywidgets>=7.0.0->cufflinks) (4.9.2)\n",
      "Requirement already satisfied: python-dateutil>=2.1 in c:\\users\\peini\\anaconda3\\lib\\site-packages (from jupyter-client<8.0->ipykernel>=4.5.1->ipywidgets>=7.0.0->cufflinks) (2.8.2)\n",
      "Requirement already satisfied: pyzmq>=13 in c:\\users\\peini\\anaconda3\\lib\\site-packages (from jupyter-client<8.0->ipykernel>=4.5.1->ipywidgets>=7.0.0->cufflinks) (22.3.0)\n",
      "Requirement already satisfied: pywin32>=1.0 in c:\\users\\peini\\anaconda3\\lib\\site-packages (from jupyter-core>=4.6.0->jupyter-client<8.0->ipykernel>=4.5.1->ipywidgets>=7.0.0->cufflinks) (302)\n",
      "Requirement already satisfied: jsonschema>=2.6 in c:\\users\\peini\\anaconda3\\lib\\site-packages (from nbformat>=4.2.0->ipywidgets>=7.0.0->cufflinks) (4.4.0)\n",
      "Requirement already satisfied: fastjsonschema in c:\\users\\peini\\anaconda3\\lib\\site-packages (from nbformat>=4.2.0->ipywidgets>=7.0.0->cufflinks) (2.15.1)\n",
      "Requirement already satisfied: pyrsistent!=0.17.0,!=0.17.1,!=0.17.2,>=0.14.0 in c:\\users\\peini\\anaconda3\\lib\\site-packages (from jsonschema>=2.6->nbformat>=4.2.0->ipywidgets>=7.0.0->cufflinks) (0.18.0)\n",
      "Requirement already satisfied: attrs>=17.4.0 in c:\\users\\peini\\anaconda3\\lib\\site-packages (from jsonschema>=2.6->nbformat>=4.2.0->ipywidgets>=7.0.0->cufflinks) (21.4.0)\n",
      "Requirement already satisfied: pytz>=2020.1 in c:\\users\\peini\\anaconda3\\lib\\site-packages (from pandas>=0.19.2->cufflinks) (2021.3)\n",
      "Requirement already satisfied: tenacity>=6.2.0 in c:\\users\\peini\\anaconda3\\lib\\site-packages (from plotly>=4.1.1->cufflinks) (8.0.1)\n",
      "Requirement already satisfied: wcwidth in c:\\users\\peini\\anaconda3\\lib\\site-packages (from prompt-toolkit!=3.0.0,!=3.0.1,<3.1.0,>=2.0.0->ipython>=5.3.0->cufflinks) (0.2.5)\n",
      "Requirement already satisfied: notebook>=4.4.1 in c:\\users\\peini\\anaconda3\\lib\\site-packages (from widgetsnbextension~=3.5.0->ipywidgets>=7.0.0->cufflinks) (6.4.8)\n",
      "Requirement already satisfied: nbconvert in c:\\users\\peini\\anaconda3\\lib\\site-packages (from notebook>=4.4.1->widgetsnbextension~=3.5.0->ipywidgets>=7.0.0->cufflinks) (6.4.4)\n",
      "Requirement already satisfied: prometheus-client in c:\\users\\peini\\anaconda3\\lib\\site-packages (from notebook>=4.4.1->widgetsnbextension~=3.5.0->ipywidgets>=7.0.0->cufflinks) (0.13.1)\n",
      "Requirement already satisfied: jinja2 in c:\\users\\peini\\anaconda3\\lib\\site-packages (from notebook>=4.4.1->widgetsnbextension~=3.5.0->ipywidgets>=7.0.0->cufflinks) (3.1.2)\n",
      "Requirement already satisfied: terminado>=0.8.3 in c:\\users\\peini\\anaconda3\\lib\\site-packages (from notebook>=4.4.1->widgetsnbextension~=3.5.0->ipywidgets>=7.0.0->cufflinks) (0.13.1)\n",
      "Requirement already satisfied: Send2Trash>=1.8.0 in c:\\users\\peini\\anaconda3\\lib\\site-packages (from notebook>=4.4.1->widgetsnbextension~=3.5.0->ipywidgets>=7.0.0->cufflinks) (1.8.0)\n",
      "Requirement already satisfied: argon2-cffi in c:\\users\\peini\\anaconda3\\lib\\site-packages (from notebook>=4.4.1->widgetsnbextension~=3.5.0->ipywidgets>=7.0.0->cufflinks) (21.3.0)\n",
      "Requirement already satisfied: pywinpty>=1.1.0 in c:\\users\\peini\\anaconda3\\lib\\site-packages (from terminado>=0.8.3->notebook>=4.4.1->widgetsnbextension~=3.5.0->ipywidgets>=7.0.0->cufflinks) (2.0.2)\n",
      "Requirement already satisfied: argon2-cffi-bindings in c:\\users\\peini\\anaconda3\\lib\\site-packages (from argon2-cffi->notebook>=4.4.1->widgetsnbextension~=3.5.0->ipywidgets>=7.0.0->cufflinks) (21.2.0)\n",
      "Requirement already satisfied: cffi>=1.0.1 in c:\\users\\peini\\anaconda3\\lib\\site-packages (from argon2-cffi-bindings->argon2-cffi->notebook>=4.4.1->widgetsnbextension~=3.5.0->ipywidgets>=7.0.0->cufflinks) (1.15.0)\n",
      "Requirement already satisfied: pycparser in c:\\users\\peini\\anaconda3\\lib\\site-packages (from cffi>=1.0.1->argon2-cffi-bindings->argon2-cffi->notebook>=4.4.1->widgetsnbextension~=3.5.0->ipywidgets>=7.0.0->cufflinks) (2.21)\n",
      "Requirement already satisfied: MarkupSafe>=2.0 in c:\\users\\peini\\anaconda3\\lib\\site-packages (from jinja2->notebook>=4.4.1->widgetsnbextension~=3.5.0->ipywidgets>=7.0.0->cufflinks) (2.0.1)\n",
      "Requirement already satisfied: pandocfilters>=1.4.1 in c:\\users\\peini\\anaconda3\\lib\\site-packages (from nbconvert->notebook>=4.4.1->widgetsnbextension~=3.5.0->ipywidgets>=7.0.0->cufflinks) (1.5.0)\n",
      "Requirement already satisfied: entrypoints>=0.2.2 in c:\\users\\peini\\anaconda3\\lib\\site-packages (from nbconvert->notebook>=4.4.1->widgetsnbextension~=3.5.0->ipywidgets>=7.0.0->cufflinks) (0.4)\n",
      "Requirement already satisfied: nbclient<0.6.0,>=0.5.0 in c:\\users\\peini\\anaconda3\\lib\\site-packages (from nbconvert->notebook>=4.4.1->widgetsnbextension~=3.5.0->ipywidgets>=7.0.0->cufflinks) (0.5.13)\n",
      "Requirement already satisfied: beautifulsoup4 in c:\\users\\peini\\anaconda3\\lib\\site-packages (from nbconvert->notebook>=4.4.1->widgetsnbextension~=3.5.0->ipywidgets>=7.0.0->cufflinks) (4.11.1)\n",
      "Requirement already satisfied: jupyterlab-pygments in c:\\users\\peini\\anaconda3\\lib\\site-packages (from nbconvert->notebook>=4.4.1->widgetsnbextension~=3.5.0->ipywidgets>=7.0.0->cufflinks) (0.1.2)\n",
      "Requirement already satisfied: defusedxml in c:\\users\\peini\\anaconda3\\lib\\site-packages (from nbconvert->notebook>=4.4.1->widgetsnbextension~=3.5.0->ipywidgets>=7.0.0->cufflinks) (0.7.1)\n",
      "Requirement already satisfied: bleach in c:\\users\\peini\\anaconda3\\lib\\site-packages (from nbconvert->notebook>=4.4.1->widgetsnbextension~=3.5.0->ipywidgets>=7.0.0->cufflinks) (4.1.0)\n",
      "Requirement already satisfied: testpath in c:\\users\\peini\\anaconda3\\lib\\site-packages (from nbconvert->notebook>=4.4.1->widgetsnbextension~=3.5.0->ipywidgets>=7.0.0->cufflinks) (0.5.0)\n",
      "Requirement already satisfied: mistune<2,>=0.8.1 in c:\\users\\peini\\anaconda3\\lib\\site-packages (from nbconvert->notebook>=4.4.1->widgetsnbextension~=3.5.0->ipywidgets>=7.0.0->cufflinks) (0.8.4)\n",
      "Requirement already satisfied: soupsieve>1.2 in c:\\users\\peini\\anaconda3\\lib\\site-packages (from beautifulsoup4->nbconvert->notebook>=4.4.1->widgetsnbextension~=3.5.0->ipywidgets>=7.0.0->cufflinks) (2.3.1)\n",
      "Requirement already satisfied: packaging in c:\\users\\peini\\anaconda3\\lib\\site-packages (from bleach->nbconvert->notebook>=4.4.1->widgetsnbextension~=3.5.0->ipywidgets>=7.0.0->cufflinks) (21.3)\n",
      "Requirement already satisfied: webencodings in c:\\users\\peini\\anaconda3\\lib\\site-packages (from bleach->nbconvert->notebook>=4.4.1->widgetsnbextension~=3.5.0->ipywidgets>=7.0.0->cufflinks) (0.5.1)\n",
      "Requirement already satisfied: pyparsing!=3.0.5,>=2.0.2 in c:\\users\\peini\\anaconda3\\lib\\site-packages (from packaging->bleach->nbconvert->notebook>=4.4.1->widgetsnbextension~=3.5.0->ipywidgets>=7.0.0->cufflinks) (3.0.4)\n",
      "Requirement already satisfied: asttokens in c:\\users\\peini\\anaconda3\\lib\\site-packages (from stack-data->ipython>=5.3.0->cufflinks) (2.0.5)\n",
      "Requirement already satisfied: executing in c:\\users\\peini\\anaconda3\\lib\\site-packages (from stack-data->ipython>=5.3.0->cufflinks) (0.8.3)\n",
      "Requirement already satisfied: pure-eval in c:\\users\\peini\\anaconda3\\lib\\site-packages (from stack-data->ipython>=5.3.0->cufflinks) (0.2.2)\n",
      "Building wheels for collected packages: cufflinks\n",
      "  Building wheel for cufflinks (setup.py): started\n",
      "  Building wheel for cufflinks (setup.py): finished with status 'done'\n",
      "  Created wheel for cufflinks: filename=cufflinks-0.17.3-py3-none-any.whl size=68736 sha256=79c369987248a430002ad5b7410c73fab871b3d5b67d222ef1546d4ae3c1de2c\n",
      "  Stored in directory: c:\\users\\peini\\appdata\\local\\pip\\cache\\wheels\\29\\b4\\f8\\2fd2206eeeba6ccad8167e4e8894b8c4ec27bf1342037fd136\n",
      "Successfully built cufflinks\n",
      "Installing collected packages: colorlover, cufflinks\n",
      "Successfully installed colorlover-0.3.0 cufflinks-0.17.3\n",
      "Note: you may need to restart the kernel to use updated packages.\n"
     ]
    }
   ],
   "source": [
    "pip install cufflinks"
   ]
  },
  {
   "cell_type": "code",
   "execution_count": 1,
   "id": "03189aad",
   "metadata": {},
   "outputs": [
    {
     "data": {
      "text/html": [
       "        <script type=\"text/javascript\">\n",
       "        window.PlotlyConfig = {MathJaxConfig: 'local'};\n",
       "        if (window.MathJax) {MathJax.Hub.Config({SVG: {font: \"STIX-Web\"}});}\n",
       "        if (typeof require !== 'undefined') {\n",
       "        require.undef(\"plotly\");\n",
       "        requirejs.config({\n",
       "            paths: {\n",
       "                'plotly': ['https://cdn.plot.ly/plotly-2.9.0.min']\n",
       "            }\n",
       "        });\n",
       "        require(['plotly'], function(Plotly) {\n",
       "            window._Plotly = Plotly;\n",
       "        });\n",
       "        }\n",
       "        </script>\n",
       "        "
      ]
     },
     "metadata": {},
     "output_type": "display_data"
    },
    {
     "data": {
      "text/html": [
       "        <script type=\"text/javascript\">\n",
       "        window.PlotlyConfig = {MathJaxConfig: 'local'};\n",
       "        if (window.MathJax) {MathJax.Hub.Config({SVG: {font: \"STIX-Web\"}});}\n",
       "        if (typeof require !== 'undefined') {\n",
       "        require.undef(\"plotly\");\n",
       "        requirejs.config({\n",
       "            paths: {\n",
       "                'plotly': ['https://cdn.plot.ly/plotly-2.9.0.min']\n",
       "            }\n",
       "        });\n",
       "        require(['plotly'], function(Plotly) {\n",
       "            window._Plotly = Plotly;\n",
       "        });\n",
       "        }\n",
       "        </script>\n",
       "        "
      ]
     },
     "metadata": {},
     "output_type": "display_data"
    }
   ],
   "source": [
    "import pandas as pd\n",
    "import numpy as np\n",
    "import seaborn as sns\n",
    "import matplotlib.pyplot as plt\n",
    "import nltk\n",
    "from nltk.sentiment.vader import SentimentIntensityAnalyzer\n",
    "import re\n",
    "# regular expression\n",
    "from textblob import TextBlob\n",
    "from wordcloud import WordCloud\n",
    "import cufflinks as cf\n",
    "%matplotlib inline\n",
    "from plotly.offline import init_notebook_mode, iplot\n",
    "init_notebook_mode(connected = True)\n",
    "cf.go_offline();\n",
    "import plotly.graph_objs as go\n",
    "from plotly.subplots import make_subplots\n",
    "\n",
    "import warnings\n",
    "warnings.filterwarnings('ignore')\n",
    "warnings.warn(\"this will not show\")\n",
    "\n",
    "pd.set_option(\"display.max_columns\", None)\n",
    "\n",
    "plt.style.use('ggplot')"
   ]
  },
  {
   "cell_type": "code",
   "execution_count": null,
   "id": "1be545cb",
   "metadata": {},
   "outputs": [],
   "source": []
  },
  {
   "cell_type": "code",
   "execution_count": 2,
   "id": "8b758c00",
   "metadata": {},
   "outputs": [
    {
     "name": "stdout",
     "output_type": "stream",
     "text": [
      "(3848, 7)\n"
     ]
    }
   ],
   "source": [
    "# Read in data\n",
    "df = pd.read_excel('excel_file.xlsx')\n",
    "print(df.shape)"
   ]
  },
  {
   "cell_type": "code",
   "execution_count": 3,
   "id": "cf0241ae",
   "metadata": {},
   "outputs": [
    {
     "data": {
      "text/html": [
       "<div>\n",
       "<style scoped>\n",
       "    .dataframe tbody tr th:only-of-type {\n",
       "        vertical-align: middle;\n",
       "    }\n",
       "\n",
       "    .dataframe tbody tr th {\n",
       "        vertical-align: top;\n",
       "    }\n",
       "\n",
       "    .dataframe thead th {\n",
       "        text-align: right;\n",
       "    }\n",
       "</style>\n",
       "<table border=\"1\" class=\"dataframe\">\n",
       "  <thead>\n",
       "    <tr style=\"text-align: right;\">\n",
       "      <th></th>\n",
       "      <th>name</th>\n",
       "      <th>price</th>\n",
       "      <th>reviewers</th>\n",
       "      <th>dates</th>\n",
       "      <th>ratings</th>\n",
       "      <th>titles</th>\n",
       "      <th>contents</th>\n",
       "    </tr>\n",
       "  </thead>\n",
       "  <tbody>\n",
       "    <tr>\n",
       "      <th>0</th>\n",
       "      <td>THE NORTH FACE Men’s Venture 2 Waterproof Hood...</td>\n",
       "      <td>$109.85 -\\n$109.95</td>\n",
       "      <td>Abraham</td>\n",
       "      <td>Reviewed in the United States on June 4, 2023</td>\n",
       "      <td>4.6 out of 5</td>\n",
       "      <td>Worth every penny</td>\n",
       "      <td>This is a must have if you are in a rainy area...</td>\n",
       "    </tr>\n",
       "    <tr>\n",
       "      <th>1</th>\n",
       "      <td>THE NORTH FACE Men’s Venture 2 Waterproof Hood...</td>\n",
       "      <td>$109.85 -\\n$109.95</td>\n",
       "      <td>The Review</td>\n",
       "      <td>Reviewed in the United States on April 23, 2023</td>\n",
       "      <td>4.6 out of 5</td>\n",
       "      <td>comfortable and completely water proof</td>\n",
       "      <td>very wet rainy season this year, so had ample ...</td>\n",
       "    </tr>\n",
       "    <tr>\n",
       "      <th>2</th>\n",
       "      <td>THE NORTH FACE Men’s Venture 2 Waterproof Hood...</td>\n",
       "      <td>$109.85 -\\n$109.95</td>\n",
       "      <td>Abraham</td>\n",
       "      <td>Reviewed in the United States on June 4, 2023</td>\n",
       "      <td>4.6 out of 5</td>\n",
       "      <td>Muy útil</td>\n",
       "      <td>Cómoda , resiste el frío y el agua</td>\n",
       "    </tr>\n",
       "    <tr>\n",
       "      <th>3</th>\n",
       "      <td>THE NORTH FACE Men’s Venture 2 Waterproof Hood...</td>\n",
       "      <td>$109.85 -\\n$109.95</td>\n",
       "      <td>Amazon Customer</td>\n",
       "      <td>Reviewed in the United States on May 17, 2023</td>\n",
       "      <td>4.6 out of 5</td>\n",
       "      <td>Very Nice</td>\n",
       "      <td>Fits well and great materials and construction</td>\n",
       "    </tr>\n",
       "    <tr>\n",
       "      <th>4</th>\n",
       "      <td>THE NORTH FACE Men’s Venture 2 Waterproof Hood...</td>\n",
       "      <td>$109.85 -\\n$109.95</td>\n",
       "      <td>Nelson Junior Jara Montiel</td>\n",
       "      <td>Reviewed in the United States on May 28, 2023</td>\n",
       "      <td>4.6 out of 5</td>\n",
       "      <td>Different fit, cheaper design</td>\n",
       "      <td>I am replacing the original venture jacket. Th...</td>\n",
       "    </tr>\n",
       "    <tr>\n",
       "      <th>5</th>\n",
       "      <td>THE NORTH FACE Men’s Venture 2 Waterproof Hood...</td>\n",
       "      <td>$109.85 -\\n$109.95</td>\n",
       "      <td>JRandyMyrick</td>\n",
       "      <td>Reviewed in the United States on May 1, 2023</td>\n",
       "      <td>4.6 out of 5</td>\n",
       "      <td>Garment</td>\n",
       "      <td>Color inside. Pockets</td>\n",
       "    </tr>\n",
       "    <tr>\n",
       "      <th>6</th>\n",
       "      <td>THE NORTH FACE Men’s Venture 2 Waterproof Hood...</td>\n",
       "      <td>$109.85 -\\n$109.95</td>\n",
       "      <td>The Review</td>\n",
       "      <td>Reviewed in the United States on April 23, 2023</td>\n",
       "      <td>4.6 out of 5</td>\n",
       "      <td>Keeps me dry.</td>\n",
       "      <td>The jacket looks to be well made and did a gre...</td>\n",
       "    </tr>\n",
       "    <tr>\n",
       "      <th>7</th>\n",
       "      <td>THE NORTH FACE Men’s Venture 2 Waterproof Hood...</td>\n",
       "      <td>$109.85 -\\n$109.95</td>\n",
       "      <td>harv</td>\n",
       "      <td>Reviewed in the United States on June 3, 2023</td>\n",
       "      <td>4.6 out of 5</td>\n",
       "      <td>Outstanding Quality</td>\n",
       "      <td>Exactly what I ordered! The product is outstan...</td>\n",
       "    </tr>\n",
       "    <tr>\n",
       "      <th>8</th>\n",
       "      <td>THE NORTH FACE Men’s Venture 2 Waterproof Hood...</td>\n",
       "      <td>$109.85 -\\n$109.95</td>\n",
       "      <td>Sam</td>\n",
       "      <td>Reviewed in the United States on February 27, ...</td>\n",
       "      <td>4.6 out of 5</td>\n",
       "      <td>as expected</td>\n",
       "      <td>very lightweight weatherproof shell. the mater...</td>\n",
       "    </tr>\n",
       "    <tr>\n",
       "      <th>9</th>\n",
       "      <td>THE NORTH FACE Men’s Venture 2 Waterproof Hood...</td>\n",
       "      <td>$109.85 -\\n$109.95</td>\n",
       "      <td>Amy</td>\n",
       "      <td>Reviewed in the United States on March 18, 2023</td>\n",
       "      <td>4.6 out of 5</td>\n",
       "      <td>It's just a basic windbreaker</td>\n",
       "      <td>You're definitly only paying for the name. The...</td>\n",
       "    </tr>\n",
       "  </tbody>\n",
       "</table>\n",
       "</div>"
      ],
      "text/plain": [
       "                                                name               price  \\\n",
       "0  THE NORTH FACE Men’s Venture 2 Waterproof Hood...  $109.85 -\\n$109.95   \n",
       "1  THE NORTH FACE Men’s Venture 2 Waterproof Hood...  $109.85 -\\n$109.95   \n",
       "2  THE NORTH FACE Men’s Venture 2 Waterproof Hood...  $109.85 -\\n$109.95   \n",
       "3  THE NORTH FACE Men’s Venture 2 Waterproof Hood...  $109.85 -\\n$109.95   \n",
       "4  THE NORTH FACE Men’s Venture 2 Waterproof Hood...  $109.85 -\\n$109.95   \n",
       "5  THE NORTH FACE Men’s Venture 2 Waterproof Hood...  $109.85 -\\n$109.95   \n",
       "6  THE NORTH FACE Men’s Venture 2 Waterproof Hood...  $109.85 -\\n$109.95   \n",
       "7  THE NORTH FACE Men’s Venture 2 Waterproof Hood...  $109.85 -\\n$109.95   \n",
       "8  THE NORTH FACE Men’s Venture 2 Waterproof Hood...  $109.85 -\\n$109.95   \n",
       "9  THE NORTH FACE Men’s Venture 2 Waterproof Hood...  $109.85 -\\n$109.95   \n",
       "\n",
       "                    reviewers  \\\n",
       "0                     Abraham   \n",
       "1                  The Review   \n",
       "2                     Abraham   \n",
       "3             Amazon Customer   \n",
       "4  Nelson Junior Jara Montiel   \n",
       "5                JRandyMyrick   \n",
       "6                  The Review   \n",
       "7                        harv   \n",
       "8                         Sam   \n",
       "9                         Amy   \n",
       "\n",
       "                                               dates       ratings  \\\n",
       "0      Reviewed in the United States on June 4, 2023  4.6 out of 5   \n",
       "1    Reviewed in the United States on April 23, 2023  4.6 out of 5   \n",
       "2      Reviewed in the United States on June 4, 2023  4.6 out of 5   \n",
       "3      Reviewed in the United States on May 17, 2023  4.6 out of 5   \n",
       "4      Reviewed in the United States on May 28, 2023  4.6 out of 5   \n",
       "5       Reviewed in the United States on May 1, 2023  4.6 out of 5   \n",
       "6    Reviewed in the United States on April 23, 2023  4.6 out of 5   \n",
       "7      Reviewed in the United States on June 3, 2023  4.6 out of 5   \n",
       "8  Reviewed in the United States on February 27, ...  4.6 out of 5   \n",
       "9    Reviewed in the United States on March 18, 2023  4.6 out of 5   \n",
       "\n",
       "                                   titles  \\\n",
       "0                       Worth every penny   \n",
       "1  comfortable and completely water proof   \n",
       "2                                Muy útil   \n",
       "3                               Very Nice   \n",
       "4           Different fit, cheaper design   \n",
       "5                                 Garment   \n",
       "6                           Keeps me dry.   \n",
       "7                     Outstanding Quality   \n",
       "8                             as expected   \n",
       "9           It's just a basic windbreaker   \n",
       "\n",
       "                                            contents  \n",
       "0  This is a must have if you are in a rainy area...  \n",
       "1  very wet rainy season this year, so had ample ...  \n",
       "2                 Cómoda , resiste el frío y el agua  \n",
       "3     Fits well and great materials and construction  \n",
       "4  I am replacing the original venture jacket. Th...  \n",
       "5                              Color inside. Pockets  \n",
       "6  The jacket looks to be well made and did a gre...  \n",
       "7  Exactly what I ordered! The product is outstan...  \n",
       "8  very lightweight weatherproof shell. the mater...  \n",
       "9  You're definitly only paying for the name. The...  "
      ]
     },
     "execution_count": 3,
     "metadata": {},
     "output_type": "execute_result"
    }
   ],
   "source": [
    "df.head(10)"
   ]
  },
  {
   "cell_type": "code",
   "execution_count": 4,
   "id": "b428ea0e",
   "metadata": {},
   "outputs": [
    {
     "data": {
      "text/plain": [
       "'Is a great jacket. Exactly what my son wanted'"
      ]
     },
     "execution_count": 4,
     "metadata": {},
     "output_type": "execute_result"
    }
   ],
   "source": [
    "df['contents'].values[99]"
   ]
  },
  {
   "cell_type": "code",
   "execution_count": 5,
   "id": "8659adf1",
   "metadata": {},
   "outputs": [
    {
     "data": {
      "text/plain": [
       "'This is a must have if you are in a rainy area. I will make sure to mention that if you want a more tighter fit to go down a size. I have already used it 3 times under heavy rain and it works great.'"
      ]
     },
     "execution_count": 5,
     "metadata": {},
     "output_type": "execute_result"
    }
   ],
   "source": [
    "df['contents'].values[0]"
   ]
  },
  {
   "cell_type": "code",
   "execution_count": 6,
   "id": "75200fd1",
   "metadata": {},
   "outputs": [
    {
     "data": {
      "text/plain": [
       "'Comfortable , pretty , good Quality'"
      ]
     },
     "execution_count": 6,
     "metadata": {},
     "output_type": "execute_result"
    }
   ],
   "source": [
    "df['contents'].values[3000]"
   ]
  },
  {
   "cell_type": "markdown",
   "id": "7cde5a43",
   "metadata": {},
   "source": [
    "### Data Cleaning"
   ]
  },
  {
   "cell_type": "code",
   "execution_count": 7,
   "id": "ee4bf0cc",
   "metadata": {},
   "outputs": [
    {
     "name": "stdout",
     "output_type": "stream",
     "text": [
      "~~~~~~~~~~~~~~~~~~~~~~~~~~~~~~~~~~~~~~SHAPE~~~~~~~~~~~~~~~~~~~~~~~~~~~~~~~~~~~~~~~\n",
      "Rows: 3848\n",
      "Columns: 7\n",
      "~~~~~~~~~~~~~~~~~~~~~~~~~~~~~~~~~~~~~~TYPES~~~~~~~~~~~~~~~~~~~~~~~~~~~~~~~~~~~~~~~\n",
      "name         object\n",
      "price        object\n",
      "reviewers    object\n",
      "dates        object\n",
      "ratings      object\n",
      "titles       object\n",
      "contents     object\n",
      "dtype: object\n",
      "~~~~~~~~~~~~~~~~~~~~~~~~~~~~~~~~~~~~~~~~~~~~~~~~~~~~~~~~~~~~~~~~~~~~~~~~~~~~~~~~~~\n",
      "           Missing Values  Ratio\n",
      "ratings                39   1.01\n",
      "dates                  57   1.48\n",
      "titles                 62   1.61\n",
      "name                   75   1.95\n",
      "contents               80   2.08\n",
      "reviewers             207   5.38\n",
      "price                1448  37.63\n",
      "~~~~~~~~~~~~~~~~~~~~~~~~~~~~~~~~~DUPLICATED VALUES~~~~~~~~~~~~~~~~~~~~~~~~~~~~~~~~~\n",
      "90\n",
      "~~~~~~~~~~~~~~~~~~~~~~~~~~~~~~~~~~~~QUANTILES~~~~~~~~~~~~~~~~~~~~~~~~~~~~~~~~~~~~~\n",
      "Empty DataFrame\n",
      "Columns: [0.0, 0.05, 0.5, 0.95, 0.99, 1.0]\n",
      "Index: []\n"
     ]
    }
   ],
   "source": [
    "import pandas as pd\n",
    "import numpy as np\n",
    "\n",
    "def missing_values_analysis(df):\n",
    "    na_columns_ = [col for col in df.columns if df[col].isnull().sum() > 0]\n",
    "    n_miss = df[na_columns_].isnull().sum().sort_values(ascending=True)\n",
    "    ratio_ = (df[na_columns_].isnull().sum() / df.shape[0] * 100).sort_values(ascending=True)\n",
    "    missing_df = pd.concat([n_miss, np.round(ratio_, 2)], axis=1, keys=['Missing Values', 'Ratio'])\n",
    "    missing_df = pd.DataFrame(missing_df)\n",
    "    return missing_df\n",
    "\n",
    "def check_dataframe(df, head=5, tail=5):\n",
    "    print('SHAPE'.center(82, '~'))\n",
    "    print('Rows: {}'.format(df.shape[0]))\n",
    "    print('Columns: {}'.format(df.shape[1]))\n",
    "    print('TYPES'.center(82, '~'))\n",
    "    print(df.dtypes)\n",
    "    print(\"~\" * 82)\n",
    "    print(missing_values_analysis(df))\n",
    "    print('DUPLICATED VALUES'.center(83, '~'))\n",
    "    print(df.duplicated().sum())\n",
    "    print(\"QUANTILES\".center(82, '~'))\n",
    "    print(df.quantile([0, 0.05, 0.50, 0.95, 0.99, 1]).T)\n",
    "\n",
    "check_dataframe(df)\n"
   ]
  },
  {
   "cell_type": "code",
   "execution_count": 8,
   "id": "fe28e73e",
   "metadata": {},
   "outputs": [],
   "source": [
    "# Replace missing values with \"anonymous\" in the entire dataframe\n",
    "df_filled = df.fillna(\"anonymous\")\n",
    "\n",
    "# Replace missing values with \"anonymous\" in a specific column\n",
    "df['reviewers'] = df['reviewers'].fillna(\"anonymous\")"
   ]
  },
  {
   "cell_type": "code",
   "execution_count": 9,
   "id": "ada57828",
   "metadata": {},
   "outputs": [],
   "source": [
    "def remove_repeated_words(dates):\n",
    "    if isinstance(dates, float):\n",
    "        return dates\n",
    "    words = str(dates).split()\n",
    "    unique_words = []\n",
    "    for word in words:\n",
    "        if word != 'Reviewed' and word != 'in' and word != 'the' and word != 'United' and word != 'States' and word != 'on' and word != 'Germany' and word != 'Canada' and word != 'France' and word != 'Italy' and  word != 'Australia' and word != 'Kingdom' and word != 'Japan' and word != 'Singapore' and word != 'Spain' and word != 'Mexico' and word != 'India' and word != 'Brazil' :\n",
    "            unique_words.append(word)\n",
    "    return ' '.join(unique_words)"
   ]
  },
  {
   "cell_type": "code",
   "execution_count": 10,
   "id": "f00e3dfd",
   "metadata": {},
   "outputs": [
    {
     "data": {
      "text/plain": [
       "0         June 4, 2023\n",
       "1       April 23, 2023\n",
       "2         June 4, 2023\n",
       "3         May 17, 2023\n",
       "4         May 28, 2023\n",
       "             ...      \n",
       "3843               NaN\n",
       "3844               NaN\n",
       "3845               NaN\n",
       "3846      May 25, 2023\n",
       "3847      May 25, 2023\n",
       "Name: dates, Length: 3848, dtype: object"
      ]
     },
     "execution_count": 10,
     "metadata": {},
     "output_type": "execute_result"
    }
   ],
   "source": [
    "df['dates'] = df['dates'].apply(remove_repeated_words)\n",
    "df['dates']"
   ]
  },
  {
   "cell_type": "code",
   "execution_count": 11,
   "id": "1ffd1fa1",
   "metadata": {},
   "outputs": [],
   "source": [
    "# Convert 'Date' column to datetime type\n",
    "df['dates'] = pd.to_datetime(df['dates'])\n",
    "\n",
    "# Fill missing values with a specific date\n",
    "df['dates'] = df['dates'].fillna(method='ffill')"
   ]
  },
  {
   "cell_type": "code",
   "execution_count": 12,
   "id": "892cb920",
   "metadata": {},
   "outputs": [],
   "source": [
    "def remove_repeated_words(ratings):\n",
    "    if isinstance(ratings, float):\n",
    "        return ratings\n",
    "    words = str(ratings).split()\n",
    "    unique_words = []\n",
    "    for word in words:\n",
    "        if word != 'out' and word != 'of' and word != '5' :\n",
    "            unique_words.append(word)\n",
    "    return ' '.join(unique_words)"
   ]
  },
  {
   "cell_type": "code",
   "execution_count": 13,
   "id": "6ad8da62",
   "metadata": {},
   "outputs": [
    {
     "data": {
      "text/plain": [
       "0       4.6\n",
       "1       4.6\n",
       "2       4.6\n",
       "3       4.6\n",
       "4       4.6\n",
       "       ... \n",
       "3843    5.0\n",
       "3844    5.0\n",
       "3845    NaN\n",
       "3846    5.0\n",
       "3847    5.0\n",
       "Name: ratings, Length: 3848, dtype: object"
      ]
     },
     "execution_count": 13,
     "metadata": {},
     "output_type": "execute_result"
    }
   ],
   "source": [
    "df['ratings'] = df['ratings'].apply(remove_repeated_words)\n",
    "df['ratings']"
   ]
  },
  {
   "cell_type": "code",
   "execution_count": 14,
   "id": "2ca2cdd4",
   "metadata": {},
   "outputs": [],
   "source": [
    "# Clean the 'ratings' column\n",
    "df['ratings'] = pd.to_numeric(df['ratings'], errors='coerce')\n",
    "# Convert the 'ratings' column to float\n",
    "df['ratings'] = df['ratings'].astype(float)"
   ]
  },
  {
   "cell_type": "code",
   "execution_count": 15,
   "id": "cf219a86",
   "metadata": {},
   "outputs": [],
   "source": [
    "# Calculate the mean rating\n",
    "mean_rating = df['ratings'].mean()\n",
    "\n",
    "# Fill missing values with the mean rating\n",
    "df['ratings'] = df['ratings'].fillna(mean_rating)"
   ]
  },
  {
   "cell_type": "code",
   "execution_count": 16,
   "id": "511d4cac",
   "metadata": {},
   "outputs": [
    {
     "data": {
      "text/plain": [
       "0       $109.85 -\\n$109.95\n",
       "1       $109.85 -\\n$109.95\n",
       "2       $109.85 -\\n$109.95\n",
       "3       $109.85 -\\n$109.95\n",
       "4       $109.85 -\\n$109.95\n",
       "               ...        \n",
       "3843                $29.95\n",
       "3844                $29.95\n",
       "3845                $34.95\n",
       "3846                $34.95\n",
       "3847                $34.95\n",
       "Name: price, Length: 3848, dtype: object"
      ]
     },
     "execution_count": 16,
     "metadata": {},
     "output_type": "execute_result"
    }
   ],
   "source": [
    "df['price']"
   ]
  },
  {
   "cell_type": "code",
   "execution_count": 17,
   "id": "51dbf64e",
   "metadata": {},
   "outputs": [],
   "source": [
    "df_filled = df.fillna(\"price\")\n",
    "\n",
    "df['price'] = df['price'].fillna(method='bfill')"
   ]
  },
  {
   "cell_type": "code",
   "execution_count": 18,
   "id": "26df170b",
   "metadata": {},
   "outputs": [],
   "source": [
    "df_filled = df.fillna(\"name\")\n",
    "\n",
    "df['name'] = df['name'].fillna(method='ffill')"
   ]
  },
  {
   "cell_type": "code",
   "execution_count": 19,
   "id": "8f935d8d",
   "metadata": {},
   "outputs": [],
   "source": [
    "df = df.dropna()"
   ]
  },
  {
   "cell_type": "code",
   "execution_count": 20,
   "id": "9d93b34e",
   "metadata": {},
   "outputs": [
    {
     "name": "stdout",
     "output_type": "stream",
     "text": [
      "~~~~~~~~~~~~~~~~~~~~~~~~~~~~~~~~~~~~~~SHAPE~~~~~~~~~~~~~~~~~~~~~~~~~~~~~~~~~~~~~~~\n",
      "Rows: 3765\n",
      "Columns: 7\n",
      "~~~~~~~~~~~~~~~~~~~~~~~~~~~~~~~~~~~~~~TYPES~~~~~~~~~~~~~~~~~~~~~~~~~~~~~~~~~~~~~~~\n",
      "name                 object\n",
      "price                object\n",
      "reviewers            object\n",
      "dates        datetime64[ns]\n",
      "ratings             float64\n",
      "titles               object\n",
      "contents             object\n",
      "dtype: object\n",
      "~~~~~~~~~~~~~~~~~~~~~~~~~~~~~~~~~~~~~~~~~~~~~~~~~~~~~~~~~~~~~~~~~~~~~~~~~~~~~~~~~~\n",
      "Empty DataFrame\n",
      "Columns: [Missing Values, Ratio]\n",
      "Index: []\n",
      "~~~~~~~~~~~~~~~~~~~~~~~~~~~~~~~~~DUPLICATED VALUES~~~~~~~~~~~~~~~~~~~~~~~~~~~~~~~~~\n",
      "80\n",
      "~~~~~~~~~~~~~~~~~~~~~~~~~~~~~~~~~~~~QUANTILES~~~~~~~~~~~~~~~~~~~~~~~~~~~~~~~~~~~~~\n",
      "         0.00  0.05  0.50  0.95  0.99  1.00\n",
      "ratings   4.0   4.3   4.6   4.7   4.7   5.0\n"
     ]
    }
   ],
   "source": [
    "def missing_values_analysis(df):\n",
    "    na_columns_ = [col for col in df.columns if df[col].isnull().sum() > 0]\n",
    "    n_miss = df[na_columns_].isnull().sum().sort_values(ascending=True)\n",
    "    ratio_ = (df[na_columns_].isnull().sum() / df.shape[0] * 100).sort_values(ascending=True)\n",
    "    missing_df = pd.concat([n_miss, np.round(ratio_, 2)], axis=1, keys=['Missing Values', 'Ratio'])\n",
    "    missing_df = pd.DataFrame(missing_df)\n",
    "    return missing_df\n",
    "\n",
    "def check_dataframe(df, head=5, tail=5):\n",
    "    print('SHAPE'.center(82, '~'))\n",
    "    print('Rows: {}'.format(df.shape[0]))\n",
    "    print('Columns: {}'.format(df.shape[1]))\n",
    "    print('TYPES'.center(82, '~'))\n",
    "    print(df.dtypes)\n",
    "    print(\"~\" * 82)\n",
    "    print(missing_values_analysis(df))\n",
    "    print('DUPLICATED VALUES'.center(83, '~'))\n",
    "    print(df.duplicated().sum())\n",
    "    print(\"QUANTILES\".center(82, '~'))\n",
    "    print(df.quantile([0, 0.05, 0.50, 0.95, 0.99, 1]).T)\n",
    "\n",
    "check_dataframe(df)"
   ]
  },
  {
   "cell_type": "code",
   "execution_count": 21,
   "id": "1f86a4ca",
   "metadata": {},
   "outputs": [],
   "source": [
    "df_no_duplicates = df.drop_duplicates()"
   ]
  },
  {
   "cell_type": "code",
   "execution_count": 22,
   "id": "08898a72",
   "metadata": {},
   "outputs": [],
   "source": [
    "df.drop_duplicates(inplace=True)"
   ]
  },
  {
   "cell_type": "code",
   "execution_count": 23,
   "id": "463410f6",
   "metadata": {},
   "outputs": [
    {
     "name": "stdout",
     "output_type": "stream",
     "text": [
      "~~~~~~~~~~~~~~~~~~~~~~~~~~~~~~~~~~~~~~SHAPE~~~~~~~~~~~~~~~~~~~~~~~~~~~~~~~~~~~~~~~\n",
      "Rows: 3685\n",
      "Columns: 7\n",
      "~~~~~~~~~~~~~~~~~~~~~~~~~~~~~~~~~~~~~~TYPES~~~~~~~~~~~~~~~~~~~~~~~~~~~~~~~~~~~~~~~\n",
      "name                 object\n",
      "price                object\n",
      "reviewers            object\n",
      "dates        datetime64[ns]\n",
      "ratings             float64\n",
      "titles               object\n",
      "contents             object\n",
      "dtype: object\n",
      "~~~~~~~~~~~~~~~~~~~~~~~~~~~~~~~~~~~~~~~~~~~~~~~~~~~~~~~~~~~~~~~~~~~~~~~~~~~~~~~~~~\n",
      "Empty DataFrame\n",
      "Columns: [Missing Values, Ratio]\n",
      "Index: []\n",
      "~~~~~~~~~~~~~~~~~~~~~~~~~~~~~~~~~DUPLICATED VALUES~~~~~~~~~~~~~~~~~~~~~~~~~~~~~~~~~\n",
      "0\n",
      "~~~~~~~~~~~~~~~~~~~~~~~~~~~~~~~~~~~~QUANTILES~~~~~~~~~~~~~~~~~~~~~~~~~~~~~~~~~~~~~\n",
      "         0.00  0.05  0.50  0.95  0.99  1.00\n",
      "ratings   4.0   4.4   4.6   4.7   4.7   5.0\n"
     ]
    }
   ],
   "source": [
    "def missing_values_analysis(df):\n",
    "    na_columns_ = [col for col in df.columns if df[col].isnull().sum() > 0]\n",
    "    n_miss = df[na_columns_].isnull().sum().sort_values(ascending=True)\n",
    "    ratio_ = (df[na_columns_].isnull().sum() / df.shape[0] * 100).sort_values(ascending=True)\n",
    "    missing_df = pd.concat([n_miss, np.round(ratio_, 2)], axis=1, keys=['Missing Values', 'Ratio'])\n",
    "    missing_df = pd.DataFrame(missing_df)\n",
    "    return missing_df\n",
    "\n",
    "def check_dataframe(df, head=5, tail=5):\n",
    "    print('SHAPE'.center(82, '~'))\n",
    "    print('Rows: {}'.format(df.shape[0]))\n",
    "    print('Columns: {}'.format(df.shape[1]))\n",
    "    print('TYPES'.center(82, '~'))\n",
    "    print(df.dtypes)\n",
    "    print(\"~\" * 82)\n",
    "    print(missing_values_analysis(df))\n",
    "    print('DUPLICATED VALUES'.center(83, '~'))\n",
    "    print(df.duplicated().sum())\n",
    "    print(\"QUANTILES\".center(82, '~'))\n",
    "    print(df.quantile([0, 0.05, 0.50, 0.95, 0.99, 1]).T)\n",
    "\n",
    "check_dataframe(df)"
   ]
  },
  {
   "cell_type": "code",
   "execution_count": 24,
   "id": "910af5bb",
   "metadata": {},
   "outputs": [
    {
     "data": {
      "text/html": [
       "<div>\n",
       "<style scoped>\n",
       "    .dataframe tbody tr th:only-of-type {\n",
       "        vertical-align: middle;\n",
       "    }\n",
       "\n",
       "    .dataframe tbody tr th {\n",
       "        vertical-align: top;\n",
       "    }\n",
       "\n",
       "    .dataframe thead th {\n",
       "        text-align: right;\n",
       "    }\n",
       "</style>\n",
       "<table border=\"1\" class=\"dataframe\">\n",
       "  <thead>\n",
       "    <tr style=\"text-align: right;\">\n",
       "      <th></th>\n",
       "      <th>Variable</th>\n",
       "      <th>Classes</th>\n",
       "    </tr>\n",
       "  </thead>\n",
       "  <tbody>\n",
       "    <tr>\n",
       "      <th>0</th>\n",
       "      <td>contents</td>\n",
       "      <td>2526</td>\n",
       "    </tr>\n",
       "    <tr>\n",
       "      <th>1</th>\n",
       "      <td>reviewers</td>\n",
       "      <td>2234</td>\n",
       "    </tr>\n",
       "    <tr>\n",
       "      <th>2</th>\n",
       "      <td>titles</td>\n",
       "      <td>1702</td>\n",
       "    </tr>\n",
       "    <tr>\n",
       "      <th>3</th>\n",
       "      <td>dates</td>\n",
       "      <td>1324</td>\n",
       "    </tr>\n",
       "    <tr>\n",
       "      <th>4</th>\n",
       "      <td>name</td>\n",
       "      <td>61</td>\n",
       "    </tr>\n",
       "    <tr>\n",
       "      <th>5</th>\n",
       "      <td>price</td>\n",
       "      <td>37</td>\n",
       "    </tr>\n",
       "    <tr>\n",
       "      <th>6</th>\n",
       "      <td>ratings</td>\n",
       "      <td>11</td>\n",
       "    </tr>\n",
       "  </tbody>\n",
       "</table>\n",
       "</div>"
      ],
      "text/plain": [
       "    Variable  Classes\n",
       "0   contents     2526\n",
       "1  reviewers     2234\n",
       "2     titles     1702\n",
       "3      dates     1324\n",
       "4       name       61\n",
       "5      price       37\n",
       "6    ratings       11"
      ]
     },
     "execution_count": 24,
     "metadata": {},
     "output_type": "execute_result"
    }
   ],
   "source": [
    "def check_class(dataframe):\n",
    "    nunique_df = pd.DataFrame({'Variable': dataframe.columns,\n",
    "                              'Classes': [dataframe[i].nunique() \\\n",
    "                                           for i in dataframe.columns]})\n",
    "    nunique_df = nunique_df.sort_values('Classes', ascending = False)\n",
    "    nunique_df = nunique_df.reset_index(drop = True)\n",
    "    return nunique_df\n",
    "\n",
    "check_class(df)"
   ]
  },
  {
   "cell_type": "code",
   "execution_count": 25,
   "id": "a9f7efd6",
   "metadata": {},
   "outputs": [
    {
     "data": {
      "text/html": [
       "<div>\n",
       "<style scoped>\n",
       "    .dataframe tbody tr th:only-of-type {\n",
       "        vertical-align: middle;\n",
       "    }\n",
       "\n",
       "    .dataframe tbody tr th {\n",
       "        vertical-align: top;\n",
       "    }\n",
       "\n",
       "    .dataframe thead th {\n",
       "        text-align: right;\n",
       "    }\n",
       "</style>\n",
       "<table border=\"1\" class=\"dataframe\">\n",
       "  <thead>\n",
       "    <tr style=\"text-align: right;\">\n",
       "      <th></th>\n",
       "      <th>name</th>\n",
       "      <th>price</th>\n",
       "      <th>reviewers</th>\n",
       "      <th>dates</th>\n",
       "      <th>ratings</th>\n",
       "      <th>titles</th>\n",
       "      <th>contents</th>\n",
       "    </tr>\n",
       "  </thead>\n",
       "  <tbody>\n",
       "    <tr>\n",
       "      <th>0</th>\n",
       "      <td>THE NORTH FACE Men’s Venture 2 Waterproof Hood...</td>\n",
       "      <td>$109.85 -\\n$109.95</td>\n",
       "      <td>Abraham</td>\n",
       "      <td>2023-06-04</td>\n",
       "      <td>4.6</td>\n",
       "      <td>Worth every penny</td>\n",
       "      <td>This is a must have if you are in a rainy area...</td>\n",
       "    </tr>\n",
       "    <tr>\n",
       "      <th>1</th>\n",
       "      <td>THE NORTH FACE Men’s Venture 2 Waterproof Hood...</td>\n",
       "      <td>$109.85 -\\n$109.95</td>\n",
       "      <td>The Review</td>\n",
       "      <td>2023-04-23</td>\n",
       "      <td>4.6</td>\n",
       "      <td>comfortable and completely water proof</td>\n",
       "      <td>very wet rainy season this year, so had ample ...</td>\n",
       "    </tr>\n",
       "    <tr>\n",
       "      <th>2</th>\n",
       "      <td>THE NORTH FACE Men’s Venture 2 Waterproof Hood...</td>\n",
       "      <td>$109.85 -\\n$109.95</td>\n",
       "      <td>Abraham</td>\n",
       "      <td>2023-06-04</td>\n",
       "      <td>4.6</td>\n",
       "      <td>Muy útil</td>\n",
       "      <td>Cómoda , resiste el frío y el agua</td>\n",
       "    </tr>\n",
       "    <tr>\n",
       "      <th>3</th>\n",
       "      <td>THE NORTH FACE Men’s Venture 2 Waterproof Hood...</td>\n",
       "      <td>$109.85 -\\n$109.95</td>\n",
       "      <td>Amazon Customer</td>\n",
       "      <td>2023-05-17</td>\n",
       "      <td>4.6</td>\n",
       "      <td>Very Nice</td>\n",
       "      <td>Fits well and great materials and construction</td>\n",
       "    </tr>\n",
       "    <tr>\n",
       "      <th>4</th>\n",
       "      <td>THE NORTH FACE Men’s Venture 2 Waterproof Hood...</td>\n",
       "      <td>$109.85 -\\n$109.95</td>\n",
       "      <td>Nelson Junior Jara Montiel</td>\n",
       "      <td>2023-05-28</td>\n",
       "      <td>4.6</td>\n",
       "      <td>Different fit, cheaper design</td>\n",
       "      <td>I am replacing the original venture jacket. Th...</td>\n",
       "    </tr>\n",
       "    <tr>\n",
       "      <th>5</th>\n",
       "      <td>THE NORTH FACE Men’s Venture 2 Waterproof Hood...</td>\n",
       "      <td>$109.85 -\\n$109.95</td>\n",
       "      <td>JRandyMyrick</td>\n",
       "      <td>2023-05-01</td>\n",
       "      <td>4.6</td>\n",
       "      <td>Garment</td>\n",
       "      <td>Color inside. Pockets</td>\n",
       "    </tr>\n",
       "    <tr>\n",
       "      <th>6</th>\n",
       "      <td>THE NORTH FACE Men’s Venture 2 Waterproof Hood...</td>\n",
       "      <td>$109.85 -\\n$109.95</td>\n",
       "      <td>The Review</td>\n",
       "      <td>2023-04-23</td>\n",
       "      <td>4.6</td>\n",
       "      <td>Keeps me dry.</td>\n",
       "      <td>The jacket looks to be well made and did a gre...</td>\n",
       "    </tr>\n",
       "    <tr>\n",
       "      <th>7</th>\n",
       "      <td>THE NORTH FACE Men’s Venture 2 Waterproof Hood...</td>\n",
       "      <td>$109.85 -\\n$109.95</td>\n",
       "      <td>harv</td>\n",
       "      <td>2023-06-03</td>\n",
       "      <td>4.6</td>\n",
       "      <td>Outstanding Quality</td>\n",
       "      <td>Exactly what I ordered! The product is outstan...</td>\n",
       "    </tr>\n",
       "    <tr>\n",
       "      <th>8</th>\n",
       "      <td>THE NORTH FACE Men’s Venture 2 Waterproof Hood...</td>\n",
       "      <td>$109.85 -\\n$109.95</td>\n",
       "      <td>Sam</td>\n",
       "      <td>2023-02-27</td>\n",
       "      <td>4.6</td>\n",
       "      <td>as expected</td>\n",
       "      <td>very lightweight weatherproof shell. the mater...</td>\n",
       "    </tr>\n",
       "    <tr>\n",
       "      <th>9</th>\n",
       "      <td>THE NORTH FACE Men’s Venture 2 Waterproof Hood...</td>\n",
       "      <td>$109.85 -\\n$109.95</td>\n",
       "      <td>Amy</td>\n",
       "      <td>2023-03-18</td>\n",
       "      <td>4.6</td>\n",
       "      <td>It's just a basic windbreaker</td>\n",
       "      <td>You're definitly only paying for the name. The...</td>\n",
       "    </tr>\n",
       "  </tbody>\n",
       "</table>\n",
       "</div>"
      ],
      "text/plain": [
       "                                                name               price  \\\n",
       "0  THE NORTH FACE Men’s Venture 2 Waterproof Hood...  $109.85 -\\n$109.95   \n",
       "1  THE NORTH FACE Men’s Venture 2 Waterproof Hood...  $109.85 -\\n$109.95   \n",
       "2  THE NORTH FACE Men’s Venture 2 Waterproof Hood...  $109.85 -\\n$109.95   \n",
       "3  THE NORTH FACE Men’s Venture 2 Waterproof Hood...  $109.85 -\\n$109.95   \n",
       "4  THE NORTH FACE Men’s Venture 2 Waterproof Hood...  $109.85 -\\n$109.95   \n",
       "5  THE NORTH FACE Men’s Venture 2 Waterproof Hood...  $109.85 -\\n$109.95   \n",
       "6  THE NORTH FACE Men’s Venture 2 Waterproof Hood...  $109.85 -\\n$109.95   \n",
       "7  THE NORTH FACE Men’s Venture 2 Waterproof Hood...  $109.85 -\\n$109.95   \n",
       "8  THE NORTH FACE Men’s Venture 2 Waterproof Hood...  $109.85 -\\n$109.95   \n",
       "9  THE NORTH FACE Men’s Venture 2 Waterproof Hood...  $109.85 -\\n$109.95   \n",
       "\n",
       "                    reviewers      dates  ratings  \\\n",
       "0                     Abraham 2023-06-04      4.6   \n",
       "1                  The Review 2023-04-23      4.6   \n",
       "2                     Abraham 2023-06-04      4.6   \n",
       "3             Amazon Customer 2023-05-17      4.6   \n",
       "4  Nelson Junior Jara Montiel 2023-05-28      4.6   \n",
       "5                JRandyMyrick 2023-05-01      4.6   \n",
       "6                  The Review 2023-04-23      4.6   \n",
       "7                        harv 2023-06-03      4.6   \n",
       "8                         Sam 2023-02-27      4.6   \n",
       "9                         Amy 2023-03-18      4.6   \n",
       "\n",
       "                                   titles  \\\n",
       "0                       Worth every penny   \n",
       "1  comfortable and completely water proof   \n",
       "2                                Muy útil   \n",
       "3                               Very Nice   \n",
       "4           Different fit, cheaper design   \n",
       "5                                 Garment   \n",
       "6                           Keeps me dry.   \n",
       "7                     Outstanding Quality   \n",
       "8                             as expected   \n",
       "9           It's just a basic windbreaker   \n",
       "\n",
       "                                            contents  \n",
       "0  This is a must have if you are in a rainy area...  \n",
       "1  very wet rainy season this year, so had ample ...  \n",
       "2                 Cómoda , resiste el frío y el agua  \n",
       "3     Fits well and great materials and construction  \n",
       "4  I am replacing the original venture jacket. Th...  \n",
       "5                              Color inside. Pockets  \n",
       "6  The jacket looks to be well made and did a gre...  \n",
       "7  Exactly what I ordered! The product is outstan...  \n",
       "8  very lightweight weatherproof shell. the mater...  \n",
       "9  You're definitly only paying for the name. The...  "
      ]
     },
     "execution_count": 25,
     "metadata": {},
     "output_type": "execute_result"
    }
   ],
   "source": [
    "df.head(10)"
   ]
  },
  {
   "cell_type": "code",
   "execution_count": 26,
   "id": "7ff83ae8",
   "metadata": {},
   "outputs": [],
   "source": [
    "df = df.reset_index()"
   ]
  },
  {
   "cell_type": "code",
   "execution_count": 27,
   "id": "dd01b64a",
   "metadata": {
    "scrolled": true
   },
   "outputs": [
    {
     "data": {
      "text/html": [
       "<div>\n",
       "<style scoped>\n",
       "    .dataframe tbody tr th:only-of-type {\n",
       "        vertical-align: middle;\n",
       "    }\n",
       "\n",
       "    .dataframe tbody tr th {\n",
       "        vertical-align: top;\n",
       "    }\n",
       "\n",
       "    .dataframe thead th {\n",
       "        text-align: right;\n",
       "    }\n",
       "</style>\n",
       "<table border=\"1\" class=\"dataframe\">\n",
       "  <thead>\n",
       "    <tr style=\"text-align: right;\">\n",
       "      <th></th>\n",
       "      <th>index</th>\n",
       "      <th>name</th>\n",
       "      <th>price</th>\n",
       "      <th>reviewers</th>\n",
       "      <th>dates</th>\n",
       "      <th>ratings</th>\n",
       "      <th>titles</th>\n",
       "      <th>contents</th>\n",
       "    </tr>\n",
       "  </thead>\n",
       "  <tbody>\n",
       "    <tr>\n",
       "      <th>0</th>\n",
       "      <td>0</td>\n",
       "      <td>THE NORTH FACE Men’s Venture 2 Waterproof Hood...</td>\n",
       "      <td>$109.85 -\\n$109.95</td>\n",
       "      <td>Abraham</td>\n",
       "      <td>2023-06-04</td>\n",
       "      <td>4.6</td>\n",
       "      <td>Worth every penny</td>\n",
       "      <td>This is a must have if you are in a rainy area...</td>\n",
       "    </tr>\n",
       "    <tr>\n",
       "      <th>1</th>\n",
       "      <td>1</td>\n",
       "      <td>THE NORTH FACE Men’s Venture 2 Waterproof Hood...</td>\n",
       "      <td>$109.85 -\\n$109.95</td>\n",
       "      <td>The Review</td>\n",
       "      <td>2023-04-23</td>\n",
       "      <td>4.6</td>\n",
       "      <td>comfortable and completely water proof</td>\n",
       "      <td>very wet rainy season this year, so had ample ...</td>\n",
       "    </tr>\n",
       "    <tr>\n",
       "      <th>2</th>\n",
       "      <td>2</td>\n",
       "      <td>THE NORTH FACE Men’s Venture 2 Waterproof Hood...</td>\n",
       "      <td>$109.85 -\\n$109.95</td>\n",
       "      <td>Abraham</td>\n",
       "      <td>2023-06-04</td>\n",
       "      <td>4.6</td>\n",
       "      <td>Muy útil</td>\n",
       "      <td>Cómoda , resiste el frío y el agua</td>\n",
       "    </tr>\n",
       "    <tr>\n",
       "      <th>3</th>\n",
       "      <td>3</td>\n",
       "      <td>THE NORTH FACE Men’s Venture 2 Waterproof Hood...</td>\n",
       "      <td>$109.85 -\\n$109.95</td>\n",
       "      <td>Amazon Customer</td>\n",
       "      <td>2023-05-17</td>\n",
       "      <td>4.6</td>\n",
       "      <td>Very Nice</td>\n",
       "      <td>Fits well and great materials and construction</td>\n",
       "    </tr>\n",
       "    <tr>\n",
       "      <th>4</th>\n",
       "      <td>4</td>\n",
       "      <td>THE NORTH FACE Men’s Venture 2 Waterproof Hood...</td>\n",
       "      <td>$109.85 -\\n$109.95</td>\n",
       "      <td>Nelson Junior Jara Montiel</td>\n",
       "      <td>2023-05-28</td>\n",
       "      <td>4.6</td>\n",
       "      <td>Different fit, cheaper design</td>\n",
       "      <td>I am replacing the original venture jacket. Th...</td>\n",
       "    </tr>\n",
       "    <tr>\n",
       "      <th>5</th>\n",
       "      <td>5</td>\n",
       "      <td>THE NORTH FACE Men’s Venture 2 Waterproof Hood...</td>\n",
       "      <td>$109.85 -\\n$109.95</td>\n",
       "      <td>JRandyMyrick</td>\n",
       "      <td>2023-05-01</td>\n",
       "      <td>4.6</td>\n",
       "      <td>Garment</td>\n",
       "      <td>Color inside. Pockets</td>\n",
       "    </tr>\n",
       "    <tr>\n",
       "      <th>6</th>\n",
       "      <td>6</td>\n",
       "      <td>THE NORTH FACE Men’s Venture 2 Waterproof Hood...</td>\n",
       "      <td>$109.85 -\\n$109.95</td>\n",
       "      <td>The Review</td>\n",
       "      <td>2023-04-23</td>\n",
       "      <td>4.6</td>\n",
       "      <td>Keeps me dry.</td>\n",
       "      <td>The jacket looks to be well made and did a gre...</td>\n",
       "    </tr>\n",
       "    <tr>\n",
       "      <th>7</th>\n",
       "      <td>7</td>\n",
       "      <td>THE NORTH FACE Men’s Venture 2 Waterproof Hood...</td>\n",
       "      <td>$109.85 -\\n$109.95</td>\n",
       "      <td>harv</td>\n",
       "      <td>2023-06-03</td>\n",
       "      <td>4.6</td>\n",
       "      <td>Outstanding Quality</td>\n",
       "      <td>Exactly what I ordered! The product is outstan...</td>\n",
       "    </tr>\n",
       "    <tr>\n",
       "      <th>8</th>\n",
       "      <td>8</td>\n",
       "      <td>THE NORTH FACE Men’s Venture 2 Waterproof Hood...</td>\n",
       "      <td>$109.85 -\\n$109.95</td>\n",
       "      <td>Sam</td>\n",
       "      <td>2023-02-27</td>\n",
       "      <td>4.6</td>\n",
       "      <td>as expected</td>\n",
       "      <td>very lightweight weatherproof shell. the mater...</td>\n",
       "    </tr>\n",
       "    <tr>\n",
       "      <th>9</th>\n",
       "      <td>9</td>\n",
       "      <td>THE NORTH FACE Men’s Venture 2 Waterproof Hood...</td>\n",
       "      <td>$109.85 -\\n$109.95</td>\n",
       "      <td>Amy</td>\n",
       "      <td>2023-03-18</td>\n",
       "      <td>4.6</td>\n",
       "      <td>It's just a basic windbreaker</td>\n",
       "      <td>You're definitly only paying for the name. The...</td>\n",
       "    </tr>\n",
       "  </tbody>\n",
       "</table>\n",
       "</div>"
      ],
      "text/plain": [
       "   index                                               name  \\\n",
       "0      0  THE NORTH FACE Men’s Venture 2 Waterproof Hood...   \n",
       "1      1  THE NORTH FACE Men’s Venture 2 Waterproof Hood...   \n",
       "2      2  THE NORTH FACE Men’s Venture 2 Waterproof Hood...   \n",
       "3      3  THE NORTH FACE Men’s Venture 2 Waterproof Hood...   \n",
       "4      4  THE NORTH FACE Men’s Venture 2 Waterproof Hood...   \n",
       "5      5  THE NORTH FACE Men’s Venture 2 Waterproof Hood...   \n",
       "6      6  THE NORTH FACE Men’s Venture 2 Waterproof Hood...   \n",
       "7      7  THE NORTH FACE Men’s Venture 2 Waterproof Hood...   \n",
       "8      8  THE NORTH FACE Men’s Venture 2 Waterproof Hood...   \n",
       "9      9  THE NORTH FACE Men’s Venture 2 Waterproof Hood...   \n",
       "\n",
       "                price                   reviewers      dates  ratings  \\\n",
       "0  $109.85 -\\n$109.95                     Abraham 2023-06-04      4.6   \n",
       "1  $109.85 -\\n$109.95                  The Review 2023-04-23      4.6   \n",
       "2  $109.85 -\\n$109.95                     Abraham 2023-06-04      4.6   \n",
       "3  $109.85 -\\n$109.95             Amazon Customer 2023-05-17      4.6   \n",
       "4  $109.85 -\\n$109.95  Nelson Junior Jara Montiel 2023-05-28      4.6   \n",
       "5  $109.85 -\\n$109.95                JRandyMyrick 2023-05-01      4.6   \n",
       "6  $109.85 -\\n$109.95                  The Review 2023-04-23      4.6   \n",
       "7  $109.85 -\\n$109.95                        harv 2023-06-03      4.6   \n",
       "8  $109.85 -\\n$109.95                         Sam 2023-02-27      4.6   \n",
       "9  $109.85 -\\n$109.95                         Amy 2023-03-18      4.6   \n",
       "\n",
       "                                   titles  \\\n",
       "0                       Worth every penny   \n",
       "1  comfortable and completely water proof   \n",
       "2                                Muy útil   \n",
       "3                               Very Nice   \n",
       "4           Different fit, cheaper design   \n",
       "5                                 Garment   \n",
       "6                           Keeps me dry.   \n",
       "7                     Outstanding Quality   \n",
       "8                             as expected   \n",
       "9           It's just a basic windbreaker   \n",
       "\n",
       "                                            contents  \n",
       "0  This is a must have if you are in a rainy area...  \n",
       "1  very wet rainy season this year, so had ample ...  \n",
       "2                 Cómoda , resiste el frío y el agua  \n",
       "3     Fits well and great materials and construction  \n",
       "4  I am replacing the original venture jacket. Th...  \n",
       "5                              Color inside. Pockets  \n",
       "6  The jacket looks to be well made and did a gre...  \n",
       "7  Exactly what I ordered! The product is outstan...  \n",
       "8  very lightweight weatherproof shell. the mater...  \n",
       "9  You're definitly only paying for the name. The...  "
      ]
     },
     "execution_count": 27,
     "metadata": {},
     "output_type": "execute_result"
    }
   ],
   "source": [
    "df.head(10)"
   ]
  },
  {
   "cell_type": "markdown",
   "id": "1196c86e",
   "metadata": {},
   "source": [
    "### EDA Analysis"
   ]
  },
  {
   "cell_type": "code",
   "execution_count": 33,
   "id": "4e319bac",
   "metadata": {},
   "outputs": [
    {
     "data": {
      "image/png": "[encoded data removed]",
      "text/plain": [
       "<Figure size 720x360 with 1 Axes>"
      ]
     },
     "metadata": {},
     "output_type": "display_data"
    }
   ],
   "source": [
    "# ax = df['ratings'].value_counts().sort_index() \\\n",
    "#     .plot(kind='bar',\n",
    "#           title='Count of Reviews by Ratings',\n",
    "#           figsize=(10, 5))\n",
    "# ax.set_xlabel('Review Stars')\n",
    "# plt.show()"
   ]
  },
  {
   "cell_type": "code",
   "execution_count": 34,
   "id": "cf68e9d4",
   "metadata": {
    "scrolled": true
   },
   "outputs": [
    {
     "data": {
      "image/png": "[encoded data removed]",
      "text/plain": [
       "<Figure size 720x360 with 1 Axes>"
      ]
     },
     "metadata": {},
     "output_type": "display_data"
    }
   ],
   "source": [
    "ax = df['ratings'].value_counts() \\\n",
    "    .plot(kind='bar',\n",
    "          title='Count of Reviews by Ratings',\n",
    "          figsize=(10, 5))\n",
    "ax.set_xlabel('Review Stars')\n",
    "plt.show()"
   ]
  },
  {
   "cell_type": "code",
   "execution_count": 30,
   "id": "09d32ee1",
   "metadata": {
    "scrolled": true
   },
   "outputs": [
    {
     "name": "stdout",
     "output_type": "stream",
     "text": [
      "4.600000    1451\n",
      "4.700000    1284\n",
      "4.500000     504\n",
      "4.400000     256\n",
      "4.300000     122\n",
      "4.100000      30\n",
      "4.000000      19\n",
      "4.200000       9\n",
      "4.586776       8\n",
      "4.800000       1\n",
      "5.000000       1\n",
      "Name: ratings, dtype: int64\n"
     ]
    }
   ],
   "source": [
    "print(df['ratings'].value_counts())"
   ]
  },
  {
   "cell_type": "code",
   "execution_count": 31,
   "id": "c90fae11",
   "metadata": {},
   "outputs": [
    {
     "data": {
      "application/vnd.plotly.v1+json": {
       "config": {
        "linkText": "Export to plot.ly",
        "plotlyServerURL": "https://plot.ly",
        "showLink": false
       },
       "data": [
        {
         "marker": {
          "color": [
           "#B34D22",
           "#EBE00C",
           "#1FEB0C",
           "#0C92EB",
           "#EB0CD5"
          ],
          "line": {
           "color": "#DBE6EC",
           "width": 1
          }
         },
         "name": "ratings",
         "showlegend": false,
         "text": [
          "1451",
          "1284",
          "504",
          "256",
          "122",
          "30",
          "19",
          "9",
          "8",
          "1",
          "1"
         ],
         "textfont": {
          "size": 14
         },
         "textposition": "auto",
         "type": "bar",
         "x": [
          "4.6",
          "4.7",
          "4.5",
          "4.4",
          "4.3",
          "4.1",
          "4.0",
          "4.2",
          "4.58677555321391",
          "4.8",
          "5.0"
         ],
         "xaxis": "x",
         "y": [
          1451,
          1284,
          504,
          256,
          122,
          30,
          19,
          9,
          8,
          1,
          1
         ],
         "yaxis": "y"
        },
        {
         "domain": {
          "x": [
           0.55,
           1
          ],
          "y": [
           0,
           1
          ]
         },
         "labels": [
          4.6,
          4.7,
          4.5,
          4.4,
          4.3,
          4.1,
          4,
          4.2,
          4.58677555321391,
          4.8,
          5
         ],
         "marker": {
          "colors": [
           "#B34D22",
           "#EBE00C",
           "#1FEB0C",
           "#0C92EB",
           "#EB0CD5"
          ]
         },
         "name": "ratings",
         "showlegend": false,
         "textfont": {
          "size": 18
         },
         "textposition": "auto",
         "type": "pie",
         "values": [
          1451,
          1284,
          504,
          256,
          122,
          30,
          19,
          9,
          8,
          1,
          1
         ]
        }
       ],
       "layout": {
        "annotations": [
         {
          "font": {
           "size": 16
          },
          "showarrow": false,
          "text": "Countplot",
          "x": 0.225,
          "xanchor": "center",
          "xref": "paper",
          "y": 1,
          "yanchor": "bottom",
          "yref": "paper"
         },
         {
          "font": {
           "size": 16
          },
          "showarrow": false,
          "text": "Percentage",
          "x": 0.775,
          "xanchor": "center",
          "xref": "paper",
          "y": 1,
          "yanchor": "bottom",
          "yref": "paper"
         }
        ],
        "template": {
         "data": {
          "bar": [
           {
            "error_x": {
             "color": "#2a3f5f"
            },
            "error_y": {
             "color": "#2a3f5f"
            },
            "marker": {
             "line": {
              "color": "white",
              "width": 0.5
             },
             "pattern": {
              "fillmode": "overlay",
              "size": 10,
              "solidity": 0.2
             }
            },
            "type": "bar"
           }
          ],
          "barpolar": [
           {
            "marker": {
             "line": {
              "color": "white",
              "width": 0.5
             },
             "pattern": {
              "fillmode": "overlay",
              "size": 10,
              "solidity": 0.2
             }
            },
            "type": "barpolar"
           }
          ],
          "carpet": [
           {
            "aaxis": {
             "endlinecolor": "#2a3f5f",
             "gridcolor": "#C8D4E3",
             "linecolor": "#C8D4E3",
             "minorgridcolor": "#C8D4E3",
             "startlinecolor": "#2a3f5f"
            },
            "baxis": {
             "endlinecolor": "#2a3f5f",
             "gridcolor": "#C8D4E3",
             "linecolor": "#C8D4E3",
             "minorgridcolor": "#C8D4E3",
             "startlinecolor": "#2a3f5f"
            },
            "type": "carpet"
           }
          ],
          "choropleth": [
           {
            "colorbar": {
             "outlinewidth": 0,
             "ticks": ""
            },
            "type": "choropleth"
           }
          ],
          "contour": [
           {
            "colorbar": {
             "outlinewidth": 0,
             "ticks": ""
            },
            "colorscale": [
             [
              0,
              "#0d0887"
             ],
             [
              0.1111111111111111,
              "#46039f"
             ],
             [
              0.2222222222222222,
              "#7201a8"
             ],
             [
              0.3333333333333333,
              "#9c179e"
             ],
             [
              0.4444444444444444,
              "#bd3786"
             ],
             [
              0.5555555555555556,
              "#d8576b"
             ],
             [
              0.6666666666666666,
              "#ed7953"
             ],
             [
              0.7777777777777778,
              "#fb9f3a"
             ],
             [
              0.8888888888888888,
              "#fdca26"
             ],
             [
              1,
              "#f0f921"
             ]
            ],
            "type": "contour"
           }
          ],
          "contourcarpet": [
           {
            "colorbar": {
             "outlinewidth": 0,
             "ticks": ""
            },
            "type": "contourcarpet"
           }
          ],
          "heatmap": [
           {
            "colorbar": {
             "outlinewidth": 0,
             "ticks": ""
            },
            "colorscale": [
             [
              0,
              "#0d0887"
             ],
             [
              0.1111111111111111,
              "#46039f"
             ],
             [
              0.2222222222222222,
              "#7201a8"
             ],
             [
              0.3333333333333333,
              "#9c179e"
             ],
             [
              0.4444444444444444,
              "#bd3786"
             ],
             [
              0.5555555555555556,
              "#d8576b"
             ],
             [
              0.6666666666666666,
              "#ed7953"
             ],
             [
              0.7777777777777778,
              "#fb9f3a"
             ],
             [
              0.8888888888888888,
              "#fdca26"
             ],
             [
              1,
              "#f0f921"
             ]
            ],
            "type": "heatmap"
           }
          ],
          "heatmapgl": [
           {
            "colorbar": {
             "outlinewidth": 0,
             "ticks": ""
            },
            "colorscale": [
             [
              0,
              "#0d0887"
             ],
             [
              0.1111111111111111,
              "#46039f"
             ],
             [
              0.2222222222222222,
              "#7201a8"
             ],
             [
              0.3333333333333333,
              "#9c179e"
             ],
             [
              0.4444444444444444,
              "#bd3786"
             ],
             [
              0.5555555555555556,
              "#d8576b"
             ],
             [
              0.6666666666666666,
              "#ed7953"
             ],
             [
              0.7777777777777778,
              "#fb9f3a"
             ],
             [
              0.8888888888888888,
              "#fdca26"
             ],
             [
              1,
              "#f0f921"
             ]
            ],
            "type": "heatmapgl"
           }
          ],
          "histogram": [
           {
            "marker": {
             "pattern": {
              "fillmode": "overlay",
              "size": 10,
              "solidity": 0.2
             }
            },
            "type": "histogram"
           }
          ],
          "histogram2d": [
           {
            "colorbar": {
             "outlinewidth": 0,
             "ticks": ""
            },
            "colorscale": [
             [
              0,
              "#0d0887"
             ],
             [
              0.1111111111111111,
              "#46039f"
             ],
             [
              0.2222222222222222,
              "#7201a8"
             ],
             [
              0.3333333333333333,
              "#9c179e"
             ],
             [
              0.4444444444444444,
              "#bd3786"
             ],
             [
              0.5555555555555556,
              "#d8576b"
             ],
             [
              0.6666666666666666,
              "#ed7953"
             ],
             [
              0.7777777777777778,
              "#fb9f3a"
             ],
             [
              0.8888888888888888,
              "#fdca26"
             ],
             [
              1,
              "#f0f921"
             ]
            ],
            "type": "histogram2d"
           }
          ],
          "histogram2dcontour": [
           {
            "colorbar": {
             "outlinewidth": 0,
             "ticks": ""
            },
            "colorscale": [
             [
              0,
              "#0d0887"
             ],
             [
              0.1111111111111111,
              "#46039f"
             ],
             [
              0.2222222222222222,
              "#7201a8"
             ],
             [
              0.3333333333333333,
              "#9c179e"
             ],
             [
              0.4444444444444444,
              "#bd3786"
             ],
             [
              0.5555555555555556,
              "#d8576b"
             ],
             [
              0.6666666666666666,
              "#ed7953"
             ],
             [
              0.7777777777777778,
              "#fb9f3a"
             ],
             [
              0.8888888888888888,
              "#fdca26"
             ],
             [
              1,
              "#f0f921"
             ]
            ],
            "type": "histogram2dcontour"
           }
          ],
          "mesh3d": [
           {
            "colorbar": {
             "outlinewidth": 0,
             "ticks": ""
            },
            "type": "mesh3d"
           }
          ],
          "parcoords": [
           {
            "line": {
             "colorbar": {
              "outlinewidth": 0,
              "ticks": ""
             }
            },
            "type": "parcoords"
           }
          ],
          "pie": [
           {
            "automargin": true,
            "type": "pie"
           }
          ],
          "scatter": [
           {
            "marker": {
             "colorbar": {
              "outlinewidth": 0,
              "ticks": ""
             }
            },
            "type": "scatter"
           }
          ],
          "scatter3d": [
           {
            "line": {
             "colorbar": {
              "outlinewidth": 0,
              "ticks": ""
             }
            },
            "marker": {
             "colorbar": {
              "outlinewidth": 0,
              "ticks": ""
             }
            },
            "type": "scatter3d"
           }
          ],
          "scattercarpet": [
           {
            "marker": {
             "colorbar": {
              "outlinewidth": 0,
              "ticks": ""
             }
            },
            "type": "scattercarpet"
           }
          ],
          "scattergeo": [
           {
            "marker": {
             "colorbar": {
              "outlinewidth": 0,
              "ticks": ""
             }
            },
            "type": "scattergeo"
           }
          ],
          "scattergl": [
           {
            "marker": {
             "colorbar": {
              "outlinewidth": 0,
              "ticks": ""
             }
            },
            "type": "scattergl"
           }
          ],
          "scattermapbox": [
           {
            "marker": {
             "colorbar": {
              "outlinewidth": 0,
              "ticks": ""
             }
            },
            "type": "scattermapbox"
           }
          ],
          "scatterpolar": [
           {
            "marker": {
             "colorbar": {
              "outlinewidth": 0,
              "ticks": ""
             }
            },
            "type": "scatterpolar"
           }
          ],
          "scatterpolargl": [
           {
            "marker": {
             "colorbar": {
              "outlinewidth": 0,
              "ticks": ""
             }
            },
            "type": "scatterpolargl"
           }
          ],
          "scatterternary": [
           {
            "marker": {
             "colorbar": {
              "outlinewidth": 0,
              "ticks": ""
             }
            },
            "type": "scatterternary"
           }
          ],
          "surface": [
           {
            "colorbar": {
             "outlinewidth": 0,
             "ticks": ""
            },
            "colorscale": [
             [
              0,
              "#0d0887"
             ],
             [
              0.1111111111111111,
              "#46039f"
             ],
             [
              0.2222222222222222,
              "#7201a8"
             ],
             [
              0.3333333333333333,
              "#9c179e"
             ],
             [
              0.4444444444444444,
              "#bd3786"
             ],
             [
              0.5555555555555556,
              "#d8576b"
             ],
             [
              0.6666666666666666,
              "#ed7953"
             ],
             [
              0.7777777777777778,
              "#fb9f3a"
             ],
             [
              0.8888888888888888,
              "#fdca26"
             ],
             [
              1,
              "#f0f921"
             ]
            ],
            "type": "surface"
           }
          ],
          "table": [
           {
            "cells": {
             "fill": {
              "color": "#EBF0F8"
             },
             "line": {
              "color": "white"
             }
            },
            "header": {
             "fill": {
              "color": "#C8D4E3"
             },
             "line": {
              "color": "white"
             }
            },
            "type": "table"
           }
          ]
         },
         "layout": {
          "annotationdefaults": {
           "arrowcolor": "#2a3f5f",
           "arrowhead": 0,
           "arrowwidth": 1
          },
          "autotypenumbers": "strict",
          "coloraxis": {
           "colorbar": {
            "outlinewidth": 0,
            "ticks": ""
           }
          },
          "colorscale": {
           "diverging": [
            [
             0,
             "#8e0152"
            ],
            [
             0.1,
             "#c51b7d"
            ],
            [
             0.2,
             "#de77ae"
            ],
            [
             0.3,
             "#f1b6da"
            ],
            [
             0.4,
             "#fde0ef"
            ],
            [
             0.5,
             "#f7f7f7"
            ],
            [
             0.6,
             "#e6f5d0"
            ],
            [
             0.7,
             "#b8e186"
            ],
            [
             0.8,
             "#7fbc41"
            ],
            [
             0.9,
             "#4d9221"
            ],
            [
             1,
             "#276419"
            ]
           ],
           "sequential": [
            [
             0,
             "#0d0887"
            ],
            [
             0.1111111111111111,
             "#46039f"
            ],
            [
             0.2222222222222222,
             "#7201a8"
            ],
            [
             0.3333333333333333,
             "#9c179e"
            ],
            [
             0.4444444444444444,
             "#bd3786"
            ],
            [
             0.5555555555555556,
             "#d8576b"
            ],
            [
             0.6666666666666666,
             "#ed7953"
            ],
            [
             0.7777777777777778,
             "#fb9f3a"
            ],
            [
             0.8888888888888888,
             "#fdca26"
            ],
            [
             1,
             "#f0f921"
            ]
           ],
           "sequentialminus": [
            [
             0,
             "#0d0887"
            ],
            [
             0.1111111111111111,
             "#46039f"
            ],
            [
             0.2222222222222222,
             "#7201a8"
            ],
            [
             0.3333333333333333,
             "#9c179e"
            ],
            [
             0.4444444444444444,
             "#bd3786"
            ],
            [
             0.5555555555555556,
             "#d8576b"
            ],
            [
             0.6666666666666666,
             "#ed7953"
            ],
            [
             0.7777777777777778,
             "#fb9f3a"
            ],
            [
             0.8888888888888888,
             "#fdca26"
            ],
            [
             1,
             "#f0f921"
            ]
           ]
          },
          "colorway": [
           "#636efa",
           "#EF553B",
           "#00cc96",
           "#ab63fa",
           "#FFA15A",
           "#19d3f3",
           "#FF6692",
           "#B6E880",
           "#FF97FF",
           "#FECB52"
          ],
          "font": {
           "color": "#2a3f5f"
          },
          "geo": {
           "bgcolor": "white",
           "lakecolor": "white",
           "landcolor": "white",
           "showlakes": true,
           "showland": true,
           "subunitcolor": "#C8D4E3"
          },
          "hoverlabel": {
           "align": "left"
          },
          "hovermode": "closest",
          "mapbox": {
           "style": "light"
          },
          "paper_bgcolor": "white",
          "plot_bgcolor": "white",
          "polar": {
           "angularaxis": {
            "gridcolor": "#EBF0F8",
            "linecolor": "#EBF0F8",
            "ticks": ""
           },
           "bgcolor": "white",
           "radialaxis": {
            "gridcolor": "#EBF0F8",
            "linecolor": "#EBF0F8",
            "ticks": ""
           }
          },
          "scene": {
           "xaxis": {
            "backgroundcolor": "white",
            "gridcolor": "#DFE8F3",
            "gridwidth": 2,
            "linecolor": "#EBF0F8",
            "showbackground": true,
            "ticks": "",
            "zerolinecolor": "#EBF0F8"
           },
           "yaxis": {
            "backgroundcolor": "white",
            "gridcolor": "#DFE8F3",
            "gridwidth": 2,
            "linecolor": "#EBF0F8",
            "showbackground": true,
            "ticks": "",
            "zerolinecolor": "#EBF0F8"
           },
           "zaxis": {
            "backgroundcolor": "white",
            "gridcolor": "#DFE8F3",
            "gridwidth": 2,
            "linecolor": "#EBF0F8",
            "showbackground": true,
            "ticks": "",
            "zerolinecolor": "#EBF0F8"
           }
          },
          "shapedefaults": {
           "line": {
            "color": "#2a3f5f"
           }
          },
          "ternary": {
           "aaxis": {
            "gridcolor": "#DFE8F3",
            "linecolor": "#A2B1C6",
            "ticks": ""
           },
           "baxis": {
            "gridcolor": "#DFE8F3",
            "linecolor": "#A2B1C6",
            "ticks": ""
           },
           "bgcolor": "white",
           "caxis": {
            "gridcolor": "#DFE8F3",
            "linecolor": "#A2B1C6",
            "ticks": ""
           }
          },
          "title": {
           "x": 0.05
          },
          "xaxis": {
           "automargin": true,
           "gridcolor": "#EBF0F8",
           "linecolor": "#EBF0F8",
           "ticks": "",
           "title": {
            "standoff": 15
           },
           "zerolinecolor": "#EBF0F8",
           "zerolinewidth": 2
          },
          "yaxis": {
           "automargin": true,
           "gridcolor": "#EBF0F8",
           "linecolor": "#EBF0F8",
           "ticks": "",
           "title": {
            "standoff": 15
           },
           "zerolinecolor": "#EBF0F8",
           "zerolinewidth": 2
          }
         }
        },
        "title": {
         "text": "ratings",
         "x": 0.5,
         "xanchor": "center",
         "y": 0.9,
         "yanchor": "top"
        },
        "xaxis": {
         "anchor": "y",
         "domain": [
          0,
          0.45
         ]
        },
        "yaxis": {
         "anchor": "x",
         "domain": [
          0,
          1
         ]
        }
       }
      },
      "text/html": [
       "<div>                            <div id=\"2838b0be-d309-4bfa-a53d-17bcd5e51125\" class=\"plotly-graph-div\" style=\"height:525px; width:100%;\"></div>            <script type=\"text/javascript\">                require([\"plotly\"], function(Plotly) {                    window.PLOTLYENV=window.PLOTLYENV || {};                                    if (document.getElementById(\"2838b0be-d309-4bfa-a53d-17bcd5e51125\")) {                    Plotly.newPlot(                        \"2838b0be-d309-4bfa-a53d-17bcd5e51125\",                        [{\"marker\":{\"color\":[\"#B34D22\",\"#EBE00C\",\"#1FEB0C\",\"#0C92EB\",\"#EB0CD5\"],\"line\":{\"color\":\"#DBE6EC\",\"width\":1}},\"name\":\"ratings\",\"showlegend\":false,\"text\":[\"1451\",\"1284\",\"504\",\"256\",\"122\",\"30\",\"19\",\"9\",\"8\",\"1\",\"1\"],\"textfont\":{\"size\":14},\"textposition\":\"auto\",\"x\":[\"4.6\",\"4.7\",\"4.5\",\"4.4\",\"4.3\",\"4.1\",\"4.0\",\"4.2\",\"4.58677555321391\",\"4.8\",\"5.0\"],\"xaxis\":\"x\",\"y\":[1451,1284,504,256,122,30,19,9,8,1,1],\"yaxis\":\"y\",\"type\":\"bar\"},{\"domain\":{\"x\":[0.55,1.0],\"y\":[0.0,1.0]},\"labels\":[4.6,4.7,4.5,4.4,4.3,4.1,4.0,4.2,4.58677555321391,4.8,5.0],\"marker\":{\"colors\":[\"#B34D22\",\"#EBE00C\",\"#1FEB0C\",\"#0C92EB\",\"#EB0CD5\"]},\"name\":\"ratings\",\"showlegend\":false,\"textfont\":{\"size\":18},\"textposition\":\"auto\",\"values\":[1451,1284,504,256,122,30,19,9,8,1,1],\"type\":\"pie\"}],                        {\"annotations\":[{\"font\":{\"size\":16},\"showarrow\":false,\"text\":\"Countplot\",\"x\":0.225,\"xanchor\":\"center\",\"xref\":\"paper\",\"y\":1.0,\"yanchor\":\"bottom\",\"yref\":\"paper\"},{\"font\":{\"size\":16},\"showarrow\":false,\"text\":\"Percentage\",\"x\":0.775,\"xanchor\":\"center\",\"xref\":\"paper\",\"y\":1.0,\"yanchor\":\"bottom\",\"yref\":\"paper\"}],\"template\":{\"data\":{\"barpolar\":[{\"marker\":{\"line\":{\"color\":\"white\",\"width\":0.5},\"pattern\":{\"fillmode\":\"overlay\",\"size\":10,\"solidity\":0.2}},\"type\":\"barpolar\"}],\"bar\":[{\"error_x\":{\"color\":\"#2a3f5f\"},\"error_y\":{\"color\":\"#2a3f5f\"},\"marker\":{\"line\":{\"color\":\"white\",\"width\":0.5},\"pattern\":{\"fillmode\":\"overlay\",\"size\":10,\"solidity\":0.2}},\"type\":\"bar\"}],\"carpet\":[{\"aaxis\":{\"endlinecolor\":\"#2a3f5f\",\"gridcolor\":\"#C8D4E3\",\"linecolor\":\"#C8D4E3\",\"minorgridcolor\":\"#C8D4E3\",\"startlinecolor\":\"#2a3f5f\"},\"baxis\":{\"endlinecolor\":\"#2a3f5f\",\"gridcolor\":\"#C8D4E3\",\"linecolor\":\"#C8D4E3\",\"minorgridcolor\":\"#C8D4E3\",\"startlinecolor\":\"#2a3f5f\"},\"type\":\"carpet\"}],\"choropleth\":[{\"colorbar\":{\"outlinewidth\":0,\"ticks\":\"\"},\"type\":\"choropleth\"}],\"contourcarpet\":[{\"colorbar\":{\"outlinewidth\":0,\"ticks\":\"\"},\"type\":\"contourcarpet\"}],\"contour\":[{\"colorbar\":{\"outlinewidth\":0,\"ticks\":\"\"},\"colorscale\":[[0.0,\"#0d0887\"],[0.1111111111111111,\"#46039f\"],[0.2222222222222222,\"#7201a8\"],[0.3333333333333333,\"#9c179e\"],[0.4444444444444444,\"#bd3786\"],[0.5555555555555556,\"#d8576b\"],[0.6666666666666666,\"#ed7953\"],[0.7777777777777778,\"#fb9f3a\"],[0.8888888888888888,\"#fdca26\"],[1.0,\"#f0f921\"]],\"type\":\"contour\"}],\"heatmapgl\":[{\"colorbar\":{\"outlinewidth\":0,\"ticks\":\"\"},\"colorscale\":[[0.0,\"#0d0887\"],[0.1111111111111111,\"#46039f\"],[0.2222222222222222,\"#7201a8\"],[0.3333333333333333,\"#9c179e\"],[0.4444444444444444,\"#bd3786\"],[0.5555555555555556,\"#d8576b\"],[0.6666666666666666,\"#ed7953\"],[0.7777777777777778,\"#fb9f3a\"],[0.8888888888888888,\"#fdca26\"],[1.0,\"#f0f921\"]],\"type\":\"heatmapgl\"}],\"heatmap\":[{\"colorbar\":{\"outlinewidth\":0,\"ticks\":\"\"},\"colorscale\":[[0.0,\"#0d0887\"],[0.1111111111111111,\"#46039f\"],[0.2222222222222222,\"#7201a8\"],[0.3333333333333333,\"#9c179e\"],[0.4444444444444444,\"#bd3786\"],[0.5555555555555556,\"#d8576b\"],[0.6666666666666666,\"#ed7953\"],[0.7777777777777778,\"#fb9f3a\"],[0.8888888888888888,\"#fdca26\"],[1.0,\"#f0f921\"]],\"type\":\"heatmap\"}],\"histogram2dcontour\":[{\"colorbar\":{\"outlinewidth\":0,\"ticks\":\"\"},\"colorscale\":[[0.0,\"#0d0887\"],[0.1111111111111111,\"#46039f\"],[0.2222222222222222,\"#7201a8\"],[0.3333333333333333,\"#9c179e\"],[0.4444444444444444,\"#bd3786\"],[0.5555555555555556,\"#d8576b\"],[0.6666666666666666,\"#ed7953\"],[0.7777777777777778,\"#fb9f3a\"],[0.8888888888888888,\"#fdca26\"],[1.0,\"#f0f921\"]],\"type\":\"histogram2dcontour\"}],\"histogram2d\":[{\"colorbar\":{\"outlinewidth\":0,\"ticks\":\"\"},\"colorscale\":[[0.0,\"#0d0887\"],[0.1111111111111111,\"#46039f\"],[0.2222222222222222,\"#7201a8\"],[0.3333333333333333,\"#9c179e\"],[0.4444444444444444,\"#bd3786\"],[0.5555555555555556,\"#d8576b\"],[0.6666666666666666,\"#ed7953\"],[0.7777777777777778,\"#fb9f3a\"],[0.8888888888888888,\"#fdca26\"],[1.0,\"#f0f921\"]],\"type\":\"histogram2d\"}],\"histogram\":[{\"marker\":{\"pattern\":{\"fillmode\":\"overlay\",\"size\":10,\"solidity\":0.2}},\"type\":\"histogram\"}],\"mesh3d\":[{\"colorbar\":{\"outlinewidth\":0,\"ticks\":\"\"},\"type\":\"mesh3d\"}],\"parcoords\":[{\"line\":{\"colorbar\":{\"outlinewidth\":0,\"ticks\":\"\"}},\"type\":\"parcoords\"}],\"pie\":[{\"automargin\":true,\"type\":\"pie\"}],\"scatter3d\":[{\"line\":{\"colorbar\":{\"outlinewidth\":0,\"ticks\":\"\"}},\"marker\":{\"colorbar\":{\"outlinewidth\":0,\"ticks\":\"\"}},\"type\":\"scatter3d\"}],\"scattercarpet\":[{\"marker\":{\"colorbar\":{\"outlinewidth\":0,\"ticks\":\"\"}},\"type\":\"scattercarpet\"}],\"scattergeo\":[{\"marker\":{\"colorbar\":{\"outlinewidth\":0,\"ticks\":\"\"}},\"type\":\"scattergeo\"}],\"scattergl\":[{\"marker\":{\"colorbar\":{\"outlinewidth\":0,\"ticks\":\"\"}},\"type\":\"scattergl\"}],\"scattermapbox\":[{\"marker\":{\"colorbar\":{\"outlinewidth\":0,\"ticks\":\"\"}},\"type\":\"scattermapbox\"}],\"scatterpolargl\":[{\"marker\":{\"colorbar\":{\"outlinewidth\":0,\"ticks\":\"\"}},\"type\":\"scatterpolargl\"}],\"scatterpolar\":[{\"marker\":{\"colorbar\":{\"outlinewidth\":0,\"ticks\":\"\"}},\"type\":\"scatterpolar\"}],\"scatter\":[{\"marker\":{\"colorbar\":{\"outlinewidth\":0,\"ticks\":\"\"}},\"type\":\"scatter\"}],\"scatterternary\":[{\"marker\":{\"colorbar\":{\"outlinewidth\":0,\"ticks\":\"\"}},\"type\":\"scatterternary\"}],\"surface\":[{\"colorbar\":{\"outlinewidth\":0,\"ticks\":\"\"},\"colorscale\":[[0.0,\"#0d0887\"],[0.1111111111111111,\"#46039f\"],[0.2222222222222222,\"#7201a8\"],[0.3333333333333333,\"#9c179e\"],[0.4444444444444444,\"#bd3786\"],[0.5555555555555556,\"#d8576b\"],[0.6666666666666666,\"#ed7953\"],[0.7777777777777778,\"#fb9f3a\"],[0.8888888888888888,\"#fdca26\"],[1.0,\"#f0f921\"]],\"type\":\"surface\"}],\"table\":[{\"cells\":{\"fill\":{\"color\":\"#EBF0F8\"},\"line\":{\"color\":\"white\"}},\"header\":{\"fill\":{\"color\":\"#C8D4E3\"},\"line\":{\"color\":\"white\"}},\"type\":\"table\"}]},\"layout\":{\"annotationdefaults\":{\"arrowcolor\":\"#2a3f5f\",\"arrowhead\":0,\"arrowwidth\":1},\"autotypenumbers\":\"strict\",\"coloraxis\":{\"colorbar\":{\"outlinewidth\":0,\"ticks\":\"\"}},\"colorscale\":{\"diverging\":[[0,\"#8e0152\"],[0.1,\"#c51b7d\"],[0.2,\"#de77ae\"],[0.3,\"#f1b6da\"],[0.4,\"#fde0ef\"],[0.5,\"#f7f7f7\"],[0.6,\"#e6f5d0\"],[0.7,\"#b8e186\"],[0.8,\"#7fbc41\"],[0.9,\"#4d9221\"],[1,\"#276419\"]],\"sequential\":[[0.0,\"#0d0887\"],[0.1111111111111111,\"#46039f\"],[0.2222222222222222,\"#7201a8\"],[0.3333333333333333,\"#9c179e\"],[0.4444444444444444,\"#bd3786\"],[0.5555555555555556,\"#d8576b\"],[0.6666666666666666,\"#ed7953\"],[0.7777777777777778,\"#fb9f3a\"],[0.8888888888888888,\"#fdca26\"],[1.0,\"#f0f921\"]],\"sequentialminus\":[[0.0,\"#0d0887\"],[0.1111111111111111,\"#46039f\"],[0.2222222222222222,\"#7201a8\"],[0.3333333333333333,\"#9c179e\"],[0.4444444444444444,\"#bd3786\"],[0.5555555555555556,\"#d8576b\"],[0.6666666666666666,\"#ed7953\"],[0.7777777777777778,\"#fb9f3a\"],[0.8888888888888888,\"#fdca26\"],[1.0,\"#f0f921\"]]},\"colorway\":[\"#636efa\",\"#EF553B\",\"#00cc96\",\"#ab63fa\",\"#FFA15A\",\"#19d3f3\",\"#FF6692\",\"#B6E880\",\"#FF97FF\",\"#FECB52\"],\"font\":{\"color\":\"#2a3f5f\"},\"geo\":{\"bgcolor\":\"white\",\"lakecolor\":\"white\",\"landcolor\":\"white\",\"showlakes\":true,\"showland\":true,\"subunitcolor\":\"#C8D4E3\"},\"hoverlabel\":{\"align\":\"left\"},\"hovermode\":\"closest\",\"mapbox\":{\"style\":\"light\"},\"paper_bgcolor\":\"white\",\"plot_bgcolor\":\"white\",\"polar\":{\"angularaxis\":{\"gridcolor\":\"#EBF0F8\",\"linecolor\":\"#EBF0F8\",\"ticks\":\"\"},\"bgcolor\":\"white\",\"radialaxis\":{\"gridcolor\":\"#EBF0F8\",\"linecolor\":\"#EBF0F8\",\"ticks\":\"\"}},\"scene\":{\"xaxis\":{\"backgroundcolor\":\"white\",\"gridcolor\":\"#DFE8F3\",\"gridwidth\":2,\"linecolor\":\"#EBF0F8\",\"showbackground\":true,\"ticks\":\"\",\"zerolinecolor\":\"#EBF0F8\"},\"yaxis\":{\"backgroundcolor\":\"white\",\"gridcolor\":\"#DFE8F3\",\"gridwidth\":2,\"linecolor\":\"#EBF0F8\",\"showbackground\":true,\"ticks\":\"\",\"zerolinecolor\":\"#EBF0F8\"},\"zaxis\":{\"backgroundcolor\":\"white\",\"gridcolor\":\"#DFE8F3\",\"gridwidth\":2,\"linecolor\":\"#EBF0F8\",\"showbackground\":true,\"ticks\":\"\",\"zerolinecolor\":\"#EBF0F8\"}},\"shapedefaults\":{\"line\":{\"color\":\"#2a3f5f\"}},\"ternary\":{\"aaxis\":{\"gridcolor\":\"#DFE8F3\",\"linecolor\":\"#A2B1C6\",\"ticks\":\"\"},\"baxis\":{\"gridcolor\":\"#DFE8F3\",\"linecolor\":\"#A2B1C6\",\"ticks\":\"\"},\"bgcolor\":\"white\",\"caxis\":{\"gridcolor\":\"#DFE8F3\",\"linecolor\":\"#A2B1C6\",\"ticks\":\"\"}},\"title\":{\"x\":0.05},\"xaxis\":{\"automargin\":true,\"gridcolor\":\"#EBF0F8\",\"linecolor\":\"#EBF0F8\",\"ticks\":\"\",\"title\":{\"standoff\":15},\"zerolinecolor\":\"#EBF0F8\",\"zerolinewidth\":2},\"yaxis\":{\"automargin\":true,\"gridcolor\":\"#EBF0F8\",\"linecolor\":\"#EBF0F8\",\"ticks\":\"\",\"title\":{\"standoff\":15},\"zerolinecolor\":\"#EBF0F8\",\"zerolinewidth\":2}}},\"title\":{\"text\":\"ratings\",\"x\":0.5,\"xanchor\":\"center\",\"y\":0.9,\"yanchor\":\"top\"},\"xaxis\":{\"anchor\":\"y\",\"domain\":[0.0,0.45]},\"yaxis\":{\"anchor\":\"x\",\"domain\":[0.0,1.0]}},                        {\"responsive\": true}                    ).then(function(){\n",
       "                            \n",
       "var gd = document.getElementById('2838b0be-d309-4bfa-a53d-17bcd5e51125');\n",
       "var x = new MutationObserver(function (mutations, observer) {{\n",
       "        var display = window.getComputedStyle(gd).display;\n",
       "        if (!display || display === 'none') {{\n",
       "            console.log([gd, 'removed!']);\n",
       "            Plotly.purge(gd);\n",
       "            observer.disconnect();\n",
       "        }}\n",
       "}});\n",
       "\n",
       "// Listen for the removal of the full notebook cells\n",
       "var notebookContainer = gd.closest('#notebook-container');\n",
       "if (notebookContainer) {{\n",
       "    x.observe(notebookContainer, {childList: true});\n",
       "}}\n",
       "\n",
       "// Listen for the clearing of the current output cell\n",
       "var outputEl = gd.closest('.output');\n",
       "if (outputEl) {{\n",
       "    x.observe(outputEl, {childList: true});\n",
       "}}\n",
       "\n",
       "                        })                };                });            </script>        </div>"
      ]
     },
     "metadata": {},
     "output_type": "display_data"
    }
   ],
   "source": [
    "constraints = ['#B34D22', '#EBE00C', '#1FEB0C', '#0C92EB', '#EB0CD5']\n",
    "\n",
    "def categorical_variable_summary(df, column_name):\n",
    "    fig = make_subplots(rows=1, cols=2, subplot_titles=('Countplot', 'Percentage'),\n",
    "                        specs=[[{\"type\": \"xy\"}, {\"type\": \"domain\"}]])\n",
    "\n",
    "    fig.add_trace(go.Bar(y=df[column_name].value_counts().values.tolist(),\n",
    "                         x=[str(i) for i in df[column_name].value_counts().index],\n",
    "                         text=df[column_name].value_counts().values.tolist(),\n",
    "                         textfont=dict(size=14),\n",
    "                         name=column_name,\n",
    "                         textposition='auto',\n",
    "                         showlegend=False,\n",
    "                         marker=dict(color=constraints,\n",
    "                                     line=dict(color='#DBE6EC', width=1))),\n",
    "                  row=1, col=1)\n",
    "\n",
    "    fig.add_trace(go.Pie(labels=df[column_name].value_counts().keys().tolist(),\n",
    "                         values=df[column_name].value_counts().values.tolist(),\n",
    "                         textfont=dict(size=18),\n",
    "                         textposition='auto',\n",
    "                         showlegend=False,\n",
    "                         name=column_name,\n",
    "                         marker=dict(colors=constraints)),\n",
    "                  row=1, col=2)\n",
    "\n",
    "    fig.update_layout(title={'text': column_name,\n",
    "                             'y': 0.9,\n",
    "                             'x': 0.5,\n",
    "                             'xanchor': 'center',\n",
    "                             'yanchor': 'top'},\n",
    "                      template='plotly_white')\n",
    "\n",
    "    iplot(fig)\n",
    "\n",
    "categorical_variable_summary(df, 'ratings')\n"
   ]
  },
  {
   "cell_type": "markdown",
   "id": "6506b5e9",
   "metadata": {},
   "source": [
    "### Basic NLTK"
   ]
  },
  {
   "cell_type": "code",
   "execution_count": 52,
   "id": "503797ab",
   "metadata": {},
   "outputs": [
    {
     "name": "stderr",
     "output_type": "stream",
     "text": [
      "[nltk_data] Downloading package punkt to\n",
      "[nltk_data]     C:\\Users\\peini\\AppData\\Roaming\\nltk_data...\n",
      "[nltk_data]   Package punkt is already up-to-date!\n"
     ]
    },
    {
     "data": {
      "text/plain": [
       "True"
      ]
     },
     "execution_count": 52,
     "metadata": {},
     "output_type": "execute_result"
    }
   ],
   "source": [
    "nltk.download('punkt')"
   ]
  },
  {
   "cell_type": "code",
   "execution_count": 56,
   "id": "931ad398",
   "metadata": {},
   "outputs": [
    {
     "name": "stderr",
     "output_type": "stream",
     "text": [
      "[nltk_data] Downloading package averaged_perceptron_tagger to\n",
      "[nltk_data]     C:\\Users\\peini\\AppData\\Roaming\\nltk_data...\n",
      "[nltk_data]   Unzipping taggers\\averaged_perceptron_tagger.zip.\n"
     ]
    },
    {
     "data": {
      "text/plain": [
       "True"
      ]
     },
     "execution_count": 56,
     "metadata": {},
     "output_type": "execute_result"
    }
   ],
   "source": [
    "nltk.download('averaged_perceptron_tagger')"
   ]
  },
  {
   "cell_type": "code",
   "execution_count": 59,
   "id": "a8cf967c",
   "metadata": {},
   "outputs": [
    {
     "name": "stderr",
     "output_type": "stream",
     "text": [
      "[nltk_data] Downloading package maxent_ne_chunker to\n",
      "[nltk_data]     C:\\Users\\peini\\AppData\\Roaming\\nltk_data...\n",
      "[nltk_data]   Unzipping chunkers\\maxent_ne_chunker.zip.\n"
     ]
    },
    {
     "data": {
      "text/plain": [
       "True"
      ]
     },
     "execution_count": 59,
     "metadata": {},
     "output_type": "execute_result"
    }
   ],
   "source": [
    "nltk.download('maxent_ne_chunker')"
   ]
  },
  {
   "cell_type": "code",
   "execution_count": 61,
   "id": "a6b534b3",
   "metadata": {},
   "outputs": [
    {
     "name": "stderr",
     "output_type": "stream",
     "text": [
      "[nltk_data] Downloading package words to\n",
      "[nltk_data]     C:\\Users\\peini\\AppData\\Roaming\\nltk_data...\n",
      "[nltk_data]   Unzipping corpora\\words.zip.\n"
     ]
    },
    {
     "data": {
      "text/plain": [
       "True"
      ]
     },
     "execution_count": 61,
     "metadata": {},
     "output_type": "execute_result"
    }
   ],
   "source": [
    "nltk.download('words')"
   ]
  },
  {
   "cell_type": "code",
   "execution_count": 239,
   "id": "de590d40",
   "metadata": {},
   "outputs": [
    {
     "name": "stdout",
     "output_type": "stream",
     "text": [
      "The picture and color are too different. The photo is shown like khaki, but it is actually navy color.\n"
     ]
    }
   ],
   "source": [
    "example = df['contents'][100]\n",
    "print(example)"
   ]
  },
  {
   "cell_type": "code",
   "execution_count": 240,
   "id": "057fc94b",
   "metadata": {},
   "outputs": [
    {
     "data": {
      "text/plain": [
       "['The',\n",
       " 'picture',\n",
       " 'and',\n",
       " 'color',\n",
       " 'are',\n",
       " 'too',\n",
       " 'different',\n",
       " '.',\n",
       " 'The',\n",
       " 'photo']"
      ]
     },
     "execution_count": 240,
     "metadata": {},
     "output_type": "execute_result"
    }
   ],
   "source": [
    "tokens = nltk.word_tokenize(example)\n",
    "tokens[:10]"
   ]
  },
  {
   "cell_type": "code",
   "execution_count": 241,
   "id": "ae6f9176",
   "metadata": {},
   "outputs": [
    {
     "data": {
      "text/plain": [
       "[('The', 'DT'),\n",
       " ('picture', 'NN'),\n",
       " ('and', 'CC'),\n",
       " ('color', 'NN'),\n",
       " ('are', 'VBP'),\n",
       " ('too', 'RB'),\n",
       " ('different', 'JJ'),\n",
       " ('.', '.'),\n",
       " ('The', 'DT'),\n",
       " ('photo', 'NN')]"
      ]
     },
     "execution_count": 241,
     "metadata": {},
     "output_type": "execute_result"
    }
   ],
   "source": [
    "tagged = nltk.pos_tag(tokens)\n",
    "tagged[:10]"
   ]
  },
  {
   "cell_type": "code",
   "execution_count": 242,
   "id": "9959c04b",
   "metadata": {},
   "outputs": [
    {
     "name": "stdout",
     "output_type": "stream",
     "text": [
      "(S\n",
      "  The/DT\n",
      "  picture/NN\n",
      "  and/CC\n",
      "  color/NN\n",
      "  are/VBP\n",
      "  too/RB\n",
      "  different/JJ\n",
      "  ./.\n",
      "  The/DT\n",
      "  photo/NN\n",
      "  is/VBZ\n",
      "  shown/VBN\n",
      "  like/IN\n",
      "  khaki/NN\n",
      "  ,/,\n",
      "  but/CC\n",
      "  it/PRP\n",
      "  is/VBZ\n",
      "  actually/RB\n",
      "  navy/JJ\n",
      "  color/NN\n",
      "  ./.)\n"
     ]
    }
   ],
   "source": [
    "entities = nltk.chunk.ne_chunk(tagged)\n",
    "entities.pprint()"
   ]
  },
  {
   "cell_type": "markdown",
   "id": "8e3c1ff7",
   "metadata": {},
   "source": [
    "### (I) VADER Sentiment Scoring"
   ]
  },
  {
   "cell_type": "markdown",
   "id": "7be8f7d2",
   "metadata": {},
   "source": [
    "By using NLTK's Sentiment Intensity Analyzer to get the neg/neu/pos scores of the text.\n",
    "- This uses a \"bag of words\" approach:\n",
    "  1. Stop words are removed\n",
    "  2. Each word is scored and combined to a total score"
   ]
  },
  {
   "cell_type": "code",
   "execution_count": 37,
   "id": "7ee7444c",
   "metadata": {},
   "outputs": [
    {
     "name": "stderr",
     "output_type": "stream",
     "text": [
      "[nltk_data] Downloading package vader_lexicon to\n",
      "[nltk_data]     C:\\Users\\peini\\AppData\\Roaming\\nltk_data...\n",
      "[nltk_data]   Package vader_lexicon is already up-to-date!\n"
     ]
    },
    {
     "data": {
      "text/plain": [
       "True"
      ]
     },
     "execution_count": 37,
     "metadata": {},
     "output_type": "execute_result"
    }
   ],
   "source": [
    "# Download the lexicon\n",
    "nltk.download('vader_lexicon')"
   ]
  },
  {
   "cell_type": "code",
   "execution_count": 243,
   "id": "0941aaa8",
   "metadata": {},
   "outputs": [],
   "source": [
    "# Import the lexicon\n",
    "from nltk.sentiment import SentimentIntensityAnalyzer\n",
    "from tqdm.notebook import tqdm\n",
    "# Create an instance of SentimentIntensityAnalyzer\n",
    "sia = SentimentIntensityAnalyzer()"
   ]
  },
  {
   "cell_type": "code",
   "execution_count": 244,
   "id": "458f09a5",
   "metadata": {},
   "outputs": [
    {
     "data": {
      "text/plain": [
       "{'neg': 0.0, 'neu': 0.709, 'pos': 0.291, 'compound': 0.5719}"
      ]
     },
     "execution_count": 244,
     "metadata": {},
     "output_type": "execute_result"
    }
   ],
   "source": [
    "sia.polarity_scores('My son loves it and wears it to scout camp')"
   ]
  },
  {
   "cell_type": "markdown",
   "id": "54e7f5e6",
   "metadata": {},
   "source": [
    "Observation 1: The result shows that the sentence does not have any negative information (neg=0). It has higher neutral tones compared to positive (neu=0.709 and pos=0.291). However, the overall sentiment is positive because compound > 0.05"
   ]
  },
  {
   "cell_type": "code",
   "execution_count": 245,
   "id": "220655b7",
   "metadata": {},
   "outputs": [
    {
     "data": {
      "text/plain": [
       "{'neg': 0.0, 'neu': 0.626, 'pos': 0.374, 'compound': 0.7996}"
      ]
     },
     "execution_count": 245,
     "metadata": {},
     "output_type": "execute_result"
    }
   ],
   "source": [
    "sia.polarity_scores('I really like it, great quality except it was too small. I had to return it.')"
   ]
  },
  {
   "cell_type": "markdown",
   "id": "00b66696",
   "metadata": {},
   "source": [
    "Observation 2: From here, the compound jumped to 0.7996, which makes the sentence more positive then the one from Observation 1"
   ]
  },
  {
   "cell_type": "code",
   "execution_count": 246,
   "id": "f93351a0",
   "metadata": {},
   "outputs": [
    {
     "data": {
      "text/plain": [
       "{'neg': 0.298, 'neu': 0.702, 'pos': 0.0, 'compound': -0.4545}"
      ]
     },
     "execution_count": 246,
     "metadata": {},
     "output_type": "execute_result"
    }
   ],
   "source": [
    "sia.polarity_scores('Rubbery bill! Low profile cap! Not a hunter cap!')"
   ]
  },
  {
   "cell_type": "markdown",
   "id": "2b11e352",
   "metadata": {},
   "source": [
    "Observation 3: The above sentence does not have any positive information (pos=0). It has some neutral and negative tones (neu=0.702 and neg=0.298). It has an extreme negative sentiment due to the compound score which is close to -1."
   ]
  },
  {
   "cell_type": "code",
   "execution_count": 247,
   "id": "3eb270bc",
   "metadata": {},
   "outputs": [
    {
     "data": {
      "text/plain": [
       "{'neg': 0.356, 'neu': 0.533, 'pos': 0.111, 'compound': -0.7597}"
      ]
     },
     "execution_count": 247,
     "metadata": {},
     "output_type": "execute_result"
    }
   ],
   "source": [
    "sia.polarity_scores('What a HORRIBLE hat. Fits horrible! Try it on and you’ll be returning it like me')"
   ]
  },
  {
   "cell_type": "code",
   "execution_count": 248,
   "id": "2ecc5133",
   "metadata": {},
   "outputs": [
    {
     "data": {
      "text/plain": [
       "{'neg': 0.0, 'neu': 0.511, 'pos': 0.489, 'compound': 0.7717}"
      ]
     },
     "execution_count": 248,
     "metadata": {},
     "output_type": "execute_result"
    }
   ],
   "source": [
    "sia.polarity_scores('If you have small head it will fit perfectly 👍')"
   ]
  },
  {
   "cell_type": "code",
   "execution_count": 249,
   "id": "f1d499a7",
   "metadata": {
    "scrolled": true
   },
   "outputs": [
    {
     "data": {
      "text/plain": [
       "{'neg': 0.0, 'neu': 0.911, 'pos': 0.089, 'compound': 0.1901}"
      ]
     },
     "execution_count": 249,
     "metadata": {},
     "output_type": "execute_result"
    }
   ],
   "source": [
    "sia.polarity_scores(example)"
   ]
  },
  {
   "cell_type": "code",
   "execution_count": 250,
   "id": "c5962e5d",
   "metadata": {},
   "outputs": [
    {
     "data": {
      "application/vnd.jupyter.widget-view+json": {
       "model_id": "a1dab4233aea4eed9a0d27edd3a466dd",
       "version_major": 2,
       "version_minor": 0
      },
      "text/plain": [
       "  0%|          | 0/3685 [00:00<?, ?it/s]"
      ]
     },
     "metadata": {},
     "output_type": "display_data"
    }
   ],
   "source": [
    "# Run the polarity score on the entire dataset\n",
    "result = {}\n",
    "for i, row in tqdm(df.iterrows(), total=len(df)):\n",
    "    contents = row['contents']\n",
    "    index = row['index']\n",
    "    result[index] = sia.polarity_scores(contents)"
   ]
  },
  {
   "cell_type": "code",
   "execution_count": 251,
   "id": "537973ae",
   "metadata": {},
   "outputs": [
    {
     "data": {
      "text/html": [
       "<div>\n",
       "<style scoped>\n",
       "    .dataframe tbody tr th:only-of-type {\n",
       "        vertical-align: middle;\n",
       "    }\n",
       "\n",
       "    .dataframe tbody tr th {\n",
       "        vertical-align: top;\n",
       "    }\n",
       "\n",
       "    .dataframe thead th {\n",
       "        text-align: right;\n",
       "    }\n",
       "</style>\n",
       "<table border=\"1\" class=\"dataframe\">\n",
       "  <thead>\n",
       "    <tr style=\"text-align: right;\">\n",
       "      <th></th>\n",
       "      <th>neg</th>\n",
       "      <th>neu</th>\n",
       "      <th>pos</th>\n",
       "      <th>compound</th>\n",
       "    </tr>\n",
       "  </thead>\n",
       "  <tbody>\n",
       "    <tr>\n",
       "      <th>0</th>\n",
       "      <td>0.029</td>\n",
       "      <td>0.737</td>\n",
       "      <td>0.234</td>\n",
       "      <td>0.8473</td>\n",
       "    </tr>\n",
       "    <tr>\n",
       "      <th>1</th>\n",
       "      <td>0.051</td>\n",
       "      <td>0.677</td>\n",
       "      <td>0.272</td>\n",
       "      <td>0.7810</td>\n",
       "    </tr>\n",
       "    <tr>\n",
       "      <th>2</th>\n",
       "      <td>0.000</td>\n",
       "      <td>1.000</td>\n",
       "      <td>0.000</td>\n",
       "      <td>0.0000</td>\n",
       "    </tr>\n",
       "    <tr>\n",
       "      <th>3</th>\n",
       "      <td>0.000</td>\n",
       "      <td>0.446</td>\n",
       "      <td>0.554</td>\n",
       "      <td>0.7351</td>\n",
       "    </tr>\n",
       "    <tr>\n",
       "      <th>4</th>\n",
       "      <td>0.060</td>\n",
       "      <td>0.843</td>\n",
       "      <td>0.096</td>\n",
       "      <td>0.3716</td>\n",
       "    </tr>\n",
       "    <tr>\n",
       "      <th>...</th>\n",
       "      <td>...</td>\n",
       "      <td>...</td>\n",
       "      <td>...</td>\n",
       "      <td>...</td>\n",
       "    </tr>\n",
       "    <tr>\n",
       "      <th>3839</th>\n",
       "      <td>0.109</td>\n",
       "      <td>0.891</td>\n",
       "      <td>0.000</td>\n",
       "      <td>-0.2960</td>\n",
       "    </tr>\n",
       "    <tr>\n",
       "      <th>3840</th>\n",
       "      <td>0.000</td>\n",
       "      <td>0.000</td>\n",
       "      <td>1.000</td>\n",
       "      <td>0.7574</td>\n",
       "    </tr>\n",
       "    <tr>\n",
       "      <th>3841</th>\n",
       "      <td>0.021</td>\n",
       "      <td>0.682</td>\n",
       "      <td>0.297</td>\n",
       "      <td>0.9769</td>\n",
       "    </tr>\n",
       "    <tr>\n",
       "      <th>3842</th>\n",
       "      <td>0.060</td>\n",
       "      <td>0.800</td>\n",
       "      <td>0.140</td>\n",
       "      <td>0.6839</td>\n",
       "    </tr>\n",
       "    <tr>\n",
       "      <th>3846</th>\n",
       "      <td>0.048</td>\n",
       "      <td>0.876</td>\n",
       "      <td>0.076</td>\n",
       "      <td>0.3147</td>\n",
       "    </tr>\n",
       "  </tbody>\n",
       "</table>\n",
       "<p>3685 rows × 4 columns</p>\n",
       "</div>"
      ],
      "text/plain": [
       "        neg    neu    pos  compound\n",
       "0     0.029  0.737  0.234    0.8473\n",
       "1     0.051  0.677  0.272    0.7810\n",
       "2     0.000  1.000  0.000    0.0000\n",
       "3     0.000  0.446  0.554    0.7351\n",
       "4     0.060  0.843  0.096    0.3716\n",
       "...     ...    ...    ...       ...\n",
       "3839  0.109  0.891  0.000   -0.2960\n",
       "3840  0.000  0.000  1.000    0.7574\n",
       "3841  0.021  0.682  0.297    0.9769\n",
       "3842  0.060  0.800  0.140    0.6839\n",
       "3846  0.048  0.876  0.076    0.3147\n",
       "\n",
       "[3685 rows x 4 columns]"
      ]
     },
     "execution_count": 251,
     "metadata": {},
     "output_type": "execute_result"
    }
   ],
   "source": [
    "vaders = pd.DataFrame(result).T\n",
    "vaders"
   ]
  },
  {
   "cell_type": "code",
   "execution_count": 252,
   "id": "6f1abe1d",
   "metadata": {},
   "outputs": [
    {
     "data": {
      "text/html": [
       "<div>\n",
       "<style scoped>\n",
       "    .dataframe tbody tr th:only-of-type {\n",
       "        vertical-align: middle;\n",
       "    }\n",
       "\n",
       "    .dataframe tbody tr th {\n",
       "        vertical-align: top;\n",
       "    }\n",
       "\n",
       "    .dataframe thead th {\n",
       "        text-align: right;\n",
       "    }\n",
       "</style>\n",
       "<table border=\"1\" class=\"dataframe\">\n",
       "  <thead>\n",
       "    <tr style=\"text-align: right;\">\n",
       "      <th></th>\n",
       "      <th>neg</th>\n",
       "      <th>neu</th>\n",
       "      <th>pos</th>\n",
       "      <th>compound</th>\n",
       "      <th>sentiment</th>\n",
       "    </tr>\n",
       "  </thead>\n",
       "  <tbody>\n",
       "    <tr>\n",
       "      <th>0</th>\n",
       "      <td>0.029</td>\n",
       "      <td>0.737</td>\n",
       "      <td>0.234</td>\n",
       "      <td>0.8473</td>\n",
       "      <td>compound</td>\n",
       "    </tr>\n",
       "    <tr>\n",
       "      <th>1</th>\n",
       "      <td>0.051</td>\n",
       "      <td>0.677</td>\n",
       "      <td>0.272</td>\n",
       "      <td>0.7810</td>\n",
       "      <td>compound</td>\n",
       "    </tr>\n",
       "    <tr>\n",
       "      <th>2</th>\n",
       "      <td>0.000</td>\n",
       "      <td>1.000</td>\n",
       "      <td>0.000</td>\n",
       "      <td>0.0000</td>\n",
       "      <td>neu</td>\n",
       "    </tr>\n",
       "    <tr>\n",
       "      <th>3</th>\n",
       "      <td>0.000</td>\n",
       "      <td>0.446</td>\n",
       "      <td>0.554</td>\n",
       "      <td>0.7351</td>\n",
       "      <td>compound</td>\n",
       "    </tr>\n",
       "    <tr>\n",
       "      <th>4</th>\n",
       "      <td>0.060</td>\n",
       "      <td>0.843</td>\n",
       "      <td>0.096</td>\n",
       "      <td>0.3716</td>\n",
       "      <td>neu</td>\n",
       "    </tr>\n",
       "    <tr>\n",
       "      <th>...</th>\n",
       "      <td>...</td>\n",
       "      <td>...</td>\n",
       "      <td>...</td>\n",
       "      <td>...</td>\n",
       "      <td>...</td>\n",
       "    </tr>\n",
       "    <tr>\n",
       "      <th>3839</th>\n",
       "      <td>0.109</td>\n",
       "      <td>0.891</td>\n",
       "      <td>0.000</td>\n",
       "      <td>-0.2960</td>\n",
       "      <td>neu</td>\n",
       "    </tr>\n",
       "    <tr>\n",
       "      <th>3840</th>\n",
       "      <td>0.000</td>\n",
       "      <td>0.000</td>\n",
       "      <td>1.000</td>\n",
       "      <td>0.7574</td>\n",
       "      <td>pos</td>\n",
       "    </tr>\n",
       "    <tr>\n",
       "      <th>3841</th>\n",
       "      <td>0.021</td>\n",
       "      <td>0.682</td>\n",
       "      <td>0.297</td>\n",
       "      <td>0.9769</td>\n",
       "      <td>compound</td>\n",
       "    </tr>\n",
       "    <tr>\n",
       "      <th>3842</th>\n",
       "      <td>0.060</td>\n",
       "      <td>0.800</td>\n",
       "      <td>0.140</td>\n",
       "      <td>0.6839</td>\n",
       "      <td>neu</td>\n",
       "    </tr>\n",
       "    <tr>\n",
       "      <th>3846</th>\n",
       "      <td>0.048</td>\n",
       "      <td>0.876</td>\n",
       "      <td>0.076</td>\n",
       "      <td>0.3147</td>\n",
       "      <td>neu</td>\n",
       "    </tr>\n",
       "  </tbody>\n",
       "</table>\n",
       "<p>3685 rows × 5 columns</p>\n",
       "</div>"
      ],
      "text/plain": [
       "        neg    neu    pos  compound sentiment\n",
       "0     0.029  0.737  0.234    0.8473  compound\n",
       "1     0.051  0.677  0.272    0.7810  compound\n",
       "2     0.000  1.000  0.000    0.0000       neu\n",
       "3     0.000  0.446  0.554    0.7351  compound\n",
       "4     0.060  0.843  0.096    0.3716       neu\n",
       "...     ...    ...    ...       ...       ...\n",
       "3839  0.109  0.891  0.000   -0.2960       neu\n",
       "3840  0.000  0.000  1.000    0.7574       pos\n",
       "3841  0.021  0.682  0.297    0.9769  compound\n",
       "3842  0.060  0.800  0.140    0.6839       neu\n",
       "3846  0.048  0.876  0.076    0.3147       neu\n",
       "\n",
       "[3685 rows x 5 columns]"
      ]
     },
     "execution_count": 252,
     "metadata": {},
     "output_type": "execute_result"
    }
   ],
   "source": [
    "vaders['sentiment'] = vaders.idxmax(axis=1)\n",
    "vaders"
   ]
  },
  {
   "cell_type": "code",
   "execution_count": 253,
   "id": "f3237c1f",
   "metadata": {},
   "outputs": [
    {
     "data": {
      "text/html": [
       "<div>\n",
       "<style scoped>\n",
       "    .dataframe tbody tr th:only-of-type {\n",
       "        vertical-align: middle;\n",
       "    }\n",
       "\n",
       "    .dataframe tbody tr th {\n",
       "        vertical-align: top;\n",
       "    }\n",
       "\n",
       "    .dataframe thead th {\n",
       "        text-align: right;\n",
       "    }\n",
       "</style>\n",
       "<table border=\"1\" class=\"dataframe\">\n",
       "  <thead>\n",
       "    <tr style=\"text-align: right;\">\n",
       "      <th></th>\n",
       "      <th>index</th>\n",
       "      <th>neg</th>\n",
       "      <th>neu</th>\n",
       "      <th>pos</th>\n",
       "      <th>compound</th>\n",
       "      <th>sentiment</th>\n",
       "    </tr>\n",
       "  </thead>\n",
       "  <tbody>\n",
       "    <tr>\n",
       "      <th>0</th>\n",
       "      <td>0</td>\n",
       "      <td>0.029</td>\n",
       "      <td>0.737</td>\n",
       "      <td>0.234</td>\n",
       "      <td>0.8473</td>\n",
       "      <td>compound</td>\n",
       "    </tr>\n",
       "    <tr>\n",
       "      <th>1</th>\n",
       "      <td>1</td>\n",
       "      <td>0.051</td>\n",
       "      <td>0.677</td>\n",
       "      <td>0.272</td>\n",
       "      <td>0.7810</td>\n",
       "      <td>compound</td>\n",
       "    </tr>\n",
       "    <tr>\n",
       "      <th>2</th>\n",
       "      <td>2</td>\n",
       "      <td>0.000</td>\n",
       "      <td>1.000</td>\n",
       "      <td>0.000</td>\n",
       "      <td>0.0000</td>\n",
       "      <td>neu</td>\n",
       "    </tr>\n",
       "    <tr>\n",
       "      <th>3</th>\n",
       "      <td>3</td>\n",
       "      <td>0.000</td>\n",
       "      <td>0.446</td>\n",
       "      <td>0.554</td>\n",
       "      <td>0.7351</td>\n",
       "      <td>compound</td>\n",
       "    </tr>\n",
       "    <tr>\n",
       "      <th>4</th>\n",
       "      <td>4</td>\n",
       "      <td>0.060</td>\n",
       "      <td>0.843</td>\n",
       "      <td>0.096</td>\n",
       "      <td>0.3716</td>\n",
       "      <td>neu</td>\n",
       "    </tr>\n",
       "    <tr>\n",
       "      <th>...</th>\n",
       "      <td>...</td>\n",
       "      <td>...</td>\n",
       "      <td>...</td>\n",
       "      <td>...</td>\n",
       "      <td>...</td>\n",
       "      <td>...</td>\n",
       "    </tr>\n",
       "    <tr>\n",
       "      <th>3680</th>\n",
       "      <td>3839</td>\n",
       "      <td>0.109</td>\n",
       "      <td>0.891</td>\n",
       "      <td>0.000</td>\n",
       "      <td>-0.2960</td>\n",
       "      <td>neu</td>\n",
       "    </tr>\n",
       "    <tr>\n",
       "      <th>3681</th>\n",
       "      <td>3840</td>\n",
       "      <td>0.000</td>\n",
       "      <td>0.000</td>\n",
       "      <td>1.000</td>\n",
       "      <td>0.7574</td>\n",
       "      <td>pos</td>\n",
       "    </tr>\n",
       "    <tr>\n",
       "      <th>3682</th>\n",
       "      <td>3841</td>\n",
       "      <td>0.021</td>\n",
       "      <td>0.682</td>\n",
       "      <td>0.297</td>\n",
       "      <td>0.9769</td>\n",
       "      <td>compound</td>\n",
       "    </tr>\n",
       "    <tr>\n",
       "      <th>3683</th>\n",
       "      <td>3842</td>\n",
       "      <td>0.060</td>\n",
       "      <td>0.800</td>\n",
       "      <td>0.140</td>\n",
       "      <td>0.6839</td>\n",
       "      <td>neu</td>\n",
       "    </tr>\n",
       "    <tr>\n",
       "      <th>3684</th>\n",
       "      <td>3846</td>\n",
       "      <td>0.048</td>\n",
       "      <td>0.876</td>\n",
       "      <td>0.076</td>\n",
       "      <td>0.3147</td>\n",
       "      <td>neu</td>\n",
       "    </tr>\n",
       "  </tbody>\n",
       "</table>\n",
       "<p>3685 rows × 6 columns</p>\n",
       "</div>"
      ],
      "text/plain": [
       "      index    neg    neu    pos  compound sentiment\n",
       "0         0  0.029  0.737  0.234    0.8473  compound\n",
       "1         1  0.051  0.677  0.272    0.7810  compound\n",
       "2         2  0.000  1.000  0.000    0.0000       neu\n",
       "3         3  0.000  0.446  0.554    0.7351  compound\n",
       "4         4  0.060  0.843  0.096    0.3716       neu\n",
       "...     ...    ...    ...    ...       ...       ...\n",
       "3680   3839  0.109  0.891  0.000   -0.2960       neu\n",
       "3681   3840  0.000  0.000  1.000    0.7574       pos\n",
       "3682   3841  0.021  0.682  0.297    0.9769  compound\n",
       "3683   3842  0.060  0.800  0.140    0.6839       neu\n",
       "3684   3846  0.048  0.876  0.076    0.3147       neu\n",
       "\n",
       "[3685 rows x 6 columns]"
      ]
     },
     "execution_count": 253,
     "metadata": {},
     "output_type": "execute_result"
    }
   ],
   "source": [
    "vaders = vaders.reset_index().rename(columns={'index': 'index'})\n",
    "vaders"
   ]
  },
  {
   "cell_type": "code",
   "execution_count": 254,
   "id": "491c32b8",
   "metadata": {},
   "outputs": [
    {
     "data": {
      "text/html": [
       "<div>\n",
       "<style scoped>\n",
       "    .dataframe tbody tr th:only-of-type {\n",
       "        vertical-align: middle;\n",
       "    }\n",
       "\n",
       "    .dataframe tbody tr th {\n",
       "        vertical-align: top;\n",
       "    }\n",
       "\n",
       "    .dataframe thead th {\n",
       "        text-align: right;\n",
       "    }\n",
       "</style>\n",
       "<table border=\"1\" class=\"dataframe\">\n",
       "  <thead>\n",
       "    <tr style=\"text-align: right;\">\n",
       "      <th></th>\n",
       "      <th>index</th>\n",
       "      <th>neg</th>\n",
       "      <th>neu</th>\n",
       "      <th>pos</th>\n",
       "      <th>compound</th>\n",
       "      <th>sentiment</th>\n",
       "      <th>name</th>\n",
       "      <th>price</th>\n",
       "      <th>reviewers</th>\n",
       "      <th>dates</th>\n",
       "      <th>ratings</th>\n",
       "      <th>titles</th>\n",
       "      <th>contents</th>\n",
       "    </tr>\n",
       "  </thead>\n",
       "  <tbody>\n",
       "    <tr>\n",
       "      <th>0</th>\n",
       "      <td>0</td>\n",
       "      <td>0.029</td>\n",
       "      <td>0.737</td>\n",
       "      <td>0.234</td>\n",
       "      <td>0.8473</td>\n",
       "      <td>compound</td>\n",
       "      <td>THE NORTH FACE Men’s Venture 2 Waterproof Hood...</td>\n",
       "      <td>$109.85 -\\n$109.95</td>\n",
       "      <td>Abraham</td>\n",
       "      <td>2023-06-04</td>\n",
       "      <td>4.6</td>\n",
       "      <td>Worth every penny</td>\n",
       "      <td>This is a must have if you are in a rainy area...</td>\n",
       "    </tr>\n",
       "    <tr>\n",
       "      <th>1</th>\n",
       "      <td>1</td>\n",
       "      <td>0.051</td>\n",
       "      <td>0.677</td>\n",
       "      <td>0.272</td>\n",
       "      <td>0.7810</td>\n",
       "      <td>compound</td>\n",
       "      <td>THE NORTH FACE Men’s Venture 2 Waterproof Hood...</td>\n",
       "      <td>$109.85 -\\n$109.95</td>\n",
       "      <td>The Review</td>\n",
       "      <td>2023-04-23</td>\n",
       "      <td>4.6</td>\n",
       "      <td>comfortable and completely water proof</td>\n",
       "      <td>very wet rainy season this year, so had ample ...</td>\n",
       "    </tr>\n",
       "    <tr>\n",
       "      <th>2</th>\n",
       "      <td>2</td>\n",
       "      <td>0.000</td>\n",
       "      <td>1.000</td>\n",
       "      <td>0.000</td>\n",
       "      <td>0.0000</td>\n",
       "      <td>neu</td>\n",
       "      <td>THE NORTH FACE Men’s Venture 2 Waterproof Hood...</td>\n",
       "      <td>$109.85 -\\n$109.95</td>\n",
       "      <td>Abraham</td>\n",
       "      <td>2023-06-04</td>\n",
       "      <td>4.6</td>\n",
       "      <td>Muy útil</td>\n",
       "      <td>Cómoda , resiste el frío y el agua</td>\n",
       "    </tr>\n",
       "    <tr>\n",
       "      <th>3</th>\n",
       "      <td>3</td>\n",
       "      <td>0.000</td>\n",
       "      <td>0.446</td>\n",
       "      <td>0.554</td>\n",
       "      <td>0.7351</td>\n",
       "      <td>compound</td>\n",
       "      <td>THE NORTH FACE Men’s Venture 2 Waterproof Hood...</td>\n",
       "      <td>$109.85 -\\n$109.95</td>\n",
       "      <td>Amazon Customer</td>\n",
       "      <td>2023-05-17</td>\n",
       "      <td>4.6</td>\n",
       "      <td>Very Nice</td>\n",
       "      <td>Fits well and great materials and construction</td>\n",
       "    </tr>\n",
       "    <tr>\n",
       "      <th>4</th>\n",
       "      <td>4</td>\n",
       "      <td>0.060</td>\n",
       "      <td>0.843</td>\n",
       "      <td>0.096</td>\n",
       "      <td>0.3716</td>\n",
       "      <td>neu</td>\n",
       "      <td>THE NORTH FACE Men’s Venture 2 Waterproof Hood...</td>\n",
       "      <td>$109.85 -\\n$109.95</td>\n",
       "      <td>Nelson Junior Jara Montiel</td>\n",
       "      <td>2023-05-28</td>\n",
       "      <td>4.6</td>\n",
       "      <td>Different fit, cheaper design</td>\n",
       "      <td>I am replacing the original venture jacket. Th...</td>\n",
       "    </tr>\n",
       "    <tr>\n",
       "      <th>...</th>\n",
       "      <td>...</td>\n",
       "      <td>...</td>\n",
       "      <td>...</td>\n",
       "      <td>...</td>\n",
       "      <td>...</td>\n",
       "      <td>...</td>\n",
       "      <td>...</td>\n",
       "      <td>...</td>\n",
       "      <td>...</td>\n",
       "      <td>...</td>\n",
       "      <td>...</td>\n",
       "      <td>...</td>\n",
       "      <td>...</td>\n",
       "    </tr>\n",
       "    <tr>\n",
       "      <th>3680</th>\n",
       "      <td>3839</td>\n",
       "      <td>0.109</td>\n",
       "      <td>0.891</td>\n",
       "      <td>0.000</td>\n",
       "      <td>-0.2960</td>\n",
       "      <td>neu</td>\n",
       "      <td>THE NORTH FACE Class V Camp Mens Hat</td>\n",
       "      <td>$32.95</td>\n",
       "      <td>M. Goldstein</td>\n",
       "      <td>2022-11-16</td>\n",
       "      <td>4.4</td>\n",
       "      <td>Finally a hat that looks decent on me</td>\n",
       "      <td>so small. should be for children. no full grow...</td>\n",
       "    </tr>\n",
       "    <tr>\n",
       "      <th>3681</th>\n",
       "      <td>3840</td>\n",
       "      <td>0.000</td>\n",
       "      <td>0.000</td>\n",
       "      <td>1.000</td>\n",
       "      <td>0.7574</td>\n",
       "      <td>pos</td>\n",
       "      <td>THE NORTH FACE Class V Camp Mens Hat</td>\n",
       "      <td>$32.95</td>\n",
       "      <td>anonymous</td>\n",
       "      <td>2023-04-16</td>\n",
       "      <td>4.4</td>\n",
       "      <td>The North Face Logo is easily removed!!</td>\n",
       "      <td>Perfect fit!</td>\n",
       "    </tr>\n",
       "    <tr>\n",
       "      <th>3682</th>\n",
       "      <td>3841</td>\n",
       "      <td>0.021</td>\n",
       "      <td>0.682</td>\n",
       "      <td>0.297</td>\n",
       "      <td>0.9769</td>\n",
       "      <td>compound</td>\n",
       "      <td>THE NORTH FACE Class V Camp Mens Hat</td>\n",
       "      <td>$32.95</td>\n",
       "      <td>jeff gerhart</td>\n",
       "      <td>2022-09-30</td>\n",
       "      <td>4.4</td>\n",
       "      <td>this hat was way too small</td>\n",
       "      <td>I love this hat! I have a shaved head and glas...</td>\n",
       "    </tr>\n",
       "    <tr>\n",
       "      <th>3683</th>\n",
       "      <td>3842</td>\n",
       "      <td>0.060</td>\n",
       "      <td>0.800</td>\n",
       "      <td>0.140</td>\n",
       "      <td>0.6839</td>\n",
       "      <td>neu</td>\n",
       "      <td>THE NORTH FACE Class V Camp Mens Hat</td>\n",
       "      <td>$32.95</td>\n",
       "      <td>Maria</td>\n",
       "      <td>2023-05-24</td>\n",
       "      <td>4.4</td>\n",
       "      <td>Finally a hat that looks decent on me</td>\n",
       "      <td>Great Hat!\\nThe North Face logo label on the f...</td>\n",
       "    </tr>\n",
       "    <tr>\n",
       "      <th>3684</th>\n",
       "      <td>3846</td>\n",
       "      <td>0.048</td>\n",
       "      <td>0.876</td>\n",
       "      <td>0.076</td>\n",
       "      <td>0.3147</td>\n",
       "      <td>neu</td>\n",
       "      <td>THE NORTH FACE Class V Reversible Bucket Mens Hat</td>\n",
       "      <td>$34.95</td>\n",
       "      <td>TW</td>\n",
       "      <td>2023-05-25</td>\n",
       "      <td>5.0</td>\n",
       "      <td>Loved it</td>\n",
       "      <td>Bucket hat with SPF and a pocket! The pocket w...</td>\n",
       "    </tr>\n",
       "  </tbody>\n",
       "</table>\n",
       "<p>3685 rows × 13 columns</p>\n",
       "</div>"
      ],
      "text/plain": [
       "      index    neg    neu    pos  compound sentiment  \\\n",
       "0         0  0.029  0.737  0.234    0.8473  compound   \n",
       "1         1  0.051  0.677  0.272    0.7810  compound   \n",
       "2         2  0.000  1.000  0.000    0.0000       neu   \n",
       "3         3  0.000  0.446  0.554    0.7351  compound   \n",
       "4         4  0.060  0.843  0.096    0.3716       neu   \n",
       "...     ...    ...    ...    ...       ...       ...   \n",
       "3680   3839  0.109  0.891  0.000   -0.2960       neu   \n",
       "3681   3840  0.000  0.000  1.000    0.7574       pos   \n",
       "3682   3841  0.021  0.682  0.297    0.9769  compound   \n",
       "3683   3842  0.060  0.800  0.140    0.6839       neu   \n",
       "3684   3846  0.048  0.876  0.076    0.3147       neu   \n",
       "\n",
       "                                                   name               price  \\\n",
       "0     THE NORTH FACE Men’s Venture 2 Waterproof Hood...  $109.85 -\\n$109.95   \n",
       "1     THE NORTH FACE Men’s Venture 2 Waterproof Hood...  $109.85 -\\n$109.95   \n",
       "2     THE NORTH FACE Men’s Venture 2 Waterproof Hood...  $109.85 -\\n$109.95   \n",
       "3     THE NORTH FACE Men’s Venture 2 Waterproof Hood...  $109.85 -\\n$109.95   \n",
       "4     THE NORTH FACE Men’s Venture 2 Waterproof Hood...  $109.85 -\\n$109.95   \n",
       "...                                                 ...                 ...   \n",
       "3680               THE NORTH FACE Class V Camp Mens Hat              $32.95   \n",
       "3681               THE NORTH FACE Class V Camp Mens Hat              $32.95   \n",
       "3682               THE NORTH FACE Class V Camp Mens Hat              $32.95   \n",
       "3683               THE NORTH FACE Class V Camp Mens Hat              $32.95   \n",
       "3684  THE NORTH FACE Class V Reversible Bucket Mens Hat              $34.95   \n",
       "\n",
       "                       reviewers      dates  ratings  \\\n",
       "0                        Abraham 2023-06-04      4.6   \n",
       "1                     The Review 2023-04-23      4.6   \n",
       "2                        Abraham 2023-06-04      4.6   \n",
       "3                Amazon Customer 2023-05-17      4.6   \n",
       "4     Nelson Junior Jara Montiel 2023-05-28      4.6   \n",
       "...                          ...        ...      ...   \n",
       "3680                M. Goldstein 2022-11-16      4.4   \n",
       "3681                   anonymous 2023-04-16      4.4   \n",
       "3682                jeff gerhart 2022-09-30      4.4   \n",
       "3683                       Maria 2023-05-24      4.4   \n",
       "3684                          TW 2023-05-25      5.0   \n",
       "\n",
       "                                       titles  \\\n",
       "0                           Worth every penny   \n",
       "1      comfortable and completely water proof   \n",
       "2                                    Muy útil   \n",
       "3                                   Very Nice   \n",
       "4               Different fit, cheaper design   \n",
       "...                                       ...   \n",
       "3680    Finally a hat that looks decent on me   \n",
       "3681  The North Face Logo is easily removed!!   \n",
       "3682               this hat was way too small   \n",
       "3683    Finally a hat that looks decent on me   \n",
       "3684                                 Loved it   \n",
       "\n",
       "                                               contents  \n",
       "0     This is a must have if you are in a rainy area...  \n",
       "1     very wet rainy season this year, so had ample ...  \n",
       "2                    Cómoda , resiste el frío y el agua  \n",
       "3        Fits well and great materials and construction  \n",
       "4     I am replacing the original venture jacket. Th...  \n",
       "...                                                 ...  \n",
       "3680  so small. should be for children. no full grow...  \n",
       "3681                                       Perfect fit!  \n",
       "3682  I love this hat! I have a shaved head and glas...  \n",
       "3683  Great Hat!\\nThe North Face logo label on the f...  \n",
       "3684  Bucket hat with SPF and a pocket! The pocket w...  \n",
       "\n",
       "[3685 rows x 13 columns]"
      ]
     },
     "execution_count": 254,
     "metadata": {},
     "output_type": "execute_result"
    }
   ],
   "source": [
    "vaders_new = vaders.merge(df)\n",
    "vaders_new"
   ]
  },
  {
   "cell_type": "code",
   "execution_count": 255,
   "id": "22370468",
   "metadata": {},
   "outputs": [
    {
     "data": {
      "text/html": [
       "<div>\n",
       "<style scoped>\n",
       "    .dataframe tbody tr th:only-of-type {\n",
       "        vertical-align: middle;\n",
       "    }\n",
       "\n",
       "    .dataframe tbody tr th {\n",
       "        vertical-align: top;\n",
       "    }\n",
       "\n",
       "    .dataframe thead th {\n",
       "        text-align: right;\n",
       "    }\n",
       "</style>\n",
       "<table border=\"1\" class=\"dataframe\">\n",
       "  <thead>\n",
       "    <tr style=\"text-align: right;\">\n",
       "      <th></th>\n",
       "      <th>index</th>\n",
       "      <th>neg</th>\n",
       "      <th>neu</th>\n",
       "      <th>pos</th>\n",
       "      <th>compound</th>\n",
       "      <th>sentiment</th>\n",
       "      <th>name</th>\n",
       "      <th>price</th>\n",
       "      <th>reviewers</th>\n",
       "      <th>dates</th>\n",
       "      <th>ratings</th>\n",
       "      <th>titles</th>\n",
       "      <th>contents</th>\n",
       "    </tr>\n",
       "  </thead>\n",
       "  <tbody>\n",
       "    <tr>\n",
       "      <th>0</th>\n",
       "      <td>0</td>\n",
       "      <td>0.029</td>\n",
       "      <td>0.737</td>\n",
       "      <td>0.234</td>\n",
       "      <td>0.8473</td>\n",
       "      <td>compound</td>\n",
       "      <td>THE NORTH FACE Men’s Venture 2 Waterproof Hood...</td>\n",
       "      <td>$109.85 -\\n$109.95</td>\n",
       "      <td>Abraham</td>\n",
       "      <td>2023-06-04</td>\n",
       "      <td>4.6</td>\n",
       "      <td>Worth every penny</td>\n",
       "      <td>This is a must have if you are in a rainy area...</td>\n",
       "    </tr>\n",
       "    <tr>\n",
       "      <th>1</th>\n",
       "      <td>1</td>\n",
       "      <td>0.051</td>\n",
       "      <td>0.677</td>\n",
       "      <td>0.272</td>\n",
       "      <td>0.7810</td>\n",
       "      <td>compound</td>\n",
       "      <td>THE NORTH FACE Men’s Venture 2 Waterproof Hood...</td>\n",
       "      <td>$109.85 -\\n$109.95</td>\n",
       "      <td>The Review</td>\n",
       "      <td>2023-04-23</td>\n",
       "      <td>4.6</td>\n",
       "      <td>comfortable and completely water proof</td>\n",
       "      <td>very wet rainy season this year, so had ample ...</td>\n",
       "    </tr>\n",
       "    <tr>\n",
       "      <th>2</th>\n",
       "      <td>2</td>\n",
       "      <td>0.000</td>\n",
       "      <td>1.000</td>\n",
       "      <td>0.000</td>\n",
       "      <td>0.0000</td>\n",
       "      <td>neu</td>\n",
       "      <td>THE NORTH FACE Men’s Venture 2 Waterproof Hood...</td>\n",
       "      <td>$109.85 -\\n$109.95</td>\n",
       "      <td>Abraham</td>\n",
       "      <td>2023-06-04</td>\n",
       "      <td>4.6</td>\n",
       "      <td>Muy útil</td>\n",
       "      <td>Cómoda , resiste el frío y el agua</td>\n",
       "    </tr>\n",
       "    <tr>\n",
       "      <th>3</th>\n",
       "      <td>3</td>\n",
       "      <td>0.000</td>\n",
       "      <td>0.446</td>\n",
       "      <td>0.554</td>\n",
       "      <td>0.7351</td>\n",
       "      <td>compound</td>\n",
       "      <td>THE NORTH FACE Men’s Venture 2 Waterproof Hood...</td>\n",
       "      <td>$109.85 -\\n$109.95</td>\n",
       "      <td>Amazon Customer</td>\n",
       "      <td>2023-05-17</td>\n",
       "      <td>4.6</td>\n",
       "      <td>Very Nice</td>\n",
       "      <td>Fits well and great materials and construction</td>\n",
       "    </tr>\n",
       "    <tr>\n",
       "      <th>4</th>\n",
       "      <td>4</td>\n",
       "      <td>0.060</td>\n",
       "      <td>0.843</td>\n",
       "      <td>0.096</td>\n",
       "      <td>0.3716</td>\n",
       "      <td>neu</td>\n",
       "      <td>THE NORTH FACE Men’s Venture 2 Waterproof Hood...</td>\n",
       "      <td>$109.85 -\\n$109.95</td>\n",
       "      <td>Nelson Junior Jara Montiel</td>\n",
       "      <td>2023-05-28</td>\n",
       "      <td>4.6</td>\n",
       "      <td>Different fit, cheaper design</td>\n",
       "      <td>I am replacing the original venture jacket. Th...</td>\n",
       "    </tr>\n",
       "    <tr>\n",
       "      <th>5</th>\n",
       "      <td>5</td>\n",
       "      <td>0.000</td>\n",
       "      <td>1.000</td>\n",
       "      <td>0.000</td>\n",
       "      <td>0.0000</td>\n",
       "      <td>neu</td>\n",
       "      <td>THE NORTH FACE Men’s Venture 2 Waterproof Hood...</td>\n",
       "      <td>$109.85 -\\n$109.95</td>\n",
       "      <td>JRandyMyrick</td>\n",
       "      <td>2023-05-01</td>\n",
       "      <td>4.6</td>\n",
       "      <td>Garment</td>\n",
       "      <td>Color inside. Pockets</td>\n",
       "    </tr>\n",
       "    <tr>\n",
       "      <th>6</th>\n",
       "      <td>6</td>\n",
       "      <td>0.000</td>\n",
       "      <td>0.771</td>\n",
       "      <td>0.229</td>\n",
       "      <td>0.8910</td>\n",
       "      <td>compound</td>\n",
       "      <td>THE NORTH FACE Men’s Venture 2 Waterproof Hood...</td>\n",
       "      <td>$109.85 -\\n$109.95</td>\n",
       "      <td>The Review</td>\n",
       "      <td>2023-04-23</td>\n",
       "      <td>4.6</td>\n",
       "      <td>Keeps me dry.</td>\n",
       "      <td>The jacket looks to be well made and did a gre...</td>\n",
       "    </tr>\n",
       "    <tr>\n",
       "      <th>7</th>\n",
       "      <td>7</td>\n",
       "      <td>0.000</td>\n",
       "      <td>0.752</td>\n",
       "      <td>0.248</td>\n",
       "      <td>0.6476</td>\n",
       "      <td>neu</td>\n",
       "      <td>THE NORTH FACE Men’s Venture 2 Waterproof Hood...</td>\n",
       "      <td>$109.85 -\\n$109.95</td>\n",
       "      <td>harv</td>\n",
       "      <td>2023-06-03</td>\n",
       "      <td>4.6</td>\n",
       "      <td>Outstanding Quality</td>\n",
       "      <td>Exactly what I ordered! The product is outstan...</td>\n",
       "    </tr>\n",
       "    <tr>\n",
       "      <th>8</th>\n",
       "      <td>8</td>\n",
       "      <td>0.000</td>\n",
       "      <td>0.627</td>\n",
       "      <td>0.373</td>\n",
       "      <td>0.8080</td>\n",
       "      <td>compound</td>\n",
       "      <td>THE NORTH FACE Men’s Venture 2 Waterproof Hood...</td>\n",
       "      <td>$109.85 -\\n$109.95</td>\n",
       "      <td>Sam</td>\n",
       "      <td>2023-02-27</td>\n",
       "      <td>4.6</td>\n",
       "      <td>as expected</td>\n",
       "      <td>very lightweight weatherproof shell. the mater...</td>\n",
       "    </tr>\n",
       "    <tr>\n",
       "      <th>9</th>\n",
       "      <td>9</td>\n",
       "      <td>0.111</td>\n",
       "      <td>0.785</td>\n",
       "      <td>0.104</td>\n",
       "      <td>0.1882</td>\n",
       "      <td>neu</td>\n",
       "      <td>THE NORTH FACE Men’s Venture 2 Waterproof Hood...</td>\n",
       "      <td>$109.85 -\\n$109.95</td>\n",
       "      <td>Amy</td>\n",
       "      <td>2023-03-18</td>\n",
       "      <td>4.6</td>\n",
       "      <td>It's just a basic windbreaker</td>\n",
       "      <td>You're definitly only paying for the name. The...</td>\n",
       "    </tr>\n",
       "  </tbody>\n",
       "</table>\n",
       "</div>"
      ],
      "text/plain": [
       "   index    neg    neu    pos  compound sentiment  \\\n",
       "0      0  0.029  0.737  0.234    0.8473  compound   \n",
       "1      1  0.051  0.677  0.272    0.7810  compound   \n",
       "2      2  0.000  1.000  0.000    0.0000       neu   \n",
       "3      3  0.000  0.446  0.554    0.7351  compound   \n",
       "4      4  0.060  0.843  0.096    0.3716       neu   \n",
       "5      5  0.000  1.000  0.000    0.0000       neu   \n",
       "6      6  0.000  0.771  0.229    0.8910  compound   \n",
       "7      7  0.000  0.752  0.248    0.6476       neu   \n",
       "8      8  0.000  0.627  0.373    0.8080  compound   \n",
       "9      9  0.111  0.785  0.104    0.1882       neu   \n",
       "\n",
       "                                                name               price  \\\n",
       "0  THE NORTH FACE Men’s Venture 2 Waterproof Hood...  $109.85 -\\n$109.95   \n",
       "1  THE NORTH FACE Men’s Venture 2 Waterproof Hood...  $109.85 -\\n$109.95   \n",
       "2  THE NORTH FACE Men’s Venture 2 Waterproof Hood...  $109.85 -\\n$109.95   \n",
       "3  THE NORTH FACE Men’s Venture 2 Waterproof Hood...  $109.85 -\\n$109.95   \n",
       "4  THE NORTH FACE Men’s Venture 2 Waterproof Hood...  $109.85 -\\n$109.95   \n",
       "5  THE NORTH FACE Men’s Venture 2 Waterproof Hood...  $109.85 -\\n$109.95   \n",
       "6  THE NORTH FACE Men’s Venture 2 Waterproof Hood...  $109.85 -\\n$109.95   \n",
       "7  THE NORTH FACE Men’s Venture 2 Waterproof Hood...  $109.85 -\\n$109.95   \n",
       "8  THE NORTH FACE Men’s Venture 2 Waterproof Hood...  $109.85 -\\n$109.95   \n",
       "9  THE NORTH FACE Men’s Venture 2 Waterproof Hood...  $109.85 -\\n$109.95   \n",
       "\n",
       "                    reviewers      dates  ratings  \\\n",
       "0                     Abraham 2023-06-04      4.6   \n",
       "1                  The Review 2023-04-23      4.6   \n",
       "2                     Abraham 2023-06-04      4.6   \n",
       "3             Amazon Customer 2023-05-17      4.6   \n",
       "4  Nelson Junior Jara Montiel 2023-05-28      4.6   \n",
       "5                JRandyMyrick 2023-05-01      4.6   \n",
       "6                  The Review 2023-04-23      4.6   \n",
       "7                        harv 2023-06-03      4.6   \n",
       "8                         Sam 2023-02-27      4.6   \n",
       "9                         Amy 2023-03-18      4.6   \n",
       "\n",
       "                                   titles  \\\n",
       "0                       Worth every penny   \n",
       "1  comfortable and completely water proof   \n",
       "2                                Muy útil   \n",
       "3                               Very Nice   \n",
       "4           Different fit, cheaper design   \n",
       "5                                 Garment   \n",
       "6                           Keeps me dry.   \n",
       "7                     Outstanding Quality   \n",
       "8                             as expected   \n",
       "9           It's just a basic windbreaker   \n",
       "\n",
       "                                            contents  \n",
       "0  This is a must have if you are in a rainy area...  \n",
       "1  very wet rainy season this year, so had ample ...  \n",
       "2                 Cómoda , resiste el frío y el agua  \n",
       "3     Fits well and great materials and construction  \n",
       "4  I am replacing the original venture jacket. Th...  \n",
       "5                              Color inside. Pockets  \n",
       "6  The jacket looks to be well made and did a gre...  \n",
       "7  Exactly what I ordered! The product is outstan...  \n",
       "8  very lightweight weatherproof shell. the mater...  \n",
       "9  You're definitly only paying for the name. The...  "
      ]
     },
     "execution_count": 255,
     "metadata": {},
     "output_type": "execute_result"
    }
   ],
   "source": [
    "# These are the sentiment score and metadata\n",
    "vaders_new.head(10)"
   ]
  },
  {
   "cell_type": "markdown",
   "id": "21e63535",
   "metadata": {},
   "source": [
    "Plot VADER results"
   ]
  },
  {
   "cell_type": "code",
   "execution_count": 256,
   "id": "f8a7d27a",
   "metadata": {},
   "outputs": [
    {
     "data": {
      "image/png": "[encoded data removed]",
      "text/plain": [
       "<Figure size 864x432 with 1 Axes>"
      ]
     },
     "metadata": {},
     "output_type": "display_data"
    }
   ],
   "source": [
    "plt.figure(figsize=(12, 6))\n",
    "ax = sns.barplot(data=vaders_new, x='ratings', y='compound')\n",
    "ax.set_title('Compund Score by Amazon The North Face Review')\n",
    "plt.tight_layout()\n",
    "plt.show()"
   ]
  },
  {
   "cell_type": "code",
   "execution_count": 257,
   "id": "fcef5314",
   "metadata": {},
   "outputs": [
    {
     "data": {
      "image/png": "[encoded data removed]",
      "text/plain": [
       "<Figure size 864x432 with 1 Axes>"
      ]
     },
     "metadata": {},
     "output_type": "display_data"
    }
   ],
   "source": [
    "plt.figure(figsize=(12, 6))\n",
    "ax = sns.barplot(data=vaders_new, x='ratings', y='pos')\n",
    "ax.set_title('Compund Score by Amazon The North Face Review')\n",
    "plt.tight_layout()\n",
    "plt.show()"
   ]
  },
  {
   "cell_type": "code",
   "execution_count": 258,
   "id": "7683001e",
   "metadata": {},
   "outputs": [
    {
     "data": {
      "image/png": "[encoded data removed]",
      "text/plain": [
       "<Figure size 1296x360 with 3 Axes>"
      ]
     },
     "metadata": {},
     "output_type": "display_data"
    }
   ],
   "source": [
    "fig, axs = plt.subplots(1, 3, figsize=(18, 5))\n",
    "sns.barplot(data=vaders_new, x='ratings', y='pos', ax=axs[0])\n",
    "sns.barplot(data=vaders_new, x='ratings', y='neu', ax=axs[1])\n",
    "sns.barplot(data=vaders_new, x='ratings', y='neg', ax=axs[2])\n",
    "axs[0].set_title('Positive')\n",
    "axs[1].set_title('Neutral')\n",
    "axs[2].set_title('Negative')\n",
    "axs[0].set_xticklabels(axs[0].get_xticklabels(), rotation=45, ha='right')\n",
    "axs[1].set_xticklabels(axs[1].get_xticklabels(), rotation=45, ha='right')\n",
    "axs[2].set_xticklabels(axs[2].get_xticklabels(), rotation=45, ha='right')\n",
    "plt.tight_layout()\n",
    "plt.show()"
   ]
  },
  {
   "cell_type": "markdown",
   "id": "96aaa776",
   "metadata": {},
   "source": [
    "I) From the above graph, it is not directly proportional whereby the higher the ratings, the more positive the review are. \n",
    "\n",
    "II) Upon checking the dataset it is observed that for some of the reviews, it has a high ratings but with a negative comments.\n",
    "\n",
    "III) Hence, the ratings is not directly proportional to the contents.\n"
   ]
  },
  {
   "cell_type": "code",
   "execution_count": 259,
   "id": "139ae8df",
   "metadata": {},
   "outputs": [
    {
     "data": {
      "text/html": [
       "<div>\n",
       "<style scoped>\n",
       "    .dataframe tbody tr th:only-of-type {\n",
       "        vertical-align: middle;\n",
       "    }\n",
       "\n",
       "    .dataframe tbody tr th {\n",
       "        vertical-align: top;\n",
       "    }\n",
       "\n",
       "    .dataframe thead th {\n",
       "        text-align: right;\n",
       "    }\n",
       "</style>\n",
       "<table border=\"1\" class=\"dataframe\">\n",
       "  <thead>\n",
       "    <tr style=\"text-align: right;\">\n",
       "      <th></th>\n",
       "      <th>contents</th>\n",
       "      <th>polarity</th>\n",
       "    </tr>\n",
       "  </thead>\n",
       "  <tbody>\n",
       "    <tr>\n",
       "      <th>0</th>\n",
       "      <td>This is a must have if you are in a rainy area...</td>\n",
       "      <td>neutral</td>\n",
       "    </tr>\n",
       "    <tr>\n",
       "      <th>1</th>\n",
       "      <td>very wet rainy season this year, so had ample ...</td>\n",
       "      <td>neutral</td>\n",
       "    </tr>\n",
       "    <tr>\n",
       "      <th>2</th>\n",
       "      <td>Cómoda , resiste el frío y el agua</td>\n",
       "      <td>neutral</td>\n",
       "    </tr>\n",
       "    <tr>\n",
       "      <th>3</th>\n",
       "      <td>Fits well and great materials and construction</td>\n",
       "      <td>neutral</td>\n",
       "    </tr>\n",
       "    <tr>\n",
       "      <th>4</th>\n",
       "      <td>I am replacing the original venture jacket. Th...</td>\n",
       "      <td>neutral</td>\n",
       "    </tr>\n",
       "    <tr>\n",
       "      <th>5</th>\n",
       "      <td>Color inside. Pockets</td>\n",
       "      <td>neutral</td>\n",
       "    </tr>\n",
       "    <tr>\n",
       "      <th>6</th>\n",
       "      <td>The jacket looks to be well made and did a gre...</td>\n",
       "      <td>neutral</td>\n",
       "    </tr>\n",
       "    <tr>\n",
       "      <th>7</th>\n",
       "      <td>Exactly what I ordered! The product is outstan...</td>\n",
       "      <td>neutral</td>\n",
       "    </tr>\n",
       "    <tr>\n",
       "      <th>8</th>\n",
       "      <td>very lightweight weatherproof shell. the mater...</td>\n",
       "      <td>neutral</td>\n",
       "    </tr>\n",
       "    <tr>\n",
       "      <th>9</th>\n",
       "      <td>You're definitly only paying for the name. The...</td>\n",
       "      <td>neutral</td>\n",
       "    </tr>\n",
       "  </tbody>\n",
       "</table>\n",
       "</div>"
      ],
      "text/plain": [
       "                                            contents polarity\n",
       "0  This is a must have if you are in a rainy area...  neutral\n",
       "1  very wet rainy season this year, so had ample ...  neutral\n",
       "2                 Cómoda , resiste el frío y el agua  neutral\n",
       "3     Fits well and great materials and construction  neutral\n",
       "4  I am replacing the original venture jacket. Th...  neutral\n",
       "5                              Color inside. Pockets  neutral\n",
       "6  The jacket looks to be well made and did a gre...  neutral\n",
       "7  Exactly what I ordered! The product is outstan...  neutral\n",
       "8  very lightweight weatherproof shell. the mater...  neutral\n",
       "9  You're definitly only paying for the name. The...  neutral"
      ]
     },
     "execution_count": 259,
     "metadata": {},
     "output_type": "execute_result"
    }
   ],
   "source": [
    "def format_data(vaders_new):\n",
    "    last_col = str(vaders.columns[-1])\n",
    "    first_col = str(vaders.columns[0])\n",
    "\n",
    "    vaders_new.rename(columns={last_col: 'contents', first_col: 'polarity'}, inplace=True)\n",
    "\n",
    "    # Change the ratings to negative, neutral, and positive\n",
    "    conditions = [\n",
    "        vaders_new['ratings'] < 4.3,\n",
    "        (vaders_new['ratings'] >= 4.3) & (vaders_new['ratings'] <= 4.6),\n",
    "        vaders_new['ratings'] > 4.6\n",
    "    ]\n",
    "    labels = ['negative', 'neutral', 'positive']\n",
    "\n",
    "    vaders_new['polarity'] = np.select(conditions, labels)\n",
    "\n",
    "    # Get only the two columns\n",
    "    return vaders_new[['contents', 'polarity']]\n",
    "\n",
    "# Apply the transformation\n",
    "vaders_new_polarity = format_data(df)\n",
    "vaders_new_polarity.head(10)"
   ]
  },
  {
   "cell_type": "code",
   "execution_count": 260,
   "id": "536682c5",
   "metadata": {},
   "outputs": [
    {
     "data": {
      "text/html": [
       "<div>\n",
       "<style scoped>\n",
       "    .dataframe tbody tr th:only-of-type {\n",
       "        vertical-align: middle;\n",
       "    }\n",
       "\n",
       "    .dataframe tbody tr th {\n",
       "        vertical-align: top;\n",
       "    }\n",
       "\n",
       "    .dataframe thead th {\n",
       "        text-align: right;\n",
       "    }\n",
       "</style>\n",
       "<table border=\"1\" class=\"dataframe\">\n",
       "  <thead>\n",
       "    <tr style=\"text-align: right;\">\n",
       "      <th></th>\n",
       "      <th>contents</th>\n",
       "      <th>polarity</th>\n",
       "      <th>vader_prediction</th>\n",
       "    </tr>\n",
       "  </thead>\n",
       "  <tbody>\n",
       "    <tr>\n",
       "      <th>0</th>\n",
       "      <td>This is a must have if you are in a rainy area...</td>\n",
       "      <td>neutral</td>\n",
       "      <td>positive</td>\n",
       "    </tr>\n",
       "    <tr>\n",
       "      <th>1</th>\n",
       "      <td>very wet rainy season this year, so had ample ...</td>\n",
       "      <td>neutral</td>\n",
       "      <td>positive</td>\n",
       "    </tr>\n",
       "    <tr>\n",
       "      <th>2</th>\n",
       "      <td>Cómoda , resiste el frío y el agua</td>\n",
       "      <td>neutral</td>\n",
       "      <td>neutral</td>\n",
       "    </tr>\n",
       "    <tr>\n",
       "      <th>3</th>\n",
       "      <td>Fits well and great materials and construction</td>\n",
       "      <td>neutral</td>\n",
       "      <td>positive</td>\n",
       "    </tr>\n",
       "    <tr>\n",
       "      <th>4</th>\n",
       "      <td>I am replacing the original venture jacket. Th...</td>\n",
       "      <td>neutral</td>\n",
       "      <td>positive</td>\n",
       "    </tr>\n",
       "    <tr>\n",
       "      <th>5</th>\n",
       "      <td>Color inside. Pockets</td>\n",
       "      <td>neutral</td>\n",
       "      <td>neutral</td>\n",
       "    </tr>\n",
       "    <tr>\n",
       "      <th>6</th>\n",
       "      <td>The jacket looks to be well made and did a gre...</td>\n",
       "      <td>neutral</td>\n",
       "      <td>positive</td>\n",
       "    </tr>\n",
       "    <tr>\n",
       "      <th>7</th>\n",
       "      <td>Exactly what I ordered! The product is outstan...</td>\n",
       "      <td>neutral</td>\n",
       "      <td>positive</td>\n",
       "    </tr>\n",
       "    <tr>\n",
       "      <th>8</th>\n",
       "      <td>very lightweight weatherproof shell. the mater...</td>\n",
       "      <td>neutral</td>\n",
       "      <td>positive</td>\n",
       "    </tr>\n",
       "    <tr>\n",
       "      <th>9</th>\n",
       "      <td>You're definitly only paying for the name. The...</td>\n",
       "      <td>neutral</td>\n",
       "      <td>positive</td>\n",
       "    </tr>\n",
       "  </tbody>\n",
       "</table>\n",
       "</div>"
      ],
      "text/plain": [
       "                                            contents polarity vader_prediction\n",
       "0  This is a must have if you are in a rainy area...  neutral         positive\n",
       "1  very wet rainy season this year, so had ample ...  neutral         positive\n",
       "2                 Cómoda , resiste el frío y el agua  neutral          neutral\n",
       "3     Fits well and great materials and construction  neutral         positive\n",
       "4  I am replacing the original venture jacket. Th...  neutral         positive\n",
       "5                              Color inside. Pockets  neutral          neutral\n",
       "6  The jacket looks to be well made and did a gre...  neutral         positive\n",
       "7  Exactly what I ordered! The product is outstan...  neutral         positive\n",
       "8  very lightweight weatherproof shell. the mater...  neutral         positive\n",
       "9  You're definitly only paying for the name. The...  neutral         positive"
      ]
     },
     "execution_count": 260,
     "metadata": {},
     "output_type": "execute_result"
    }
   ],
   "source": [
    "def format_output(output_dict):\n",
    "  \n",
    "  polarity = \"neutral\"\n",
    "\n",
    "  if(output_dict['compound']>= 0.05):\n",
    "    polarity = \"positive\"\n",
    "\n",
    "  elif(output_dict['compound']<= -0.05):\n",
    "    polarity = \"negative\"\n",
    "\n",
    "  return polarity\n",
    "\n",
    "def predict_sentiment(text):\n",
    "  \n",
    "  output_dict =  sia.polarity_scores(text)\n",
    "  return format_output(output_dict)\n",
    "\n",
    "# Run the predictions\n",
    "vaders_new_polarity[\"vader_prediction\"] = vaders_new_polarity[\"contents\"].apply(predict_sentiment)\n",
    "\n",
    "# Show 10 random rows of the data\n",
    "vaders_new_polarity.head(10)"
   ]
  },
  {
   "cell_type": "markdown",
   "id": "a1afb52a",
   "metadata": {},
   "source": [
    "### To generate the performance (precision, recall and f1 score)"
   ]
  },
  {
   "cell_type": "code",
   "execution_count": 261,
   "id": "42f7c821",
   "metadata": {},
   "outputs": [
    {
     "name": "stdout",
     "output_type": "stream",
     "text": [
      "Accuracy: 0.3603799185888738\n",
      "\n",
      "              precision    recall  f1-score   support\n",
      "\n",
      "    negative       0.01      0.09      0.02        58\n",
      "     neutral       0.62      0.14      0.23      2341\n",
      "    positive       0.36      0.78      0.49      1286\n",
      "\n",
      "    accuracy                           0.36      3685\n",
      "   macro avg       0.33      0.33      0.25      3685\n",
      "weighted avg       0.52      0.36      0.32      3685\n",
      "\n"
     ]
    }
   ],
   "source": [
    "from sklearn.metrics import accuracy_score, classification_report\n",
    "\n",
    "accuracy = accuracy_score(vaders_new_polarity['polarity'], vaders_new_polarity['vader_prediction'])\n",
    "\n",
    "print(\"Accuracy: {}\\n\".format(accuracy))\n",
    "\n",
    "# Show the classification report\n",
    "print(classification_report(vaders_new_polarity['polarity'], vaders_new_polarity['vader_prediction']))"
   ]
  },
  {
   "cell_type": "markdown",
   "id": "89290e58",
   "metadata": {},
   "source": [
    "I) The accuracy is low which is 0.36, meaning the polarity is not accurate as some of the bad reviews have high ratings.\n",
    "\n",
    "II) This might due to the reason that the reviewers want their comments to be at the top of the reviews, so that it is more noticeable.\n",
    "\n",
    "III) In order to remove the \"faulty\" data, reviews with high ratings but low compounds score are required to be filtered out."
   ]
  },
  {
   "cell_type": "code",
   "execution_count": 262,
   "id": "47a4030a",
   "metadata": {},
   "outputs": [
    {
     "data": {
      "text/html": [
       "<div>\n",
       "<style scoped>\n",
       "    .dataframe tbody tr th:only-of-type {\n",
       "        vertical-align: middle;\n",
       "    }\n",
       "\n",
       "    .dataframe tbody tr th {\n",
       "        vertical-align: top;\n",
       "    }\n",
       "\n",
       "    .dataframe thead th {\n",
       "        text-align: right;\n",
       "    }\n",
       "</style>\n",
       "<table border=\"1\" class=\"dataframe\">\n",
       "  <thead>\n",
       "    <tr style=\"text-align: right;\">\n",
       "      <th></th>\n",
       "      <th>index</th>\n",
       "      <th>neg</th>\n",
       "      <th>neu</th>\n",
       "      <th>pos</th>\n",
       "      <th>compound</th>\n",
       "      <th>sentiment</th>\n",
       "      <th>name</th>\n",
       "      <th>price</th>\n",
       "      <th>reviewers</th>\n",
       "      <th>dates</th>\n",
       "      <th>ratings</th>\n",
       "      <th>titles</th>\n",
       "      <th>contents</th>\n",
       "    </tr>\n",
       "  </thead>\n",
       "  <tbody>\n",
       "    <tr>\n",
       "      <th>2</th>\n",
       "      <td>2</td>\n",
       "      <td>0.000</td>\n",
       "      <td>1.000</td>\n",
       "      <td>0.000</td>\n",
       "      <td>0.0000</td>\n",
       "      <td>neu</td>\n",
       "      <td>THE NORTH FACE Men’s Venture 2 Waterproof Hood...</td>\n",
       "      <td>$109.85 -\\n$109.95</td>\n",
       "      <td>Abraham</td>\n",
       "      <td>2023-06-04</td>\n",
       "      <td>4.6</td>\n",
       "      <td>Muy útil</td>\n",
       "      <td>Cómoda , resiste el frío y el agua</td>\n",
       "    </tr>\n",
       "    <tr>\n",
       "      <th>5</th>\n",
       "      <td>5</td>\n",
       "      <td>0.000</td>\n",
       "      <td>1.000</td>\n",
       "      <td>0.000</td>\n",
       "      <td>0.0000</td>\n",
       "      <td>neu</td>\n",
       "      <td>THE NORTH FACE Men’s Venture 2 Waterproof Hood...</td>\n",
       "      <td>$109.85 -\\n$109.95</td>\n",
       "      <td>JRandyMyrick</td>\n",
       "      <td>2023-05-01</td>\n",
       "      <td>4.6</td>\n",
       "      <td>Garment</td>\n",
       "      <td>Color inside. Pockets</td>\n",
       "    </tr>\n",
       "    <tr>\n",
       "      <th>9</th>\n",
       "      <td>9</td>\n",
       "      <td>0.111</td>\n",
       "      <td>0.785</td>\n",
       "      <td>0.104</td>\n",
       "      <td>0.1882</td>\n",
       "      <td>neu</td>\n",
       "      <td>THE NORTH FACE Men’s Venture 2 Waterproof Hood...</td>\n",
       "      <td>$109.85 -\\n$109.95</td>\n",
       "      <td>Amy</td>\n",
       "      <td>2023-03-18</td>\n",
       "      <td>4.6</td>\n",
       "      <td>It's just a basic windbreaker</td>\n",
       "      <td>You're definitly only paying for the name. The...</td>\n",
       "    </tr>\n",
       "    <tr>\n",
       "      <th>14</th>\n",
       "      <td>15</td>\n",
       "      <td>0.000</td>\n",
       "      <td>1.000</td>\n",
       "      <td>0.000</td>\n",
       "      <td>0.0000</td>\n",
       "      <td>neu</td>\n",
       "      <td>THE NORTH FACE Men’s Venture 2 Waterproof Hood...</td>\n",
       "      <td>$109.85 -\\n$109.95</td>\n",
       "      <td>Amazon Customer</td>\n",
       "      <td>2023-05-17</td>\n",
       "      <td>4.6</td>\n",
       "      <td>Garment</td>\n",
       "      <td>Color inside. Pockets</td>\n",
       "    </tr>\n",
       "    <tr>\n",
       "      <th>18</th>\n",
       "      <td>19</td>\n",
       "      <td>0.111</td>\n",
       "      <td>0.785</td>\n",
       "      <td>0.104</td>\n",
       "      <td>0.1882</td>\n",
       "      <td>neu</td>\n",
       "      <td>THE NORTH FACE Men’s Venture 2 Waterproof Hood...</td>\n",
       "      <td>$109.85 -\\n$109.95</td>\n",
       "      <td>harv</td>\n",
       "      <td>2023-06-03</td>\n",
       "      <td>4.6</td>\n",
       "      <td>It's just a basic windbreaker</td>\n",
       "      <td>You're definitly only paying for the name. The...</td>\n",
       "    </tr>\n",
       "    <tr>\n",
       "      <th>...</th>\n",
       "      <td>...</td>\n",
       "      <td>...</td>\n",
       "      <td>...</td>\n",
       "      <td>...</td>\n",
       "      <td>...</td>\n",
       "      <td>...</td>\n",
       "      <td>...</td>\n",
       "      <td>...</td>\n",
       "      <td>...</td>\n",
       "      <td>...</td>\n",
       "      <td>...</td>\n",
       "      <td>...</td>\n",
       "      <td>...</td>\n",
       "    </tr>\n",
       "    <tr>\n",
       "      <th>3619</th>\n",
       "      <td>3773</td>\n",
       "      <td>0.356</td>\n",
       "      <td>0.533</td>\n",
       "      <td>0.111</td>\n",
       "      <td>-0.7597</td>\n",
       "      <td>neu</td>\n",
       "      <td>THE NORTH FACE Mudder Trucker Mens Cap</td>\n",
       "      <td>$31.95</td>\n",
       "      <td>Wade K.</td>\n",
       "      <td>2023-04-19</td>\n",
       "      <td>4.6</td>\n",
       "      <td>What a HORRIBLE hat. Fits horrible! Try it on ...</td>\n",
       "      <td>What a HORRIBLE hat. Fits horrible! Try it on ...</td>\n",
       "    </tr>\n",
       "    <tr>\n",
       "      <th>3621</th>\n",
       "      <td>3775</td>\n",
       "      <td>0.000</td>\n",
       "      <td>1.000</td>\n",
       "      <td>0.000</td>\n",
       "      <td>0.0000</td>\n",
       "      <td>neu</td>\n",
       "      <td>THE NORTH FACE Mudder Trucker Mens Cap</td>\n",
       "      <td>$31.95</td>\n",
       "      <td>gina inscore</td>\n",
       "      <td>2023-05-17</td>\n",
       "      <td>4.6</td>\n",
       "      <td>Great hat!</td>\n",
       "      <td>Excelente muy buena calidad</td>\n",
       "    </tr>\n",
       "    <tr>\n",
       "      <th>3622</th>\n",
       "      <td>3776</td>\n",
       "      <td>0.000</td>\n",
       "      <td>1.000</td>\n",
       "      <td>0.000</td>\n",
       "      <td>0.0000</td>\n",
       "      <td>neu</td>\n",
       "      <td>THE NORTH FACE Mudder Trucker Mens Cap</td>\n",
       "      <td>$31.95</td>\n",
       "      <td>David</td>\n",
       "      <td>2023-02-13</td>\n",
       "      <td>4.6</td>\n",
       "      <td>Nice</td>\n",
       "      <td>Es tal cual la imagen de la tienda. Gracias</td>\n",
       "    </tr>\n",
       "    <tr>\n",
       "      <th>3629</th>\n",
       "      <td>3783</td>\n",
       "      <td>0.000</td>\n",
       "      <td>1.000</td>\n",
       "      <td>0.000</td>\n",
       "      <td>0.0000</td>\n",
       "      <td>neu</td>\n",
       "      <td>THE NORTH FACE Mudder Trucker Mens Cap</td>\n",
       "      <td>$31.95</td>\n",
       "      <td>espacios</td>\n",
       "      <td>2023-04-22</td>\n",
       "      <td>4.6</td>\n",
       "      <td>Fits great, looks great &amp; true to size</td>\n",
       "      <td>Es excelente me encanto</td>\n",
       "    </tr>\n",
       "    <tr>\n",
       "      <th>3632</th>\n",
       "      <td>3786</td>\n",
       "      <td>0.000</td>\n",
       "      <td>1.000</td>\n",
       "      <td>0.000</td>\n",
       "      <td>0.0000</td>\n",
       "      <td>neu</td>\n",
       "      <td>THE NORTH FACE Mudder Trucker Mens Cap</td>\n",
       "      <td>$31.95</td>\n",
       "      <td>Julie Lauzon</td>\n",
       "      <td>2022-11-14</td>\n",
       "      <td>4.6</td>\n",
       "      <td>Nice</td>\n",
       "      <td>Me gustó mucho.</td>\n",
       "    </tr>\n",
       "  </tbody>\n",
       "</table>\n",
       "<p>700 rows × 13 columns</p>\n",
       "</div>"
      ],
      "text/plain": [
       "      index    neg    neu    pos  compound sentiment  \\\n",
       "2         2  0.000  1.000  0.000    0.0000       neu   \n",
       "5         5  0.000  1.000  0.000    0.0000       neu   \n",
       "9         9  0.111  0.785  0.104    0.1882       neu   \n",
       "14       15  0.000  1.000  0.000    0.0000       neu   \n",
       "18       19  0.111  0.785  0.104    0.1882       neu   \n",
       "...     ...    ...    ...    ...       ...       ...   \n",
       "3619   3773  0.356  0.533  0.111   -0.7597       neu   \n",
       "3621   3775  0.000  1.000  0.000    0.0000       neu   \n",
       "3622   3776  0.000  1.000  0.000    0.0000       neu   \n",
       "3629   3783  0.000  1.000  0.000    0.0000       neu   \n",
       "3632   3786  0.000  1.000  0.000    0.0000       neu   \n",
       "\n",
       "                                                   name               price  \\\n",
       "2     THE NORTH FACE Men’s Venture 2 Waterproof Hood...  $109.85 -\\n$109.95   \n",
       "5     THE NORTH FACE Men’s Venture 2 Waterproof Hood...  $109.85 -\\n$109.95   \n",
       "9     THE NORTH FACE Men’s Venture 2 Waterproof Hood...  $109.85 -\\n$109.95   \n",
       "14    THE NORTH FACE Men’s Venture 2 Waterproof Hood...  $109.85 -\\n$109.95   \n",
       "18    THE NORTH FACE Men’s Venture 2 Waterproof Hood...  $109.85 -\\n$109.95   \n",
       "...                                                 ...                 ...   \n",
       "3619             THE NORTH FACE Mudder Trucker Mens Cap              $31.95   \n",
       "3621             THE NORTH FACE Mudder Trucker Mens Cap              $31.95   \n",
       "3622             THE NORTH FACE Mudder Trucker Mens Cap              $31.95   \n",
       "3629             THE NORTH FACE Mudder Trucker Mens Cap              $31.95   \n",
       "3632             THE NORTH FACE Mudder Trucker Mens Cap              $31.95   \n",
       "\n",
       "            reviewers      dates  ratings  \\\n",
       "2             Abraham 2023-06-04      4.6   \n",
       "5        JRandyMyrick 2023-05-01      4.6   \n",
       "9                 Amy 2023-03-18      4.6   \n",
       "14    Amazon Customer 2023-05-17      4.6   \n",
       "18               harv 2023-06-03      4.6   \n",
       "...               ...        ...      ...   \n",
       "3619          Wade K. 2023-04-19      4.6   \n",
       "3621     gina inscore 2023-05-17      4.6   \n",
       "3622            David 2023-02-13      4.6   \n",
       "3629         espacios 2023-04-22      4.6   \n",
       "3632     Julie Lauzon 2022-11-14      4.6   \n",
       "\n",
       "                                                 titles  \\\n",
       "2                                              Muy útil   \n",
       "5                                               Garment   \n",
       "9                         It's just a basic windbreaker   \n",
       "14                                              Garment   \n",
       "18                        It's just a basic windbreaker   \n",
       "...                                                 ...   \n",
       "3619  What a HORRIBLE hat. Fits horrible! Try it on ...   \n",
       "3621                                         Great hat!   \n",
       "3622                                               Nice   \n",
       "3629             Fits great, looks great & true to size   \n",
       "3632                                               Nice   \n",
       "\n",
       "                                               contents  \n",
       "2                    Cómoda , resiste el frío y el agua  \n",
       "5                                 Color inside. Pockets  \n",
       "9     You're definitly only paying for the name. The...  \n",
       "14                                Color inside. Pockets  \n",
       "18    You're definitly only paying for the name. The...  \n",
       "...                                                 ...  \n",
       "3619  What a HORRIBLE hat. Fits horrible! Try it on ...  \n",
       "3621                        Excelente muy buena calidad  \n",
       "3622        Es tal cual la imagen de la tienda. Gracias  \n",
       "3629                            Es excelente me encanto  \n",
       "3632                                    Me gustó mucho.  \n",
       "\n",
       "[700 rows x 13 columns]"
      ]
     },
     "execution_count": 262,
     "metadata": {},
     "output_type": "execute_result"
    }
   ],
   "source": [
    "# To extract data with high ratings but low compound score\n",
    "high_ratings_low_compound = vaders_new[(vaders_new['ratings'] > 4.5) & (vaders_new['compound'] < 0.2)]\n",
    "high_ratings_low_compound"
   ]
  },
  {
   "cell_type": "code",
   "execution_count": 263,
   "id": "25733e06",
   "metadata": {},
   "outputs": [
    {
     "data": {
      "text/plain": [
       "18.99592944369064"
      ]
     },
     "execution_count": 263,
     "metadata": {},
     "output_type": "execute_result"
    }
   ],
   "source": [
    "total_rows = 3685\n",
    "faulty_rows = 700\n",
    "\n",
    "proportion_faulty = (faulty_rows / total_rows) * 100\n",
    "proportion_faulty"
   ]
  },
  {
   "cell_type": "markdown",
   "id": "34242bec",
   "metadata": {},
   "source": [
    "I) It is about 19% of faulty data"
   ]
  },
  {
   "cell_type": "code",
   "execution_count": 264,
   "id": "26344b20",
   "metadata": {},
   "outputs": [
    {
     "data": {
      "text/html": [
       "<div>\n",
       "<style scoped>\n",
       "    .dataframe tbody tr th:only-of-type {\n",
       "        vertical-align: middle;\n",
       "    }\n",
       "\n",
       "    .dataframe tbody tr th {\n",
       "        vertical-align: top;\n",
       "    }\n",
       "\n",
       "    .dataframe thead th {\n",
       "        text-align: right;\n",
       "    }\n",
       "</style>\n",
       "<table border=\"1\" class=\"dataframe\">\n",
       "  <thead>\n",
       "    <tr style=\"text-align: right;\">\n",
       "      <th></th>\n",
       "      <th>index</th>\n",
       "      <th>neg</th>\n",
       "      <th>neu</th>\n",
       "      <th>pos</th>\n",
       "      <th>compound</th>\n",
       "      <th>sentiment</th>\n",
       "      <th>name</th>\n",
       "      <th>price</th>\n",
       "      <th>reviewers</th>\n",
       "      <th>dates</th>\n",
       "      <th>ratings</th>\n",
       "      <th>titles</th>\n",
       "      <th>contents</th>\n",
       "    </tr>\n",
       "  </thead>\n",
       "  <tbody>\n",
       "    <tr>\n",
       "      <th>0</th>\n",
       "      <td>0</td>\n",
       "      <td>0.029</td>\n",
       "      <td>0.737</td>\n",
       "      <td>0.234</td>\n",
       "      <td>0.8473</td>\n",
       "      <td>compound</td>\n",
       "      <td>THE NORTH FACE Men’s Venture 2 Waterproof Hood...</td>\n",
       "      <td>$109.85 -\\n$109.95</td>\n",
       "      <td>Abraham</td>\n",
       "      <td>2023-06-04</td>\n",
       "      <td>4.6</td>\n",
       "      <td>Worth every penny</td>\n",
       "      <td>This is a must have if you are in a rainy area...</td>\n",
       "    </tr>\n",
       "    <tr>\n",
       "      <th>1</th>\n",
       "      <td>1</td>\n",
       "      <td>0.051</td>\n",
       "      <td>0.677</td>\n",
       "      <td>0.272</td>\n",
       "      <td>0.7810</td>\n",
       "      <td>compound</td>\n",
       "      <td>THE NORTH FACE Men’s Venture 2 Waterproof Hood...</td>\n",
       "      <td>$109.85 -\\n$109.95</td>\n",
       "      <td>The Review</td>\n",
       "      <td>2023-04-23</td>\n",
       "      <td>4.6</td>\n",
       "      <td>comfortable and completely water proof</td>\n",
       "      <td>very wet rainy season this year, so had ample ...</td>\n",
       "    </tr>\n",
       "    <tr>\n",
       "      <th>3</th>\n",
       "      <td>3</td>\n",
       "      <td>0.000</td>\n",
       "      <td>0.446</td>\n",
       "      <td>0.554</td>\n",
       "      <td>0.7351</td>\n",
       "      <td>compound</td>\n",
       "      <td>THE NORTH FACE Men’s Venture 2 Waterproof Hood...</td>\n",
       "      <td>$109.85 -\\n$109.95</td>\n",
       "      <td>Amazon Customer</td>\n",
       "      <td>2023-05-17</td>\n",
       "      <td>4.6</td>\n",
       "      <td>Very Nice</td>\n",
       "      <td>Fits well and great materials and construction</td>\n",
       "    </tr>\n",
       "    <tr>\n",
       "      <th>4</th>\n",
       "      <td>4</td>\n",
       "      <td>0.060</td>\n",
       "      <td>0.843</td>\n",
       "      <td>0.096</td>\n",
       "      <td>0.3716</td>\n",
       "      <td>neu</td>\n",
       "      <td>THE NORTH FACE Men’s Venture 2 Waterproof Hood...</td>\n",
       "      <td>$109.85 -\\n$109.95</td>\n",
       "      <td>Nelson Junior Jara Montiel</td>\n",
       "      <td>2023-05-28</td>\n",
       "      <td>4.6</td>\n",
       "      <td>Different fit, cheaper design</td>\n",
       "      <td>I am replacing the original venture jacket. Th...</td>\n",
       "    </tr>\n",
       "    <tr>\n",
       "      <th>6</th>\n",
       "      <td>6</td>\n",
       "      <td>0.000</td>\n",
       "      <td>0.771</td>\n",
       "      <td>0.229</td>\n",
       "      <td>0.8910</td>\n",
       "      <td>compound</td>\n",
       "      <td>THE NORTH FACE Men’s Venture 2 Waterproof Hood...</td>\n",
       "      <td>$109.85 -\\n$109.95</td>\n",
       "      <td>The Review</td>\n",
       "      <td>2023-04-23</td>\n",
       "      <td>4.6</td>\n",
       "      <td>Keeps me dry.</td>\n",
       "      <td>The jacket looks to be well made and did a gre...</td>\n",
       "    </tr>\n",
       "    <tr>\n",
       "      <th>...</th>\n",
       "      <td>...</td>\n",
       "      <td>...</td>\n",
       "      <td>...</td>\n",
       "      <td>...</td>\n",
       "      <td>...</td>\n",
       "      <td>...</td>\n",
       "      <td>...</td>\n",
       "      <td>...</td>\n",
       "      <td>...</td>\n",
       "      <td>...</td>\n",
       "      <td>...</td>\n",
       "      <td>...</td>\n",
       "      <td>...</td>\n",
       "    </tr>\n",
       "    <tr>\n",
       "      <th>3680</th>\n",
       "      <td>3839</td>\n",
       "      <td>0.109</td>\n",
       "      <td>0.891</td>\n",
       "      <td>0.000</td>\n",
       "      <td>-0.2960</td>\n",
       "      <td>neu</td>\n",
       "      <td>THE NORTH FACE Class V Camp Mens Hat</td>\n",
       "      <td>$32.95</td>\n",
       "      <td>M. Goldstein</td>\n",
       "      <td>2022-11-16</td>\n",
       "      <td>4.4</td>\n",
       "      <td>Finally a hat that looks decent on me</td>\n",
       "      <td>so small. should be for children. no full grow...</td>\n",
       "    </tr>\n",
       "    <tr>\n",
       "      <th>3681</th>\n",
       "      <td>3840</td>\n",
       "      <td>0.000</td>\n",
       "      <td>0.000</td>\n",
       "      <td>1.000</td>\n",
       "      <td>0.7574</td>\n",
       "      <td>pos</td>\n",
       "      <td>THE NORTH FACE Class V Camp Mens Hat</td>\n",
       "      <td>$32.95</td>\n",
       "      <td>anonymous</td>\n",
       "      <td>2023-04-16</td>\n",
       "      <td>4.4</td>\n",
       "      <td>The North Face Logo is easily removed!!</td>\n",
       "      <td>Perfect fit!</td>\n",
       "    </tr>\n",
       "    <tr>\n",
       "      <th>3682</th>\n",
       "      <td>3841</td>\n",
       "      <td>0.021</td>\n",
       "      <td>0.682</td>\n",
       "      <td>0.297</td>\n",
       "      <td>0.9769</td>\n",
       "      <td>compound</td>\n",
       "      <td>THE NORTH FACE Class V Camp Mens Hat</td>\n",
       "      <td>$32.95</td>\n",
       "      <td>jeff gerhart</td>\n",
       "      <td>2022-09-30</td>\n",
       "      <td>4.4</td>\n",
       "      <td>this hat was way too small</td>\n",
       "      <td>I love this hat! I have a shaved head and glas...</td>\n",
       "    </tr>\n",
       "    <tr>\n",
       "      <th>3683</th>\n",
       "      <td>3842</td>\n",
       "      <td>0.060</td>\n",
       "      <td>0.800</td>\n",
       "      <td>0.140</td>\n",
       "      <td>0.6839</td>\n",
       "      <td>neu</td>\n",
       "      <td>THE NORTH FACE Class V Camp Mens Hat</td>\n",
       "      <td>$32.95</td>\n",
       "      <td>Maria</td>\n",
       "      <td>2023-05-24</td>\n",
       "      <td>4.4</td>\n",
       "      <td>Finally a hat that looks decent on me</td>\n",
       "      <td>Great Hat!\\nThe North Face logo label on the f...</td>\n",
       "    </tr>\n",
       "    <tr>\n",
       "      <th>3684</th>\n",
       "      <td>3846</td>\n",
       "      <td>0.048</td>\n",
       "      <td>0.876</td>\n",
       "      <td>0.076</td>\n",
       "      <td>0.3147</td>\n",
       "      <td>neu</td>\n",
       "      <td>THE NORTH FACE Class V Reversible Bucket Mens Hat</td>\n",
       "      <td>$34.95</td>\n",
       "      <td>TW</td>\n",
       "      <td>2023-05-25</td>\n",
       "      <td>5.0</td>\n",
       "      <td>Loved it</td>\n",
       "      <td>Bucket hat with SPF and a pocket! The pocket w...</td>\n",
       "    </tr>\n",
       "  </tbody>\n",
       "</table>\n",
       "<p>2985 rows × 13 columns</p>\n",
       "</div>"
      ],
      "text/plain": [
       "      index    neg    neu    pos  compound sentiment  \\\n",
       "0         0  0.029  0.737  0.234    0.8473  compound   \n",
       "1         1  0.051  0.677  0.272    0.7810  compound   \n",
       "3         3  0.000  0.446  0.554    0.7351  compound   \n",
       "4         4  0.060  0.843  0.096    0.3716       neu   \n",
       "6         6  0.000  0.771  0.229    0.8910  compound   \n",
       "...     ...    ...    ...    ...       ...       ...   \n",
       "3680   3839  0.109  0.891  0.000   -0.2960       neu   \n",
       "3681   3840  0.000  0.000  1.000    0.7574       pos   \n",
       "3682   3841  0.021  0.682  0.297    0.9769  compound   \n",
       "3683   3842  0.060  0.800  0.140    0.6839       neu   \n",
       "3684   3846  0.048  0.876  0.076    0.3147       neu   \n",
       "\n",
       "                                                   name               price  \\\n",
       "0     THE NORTH FACE Men’s Venture 2 Waterproof Hood...  $109.85 -\\n$109.95   \n",
       "1     THE NORTH FACE Men’s Venture 2 Waterproof Hood...  $109.85 -\\n$109.95   \n",
       "3     THE NORTH FACE Men’s Venture 2 Waterproof Hood...  $109.85 -\\n$109.95   \n",
       "4     THE NORTH FACE Men’s Venture 2 Waterproof Hood...  $109.85 -\\n$109.95   \n",
       "6     THE NORTH FACE Men’s Venture 2 Waterproof Hood...  $109.85 -\\n$109.95   \n",
       "...                                                 ...                 ...   \n",
       "3680               THE NORTH FACE Class V Camp Mens Hat              $32.95   \n",
       "3681               THE NORTH FACE Class V Camp Mens Hat              $32.95   \n",
       "3682               THE NORTH FACE Class V Camp Mens Hat              $32.95   \n",
       "3683               THE NORTH FACE Class V Camp Mens Hat              $32.95   \n",
       "3684  THE NORTH FACE Class V Reversible Bucket Mens Hat              $34.95   \n",
       "\n",
       "                       reviewers      dates  ratings  \\\n",
       "0                        Abraham 2023-06-04      4.6   \n",
       "1                     The Review 2023-04-23      4.6   \n",
       "3                Amazon Customer 2023-05-17      4.6   \n",
       "4     Nelson Junior Jara Montiel 2023-05-28      4.6   \n",
       "6                     The Review 2023-04-23      4.6   \n",
       "...                          ...        ...      ...   \n",
       "3680                M. Goldstein 2022-11-16      4.4   \n",
       "3681                   anonymous 2023-04-16      4.4   \n",
       "3682                jeff gerhart 2022-09-30      4.4   \n",
       "3683                       Maria 2023-05-24      4.4   \n",
       "3684                          TW 2023-05-25      5.0   \n",
       "\n",
       "                                       titles  \\\n",
       "0                           Worth every penny   \n",
       "1      comfortable and completely water proof   \n",
       "3                                   Very Nice   \n",
       "4               Different fit, cheaper design   \n",
       "6                               Keeps me dry.   \n",
       "...                                       ...   \n",
       "3680    Finally a hat that looks decent on me   \n",
       "3681  The North Face Logo is easily removed!!   \n",
       "3682               this hat was way too small   \n",
       "3683    Finally a hat that looks decent on me   \n",
       "3684                                 Loved it   \n",
       "\n",
       "                                               contents  \n",
       "0     This is a must have if you are in a rainy area...  \n",
       "1     very wet rainy season this year, so had ample ...  \n",
       "3        Fits well and great materials and construction  \n",
       "4     I am replacing the original venture jacket. Th...  \n",
       "6     The jacket looks to be well made and did a gre...  \n",
       "...                                                 ...  \n",
       "3680  so small. should be for children. no full grow...  \n",
       "3681                                       Perfect fit!  \n",
       "3682  I love this hat! I have a shaved head and glas...  \n",
       "3683  Great Hat!\\nThe North Face logo label on the f...  \n",
       "3684  Bucket hat with SPF and a pocket! The pocket w...  \n",
       "\n",
       "[2985 rows x 13 columns]"
      ]
     },
     "execution_count": 264,
     "metadata": {},
     "output_type": "execute_result"
    }
   ],
   "source": [
    "# To remove the faulty data\n",
    "vaders_new_final = vaders_new.drop(vaders[(vaders_new['ratings'] > 4.5) & (vaders_new['compound'] < 0.2)].index)\n",
    "vaders_new_final"
   ]
  },
  {
   "cell_type": "code",
   "execution_count": null,
   "id": "eaceb0c8",
   "metadata": {},
   "outputs": [],
   "source": []
  },
  {
   "cell_type": "code",
   "execution_count": 265,
   "id": "3f59b2da",
   "metadata": {},
   "outputs": [
    {
     "data": {
      "text/html": [
       "<div>\n",
       "<style scoped>\n",
       "    .dataframe tbody tr th:only-of-type {\n",
       "        vertical-align: middle;\n",
       "    }\n",
       "\n",
       "    .dataframe tbody tr th {\n",
       "        vertical-align: top;\n",
       "    }\n",
       "\n",
       "    .dataframe thead th {\n",
       "        text-align: right;\n",
       "    }\n",
       "</style>\n",
       "<table border=\"1\" class=\"dataframe\">\n",
       "  <thead>\n",
       "    <tr style=\"text-align: right;\">\n",
       "      <th></th>\n",
       "      <th>contents</th>\n",
       "      <th>polarity</th>\n",
       "    </tr>\n",
       "  </thead>\n",
       "  <tbody>\n",
       "    <tr>\n",
       "      <th>0</th>\n",
       "      <td>This is a must have if you are in a rainy area...</td>\n",
       "      <td>neutral</td>\n",
       "    </tr>\n",
       "    <tr>\n",
       "      <th>1</th>\n",
       "      <td>very wet rainy season this year, so had ample ...</td>\n",
       "      <td>neutral</td>\n",
       "    </tr>\n",
       "    <tr>\n",
       "      <th>3</th>\n",
       "      <td>Fits well and great materials and construction</td>\n",
       "      <td>neutral</td>\n",
       "    </tr>\n",
       "    <tr>\n",
       "      <th>4</th>\n",
       "      <td>I am replacing the original venture jacket. Th...</td>\n",
       "      <td>neutral</td>\n",
       "    </tr>\n",
       "    <tr>\n",
       "      <th>6</th>\n",
       "      <td>The jacket looks to be well made and did a gre...</td>\n",
       "      <td>neutral</td>\n",
       "    </tr>\n",
       "    <tr>\n",
       "      <th>7</th>\n",
       "      <td>Exactly what I ordered! The product is outstan...</td>\n",
       "      <td>neutral</td>\n",
       "    </tr>\n",
       "    <tr>\n",
       "      <th>8</th>\n",
       "      <td>very lightweight weatherproof shell. the mater...</td>\n",
       "      <td>neutral</td>\n",
       "    </tr>\n",
       "    <tr>\n",
       "      <th>10</th>\n",
       "      <td>This is a must have if you are in a rainy area...</td>\n",
       "      <td>neutral</td>\n",
       "    </tr>\n",
       "    <tr>\n",
       "      <th>11</th>\n",
       "      <td>very wet rainy season this year, so had ample ...</td>\n",
       "      <td>neutral</td>\n",
       "    </tr>\n",
       "    <tr>\n",
       "      <th>12</th>\n",
       "      <td>Fits well and great materials and construction</td>\n",
       "      <td>neutral</td>\n",
       "    </tr>\n",
       "  </tbody>\n",
       "</table>\n",
       "</div>"
      ],
      "text/plain": [
       "                                             contents polarity\n",
       "0   This is a must have if you are in a rainy area...  neutral\n",
       "1   very wet rainy season this year, so had ample ...  neutral\n",
       "3      Fits well and great materials and construction  neutral\n",
       "4   I am replacing the original venture jacket. Th...  neutral\n",
       "6   The jacket looks to be well made and did a gre...  neutral\n",
       "7   Exactly what I ordered! The product is outstan...  neutral\n",
       "8   very lightweight weatherproof shell. the mater...  neutral\n",
       "10  This is a must have if you are in a rainy area...  neutral\n",
       "11  very wet rainy season this year, so had ample ...  neutral\n",
       "12     Fits well and great materials and construction  neutral"
      ]
     },
     "execution_count": 265,
     "metadata": {},
     "output_type": "execute_result"
    }
   ],
   "source": [
    "def format_data(vaders):\n",
    "    last_col = str(vaders_new_final.columns[-1])\n",
    "    first_col = str(vaders_new_final.columns[0])\n",
    "\n",
    "    vaders_new_final.rename(columns={last_col: 'contents', first_col: 'polarity'}, inplace=True)\n",
    "\n",
    "    # Change the ratings to negative, neutral, and positive\n",
    "    conditions = [\n",
    "        vaders_new_final['ratings'] < 4.3,\n",
    "        (vaders_new_final['ratings'] >= 4.3) & (vaders_new_final['ratings'] <= 4.6),\n",
    "        vaders_new_final['ratings'] > 4.6\n",
    "    ]\n",
    "    labels = ['negative', 'neutral', 'positive']\n",
    "\n",
    "    vaders_new_final['polarity'] = np.select(conditions, labels)\n",
    "\n",
    "    # Get only the two columns\n",
    "    return vaders_new_final[['contents', 'polarity']]\n",
    "\n",
    "# Apply the transformation\n",
    "vaders_new_final_polarity = format_data(df)\n",
    "vaders_new_final_polarity.head(10)"
   ]
  },
  {
   "cell_type": "code",
   "execution_count": 267,
   "id": "2bc4981f",
   "metadata": {},
   "outputs": [
    {
     "data": {
      "text/html": [
       "<div>\n",
       "<style scoped>\n",
       "    .dataframe tbody tr th:only-of-type {\n",
       "        vertical-align: middle;\n",
       "    }\n",
       "\n",
       "    .dataframe tbody tr th {\n",
       "        vertical-align: top;\n",
       "    }\n",
       "\n",
       "    .dataframe thead th {\n",
       "        text-align: right;\n",
       "    }\n",
       "</style>\n",
       "<table border=\"1\" class=\"dataframe\">\n",
       "  <thead>\n",
       "    <tr style=\"text-align: right;\">\n",
       "      <th></th>\n",
       "      <th>contents</th>\n",
       "      <th>polarity</th>\n",
       "      <th>vader_prediction</th>\n",
       "    </tr>\n",
       "  </thead>\n",
       "  <tbody>\n",
       "    <tr>\n",
       "      <th>0</th>\n",
       "      <td>This is a must have if you are in a rainy area...</td>\n",
       "      <td>neutral</td>\n",
       "      <td>positive</td>\n",
       "    </tr>\n",
       "    <tr>\n",
       "      <th>1</th>\n",
       "      <td>very wet rainy season this year, so had ample ...</td>\n",
       "      <td>neutral</td>\n",
       "      <td>positive</td>\n",
       "    </tr>\n",
       "    <tr>\n",
       "      <th>3</th>\n",
       "      <td>Fits well and great materials and construction</td>\n",
       "      <td>neutral</td>\n",
       "      <td>positive</td>\n",
       "    </tr>\n",
       "    <tr>\n",
       "      <th>4</th>\n",
       "      <td>I am replacing the original venture jacket. Th...</td>\n",
       "      <td>neutral</td>\n",
       "      <td>positive</td>\n",
       "    </tr>\n",
       "    <tr>\n",
       "      <th>6</th>\n",
       "      <td>The jacket looks to be well made and did a gre...</td>\n",
       "      <td>neutral</td>\n",
       "      <td>positive</td>\n",
       "    </tr>\n",
       "    <tr>\n",
       "      <th>7</th>\n",
       "      <td>Exactly what I ordered! The product is outstan...</td>\n",
       "      <td>neutral</td>\n",
       "      <td>positive</td>\n",
       "    </tr>\n",
       "    <tr>\n",
       "      <th>8</th>\n",
       "      <td>very lightweight weatherproof shell. the mater...</td>\n",
       "      <td>neutral</td>\n",
       "      <td>positive</td>\n",
       "    </tr>\n",
       "    <tr>\n",
       "      <th>10</th>\n",
       "      <td>This is a must have if you are in a rainy area...</td>\n",
       "      <td>neutral</td>\n",
       "      <td>positive</td>\n",
       "    </tr>\n",
       "    <tr>\n",
       "      <th>11</th>\n",
       "      <td>very wet rainy season this year, so had ample ...</td>\n",
       "      <td>neutral</td>\n",
       "      <td>positive</td>\n",
       "    </tr>\n",
       "    <tr>\n",
       "      <th>12</th>\n",
       "      <td>Fits well and great materials and construction</td>\n",
       "      <td>neutral</td>\n",
       "      <td>positive</td>\n",
       "    </tr>\n",
       "  </tbody>\n",
       "</table>\n",
       "</div>"
      ],
      "text/plain": [
       "                                             contents polarity  \\\n",
       "0   This is a must have if you are in a rainy area...  neutral   \n",
       "1   very wet rainy season this year, so had ample ...  neutral   \n",
       "3      Fits well and great materials and construction  neutral   \n",
       "4   I am replacing the original venture jacket. Th...  neutral   \n",
       "6   The jacket looks to be well made and did a gre...  neutral   \n",
       "7   Exactly what I ordered! The product is outstan...  neutral   \n",
       "8   very lightweight weatherproof shell. the mater...  neutral   \n",
       "10  This is a must have if you are in a rainy area...  neutral   \n",
       "11  very wet rainy season this year, so had ample ...  neutral   \n",
       "12     Fits well and great materials and construction  neutral   \n",
       "\n",
       "   vader_prediction  \n",
       "0          positive  \n",
       "1          positive  \n",
       "3          positive  \n",
       "4          positive  \n",
       "6          positive  \n",
       "7          positive  \n",
       "8          positive  \n",
       "10         positive  \n",
       "11         positive  \n",
       "12         positive  "
      ]
     },
     "execution_count": 267,
     "metadata": {},
     "output_type": "execute_result"
    }
   ],
   "source": [
    "def format_output(output_dict):\n",
    "  \n",
    "  polarity = \"neutral\"\n",
    "\n",
    "  if(output_dict['compound']>= 0.05):\n",
    "    polarity = \"positive\"\n",
    "\n",
    "  elif(output_dict['compound']<= -0.05):\n",
    "    polarity = \"negative\"\n",
    "\n",
    "  return polarity\n",
    "\n",
    "def predict_sentiment(text):\n",
    "  \n",
    "  output_dict =  sia.polarity_scores(text)\n",
    "  return format_output(output_dict)\n",
    "\n",
    "# Run the predictions\n",
    "vaders_new_final_polarity[\"vader_prediction\"] = vaders_new_final_polarity[\"contents\"].apply(predict_sentiment)\n",
    "\n",
    "# Show 10 random rows of the data\n",
    "vaders_new_final_polarity.head(10)"
   ]
  },
  {
   "cell_type": "code",
   "execution_count": 268,
   "id": "b40d62cb",
   "metadata": {},
   "outputs": [
    {
     "name": "stdout",
     "output_type": "stream",
     "text": [
      "Accuracy: 0.37152428810720267\n",
      "\n",
      "              precision    recall  f1-score   support\n",
      "\n",
      "    negative       0.04      0.09      0.06        58\n",
      "     neutral       0.89      0.07      0.12      1950\n",
      "    positive       0.36      1.00      0.53       977\n",
      "\n",
      "    accuracy                           0.37      2985\n",
      "   macro avg       0.43      0.38      0.24      2985\n",
      "weighted avg       0.70      0.37      0.25      2985\n",
      "\n"
     ]
    }
   ],
   "source": [
    "from sklearn.metrics import accuracy_score, classification_report\n",
    "\n",
    "accuracy = accuracy_score(vaders_new_final_polarity['polarity'], vaders_new_final_polarity['vader_prediction'])\n",
    "\n",
    "print(\"Accuracy: {}\\n\".format(accuracy))\n",
    "\n",
    "# Show the classification report\n",
    "print(classification_report(vaders_new_final_polarity['polarity'], vaders_new_final_polarity['vader_prediction']))"
   ]
  },
  {
   "cell_type": "code",
   "execution_count": null,
   "id": "471e43a7",
   "metadata": {},
   "outputs": [],
   "source": []
  },
  {
   "cell_type": "code",
   "execution_count": null,
   "id": "f45d66e7",
   "metadata": {},
   "outputs": [],
   "source": []
  }
 ],
 "metadata": {
  "kernelspec": {
   "display_name": "Python 3 (ipykernel)",
   "language": "python",
   "name": "python3"
  },
  "language_info": {
   "codemirror_mode": {
    "name": "ipython",
    "version": 3
   },
   "file_extension": ".py",
   "mimetype": "text/x-python",
   "name": "python",
   "nbconvert_exporter": "python",
   "pygments_lexer": "ipython3",
   "version": "3.9.12"
  }
 },
 "nbformat": 4,
 "nbformat_minor": 5
}
